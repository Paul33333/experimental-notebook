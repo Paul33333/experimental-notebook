{
  "cells": [
    {
      "cell_type": "markdown",
      "metadata": {
        "id": "view-in-github",
        "colab_type": "text"
      },
      "source": [
        "<a href=\"https://colab.research.google.com/github/Paul33333/experimental-notebook/blob/main/Let's_verify_step_by_step_within_streaming_generation.ipynb\" target=\"_parent\"><img src=\"https://colab.research.google.com/assets/colab-badge.svg\" alt=\"Open In Colab\"/></a>"
      ]
    },
    {
      "cell_type": "markdown",
      "source": [
        "# 说明\n",
        "\n",
        "---\n",
        "\n",
        "## 【背景】：\n",
        "- 我们知道，大语言模型是一个**快系统**(作为对比的，AlphaGO是一个慢系统）；\n",
        "\n",
        "\n",
        "> 解释：大语言模型可能在某一个token采样时不够走运（采样到一个不太好的token），然后就“多米诺效应”地让接下来的token采样沿着“**死胡同**”走下去（每个最新token的采样都被前序token采样结果所困），最后导致模型回复效果不好；与人显著不同的是，人可以中止或者从坏的采样中恢复，但语言模型只会**继续这个自回归生成序列**（即使它知道这个序列效果不好）；人必须提示它做检查（即添加新对话，人提出错误，然后它重新回复），它才会纠正错误，重新生成；\n",
        "\n",
        "---\n",
        "\n",
        "## 【创新点】：\n",
        "我们要做的范式改变就是：为其在**输出过程**中实施**过程监督**（**添加思考、反思**）；\n",
        "\n",
        "其对生成过程中的每段输出文本执行监督任务（比如判断该段回答是否正确、是否价值观正确、rag场景下判断这段文本引用了哪篇参考资料等），如果判断为有误，那么这段输出的文本就被舍弃掉，回滚至上一状态重新这个自回归生成任务。\n",
        "\n",
        "其显著不同于结果监督，**过程监督**VS**结果监督**的区别请参阅：\n",
        "- [Improving mathematical reasoning with process supervision](https://openai.com/index/improving-mathematical-reasoning-with-process-supervision/)\n",
        "- [Generative Verifiers: Reward Modeling as\n",
        "Next-Token Prediction\n",
        "](https://arxiv.org/pdf/2408.15240)\n",
        "> ![Generative Verifiers_Reward Modeling as.png](https://github.com/Paul33333/tinymind-blog/blob/main/assets/images/2024-11-08/1731032871010.png?raw=true \"Generative Verifiers: Reward Modeling as Next-Token Prediction 原理\")\n",
        "> ![generative llm as verifier 用途_强化训练之过程监督.png](https://github.com/Paul33333/tinymind-blog/blob/main/assets/images/2024-11-08/1731034211354.png?raw=true)\n",
        "- [【Generative LLM as Verifiers】推理加速篇：早停法+复用KV缓存+并行推理，实现推理效率提升几十倍](https://zhuanlan.zhihu.com/p/5838444410)\n",
        "\n",
        "\n",
        "还里有一个简单的例子代入理解**结果监督**和**过程监督**的区别，请参看这份提示词(来自[宝玉老师](https://baoyu.io/blog/prompt-engineering/translator-gpt-prompt-v2))：\n",
        "\n",
        "[翻译任务之直译+反思+意译工作流](https://kimi.moonshot.cn/share/ct2jtqh1jfdahgsa6mpg)\n",
        "\n",
        "该工作流就是一个典型的**结果监督**（直译完了然后**整体**进行反思）\n",
        "\n",
        "如果是**过程监督**的话，应该是在直译的流式过程中，每翻译完一段后，就进行反思及再生成（如有误，就回滚再生成）\n",
        "\n",
        "---\n",
        "\n",
        "## 【方案】：\n",
        "本文中介绍的**过程监督**方案继承自本人于[【Generative LLM as Verifiers】推理加速篇：早停法+复用KV缓存+并行推理，实现推理效率提升几十倍](https://zhuanlan.zhihu.com/p/5838444410)介绍的方案；\n",
        "\n",
        "流程总览：\n",
        "> ![流程图.png](https://mermaid.ink/img/pako:eNqNlduO2jAQhl_Fyk2kCm56iShSSpcVUndVAaq0barKiidgkdjImVTQXd69PuRE4izlCme-f2b8Z2K_BolkEMyCAinCF073iubTPx9jQfTv54dfZDpdkM8lz9jyQHEtTiWSGdkiVUgeQYCiyKVweA8zyrXgyGnG_8I3qjMDgioc7ItYyfIAyXHFVYE7eQRRFQEWV1Vsp6MUmc-Tg-QJLBYOHwVNrXrVxgu9O7siaJZESCT7toW7GZdSIBclrJTMv9IK6eWkmQLKLt28LrOvHZP04YyKJthU2oJAEAlU_XhLvq_rWjlGkVdHteS62MEZH_ITXgY-23faidv6grUzok1wEdTMuMa6q4W1cc9STKGnu3pmoZF4B6CJmhJRksAJI8FeOGRM11gXJJy_8fw3CPa2CMd030Hx9NLYY3pDoiXutd721GMHVto4T6wzGyjKDL2OerB2B51Ooiwj4bMM7yrtriJEY6mZ9UhcSPgCRTjubEN7nW2iJvsG6pnu9tboyRM9j0lXUiUw3FeNLD45cbe7TfS4o8Vx0Fcvi23MoS7uK3UDOaxO39i2gRSUoZccra_GQE2RNnVXY6erNy0tPbDZk91ruIezI8FY_WBbpik_64otsZKlYPeTDFtuc9QtDwsNlDV6m-5_Dvfep2kk5hKamaNkcN_cHi8VW72H4SC-dyAGkyAHlVPO9FVov9U4wAPkEAcz_ZdBSvUHFAexuGqUlii3F5EEM1QlTILyxNrLs34IjKNUT-52tZfsJDhR8UNKjaQ0KzSjZLk_VKvrP1iFjKw?type=png)\n"
      ],
      "metadata": {
        "id": "cnC1H3HYaWs2"
      }
    },
    {
      "cell_type": "markdown",
      "source": [
        "上图渲染展示不清晰，该流程图对应的可视化的mermaid代码如下：\n",
        "```\n",
        "stateDiagram-v2\n",
        "    [*] --> BuildChatInput : Start Generation\n",
        "    BuildChatInput --> InitializeParameters\n",
        "    InitializeParameters --> CheckFirstTokenGenerated\n",
        "\n",
        "    state CheckFirstTokenGenerated <<choice>>\n",
        "    CheckFirstTokenGenerated --> GenerateFirstTokens : First token not generated\n",
        "    CheckFirstTokenGenerated --> ContinueFromLastToken : First token already generated\n",
        "\n",
        "    GenerateFirstTokens --> ExtractGeneratedSentence\n",
        "    ContinueFromLastToken --> ExtractGeneratedSentence\n",
        "\n",
        "    state ExtractGeneratedSentence {\n",
        "        state IsTextEmpty <<choice>>\n",
        "        IsTextEmpty --> EndGeneration : Empty text\n",
        "        IsTextEmpty --> CheckEndToken : Non-empty text\n",
        "    }\n",
        "\n",
        "    state CheckEndToken <<choice>>\n",
        "    CheckEndToken --> AcceptAndYield : Is '<|im_end|>'\n",
        "    CheckEndToken --> VerifySentence : Not end token\n",
        "\n",
        "    state VerifySentence {\n",
        "        state VerificationResult <<choice>>\n",
        "        VerificationResult --> AcceptSentence : All 'No'\n",
        "        VerificationResult --> CheckAttempts : Any 'Yes'\n",
        "    }\n",
        "\n",
        "    state CheckAttempts <<choice>>\n",
        "    CheckAttempts --> RegenerateSentence : Attempts < Max\n",
        "    CheckAttempts --> ForceAcceptSentence : Attempts >= Max\n",
        "\n",
        "    state RAGTask <<choice>>\n",
        "    AcceptSentence --> RAGTask\n",
        "    ForceAcceptSentence --> RAGTask\n",
        "\n",
        "    RAGTask --> CheckReferenceCitations : RAG Task\n",
        "    RAGTask --> YieldSentence : Not RAG Task\n",
        "\n",
        "    state CheckReferenceCitations <<choice>>\n",
        "    CheckReferenceCitations --> AddCitationSuffix : Citations Found\n",
        "    CheckReferenceCitations --> YieldSentence : No Citations\n",
        "\n",
        "    AddCitationSuffix --> YieldSentence\n",
        "\n",
        "    YieldSentence --> CheckFirstTokenGenerated\n",
        "\n",
        "    AcceptAndYield --> [*] : End Generation\n",
        "    EndGeneration --> [*]\n",
        "    RegenerateSentence --> ExtractGeneratedSentence\n",
        "```\n",
        "\n",
        "可将该代码复制到\n",
        "https://mermaid.live/edit#pako:eNqNVV2L2zAQ_CvCL4ZyeemjSQNuejkC7VGSULjWRxHSOhGxpSCvS9K7---V5M_Y8qV5irwzs6PxWnoJmOIQREGBFOGLoHtN89mfj4kk5vfrwzOZzRbkcykyvjxQXMtTiSQiW6QayQNI0BSFkhV8ALPMtRQoaCb-wndqlAFBFxXYV3GU5QHYcSV0gTt1BFk3AZ7UXZzTSRSZz9lBCQaLRQWfBNpezaqrF2Z3bkXQLolUSPadhZuKSyVRyBJWWuVfaQ0ZaNJMA-WXvm6l7LNjRe_PqCnDttMWJIJkUPvxtnyf149yCkVeKlSHXBc7OON9fsLLKGf3Tnt111_ybkZMCFUFDWaa49I1xCa4RyVnMOC9eWahpXgHoK3aFjFjcMJY8icBGTc91gUJ568i_w2Svy7CKd4P0CK9tPFYb0gMpXqt154G2FGUri6YS2YDRZmhN1EPrNtBz0mcZSR8VOFNpttVjGgjtbMeywsJn6AIp5Nt0d5k26pV30Az031vLZ98o-cp6kppBuN9NZDFp4rcd7eJH3a0OI58DVScsQpa1X2trkAVrJFvY9tACtqilwJdrjZAgyKddJ_jpmswLR16FLNH3Ru4B-dGgvPmwbZMU3E2HTvESpWS3xYZW-40GsvjRiNmA72W-5_DffBpWoq9hCJ7lIzum-vjpcbW72E8iO8diMFdkIPOqeDmKnTfahLgAXJIgsj85ZBS8wElQSLfDJSWqLYXyYIIdQl3gVbl_hBEKc0KsypPvLtK26cnKn8q1azf_gEmAYZi\n",
        "上查看"
      ],
      "metadata": {
        "id": "MT1YwyKggGZ-"
      }
    },
    {
      "cell_type": "code",
      "source": [],
      "metadata": {
        "id": "L6o2kQgugEbi"
      },
      "execution_count": null,
      "outputs": []
    },
    {
      "cell_type": "markdown",
      "source": [
        "### 安装相关包"
      ],
      "metadata": {
        "id": "1XJe53mzNaJl"
      }
    },
    {
      "cell_type": "code",
      "execution_count": null,
      "metadata": {
        "colab": {
          "base_uri": "https://localhost:8080/"
        },
        "id": "TrjQSZluCEAg",
        "outputId": "417df4b7-b385-413b-8237-ca5072c89a73"
      },
      "outputs": [
        {
          "output_type": "stream",
          "name": "stdout",
          "text": [
            "Collecting transformers==4.37.0\n",
            "  Downloading transformers-4.37.0-py3-none-any.whl.metadata (129 kB)\n",
            "\u001b[?25l     \u001b[90m━━━━━━━━━━━━━━━━━━━━━━━━━━━━━━━━━━━━━━━━\u001b[0m \u001b[32m0.0/129.4 kB\u001b[0m \u001b[31m?\u001b[0m eta \u001b[36m-:--:--\u001b[0m\r\u001b[2K     \u001b[90m━━━━━━━━━━━━━━━━━━━━━━━━━━━━━━━━━━━━━━━━\u001b[0m \u001b[32m129.4/129.4 kB\u001b[0m \u001b[31m8.8 MB/s\u001b[0m eta \u001b[36m0:00:00\u001b[0m\n",
            "\u001b[?25hRequirement already satisfied: filelock in /usr/local/lib/python3.10/dist-packages (from transformers==4.37.0) (3.16.1)\n",
            "Requirement already satisfied: huggingface-hub<1.0,>=0.19.3 in /usr/local/lib/python3.10/dist-packages (from transformers==4.37.0) (0.26.2)\n",
            "Requirement already satisfied: numpy>=1.17 in /usr/local/lib/python3.10/dist-packages (from transformers==4.37.0) (1.26.4)\n",
            "Requirement already satisfied: packaging>=20.0 in /usr/local/lib/python3.10/dist-packages (from transformers==4.37.0) (24.2)\n",
            "Requirement already satisfied: pyyaml>=5.1 in /usr/local/lib/python3.10/dist-packages (from transformers==4.37.0) (6.0.2)\n",
            "Requirement already satisfied: regex!=2019.12.17 in /usr/local/lib/python3.10/dist-packages (from transformers==4.37.0) (2024.9.11)\n",
            "Requirement already satisfied: requests in /usr/local/lib/python3.10/dist-packages (from transformers==4.37.0) (2.32.3)\n",
            "Collecting tokenizers<0.19,>=0.14 (from transformers==4.37.0)\n",
            "  Downloading tokenizers-0.15.2-cp310-cp310-manylinux_2_17_x86_64.manylinux2014_x86_64.whl.metadata (6.7 kB)\n",
            "Requirement already satisfied: safetensors>=0.3.1 in /usr/local/lib/python3.10/dist-packages (from transformers==4.37.0) (0.4.5)\n",
            "Requirement already satisfied: tqdm>=4.27 in /usr/local/lib/python3.10/dist-packages (from transformers==4.37.0) (4.66.6)\n",
            "Requirement already satisfied: fsspec>=2023.5.0 in /usr/local/lib/python3.10/dist-packages (from huggingface-hub<1.0,>=0.19.3->transformers==4.37.0) (2024.10.0)\n",
            "Requirement already satisfied: typing-extensions>=3.7.4.3 in /usr/local/lib/python3.10/dist-packages (from huggingface-hub<1.0,>=0.19.3->transformers==4.37.0) (4.12.2)\n",
            "Requirement already satisfied: charset-normalizer<4,>=2 in /usr/local/lib/python3.10/dist-packages (from requests->transformers==4.37.0) (3.4.0)\n",
            "Requirement already satisfied: idna<4,>=2.5 in /usr/local/lib/python3.10/dist-packages (from requests->transformers==4.37.0) (3.10)\n",
            "Requirement already satisfied: urllib3<3,>=1.21.1 in /usr/local/lib/python3.10/dist-packages (from requests->transformers==4.37.0) (2.2.3)\n",
            "Requirement already satisfied: certifi>=2017.4.17 in /usr/local/lib/python3.10/dist-packages (from requests->transformers==4.37.0) (2024.8.30)\n",
            "Downloading transformers-4.37.0-py3-none-any.whl (8.4 MB)\n",
            "\u001b[2K   \u001b[90m━━━━━━━━━━━━━━━━━━━━━━━━━━━━━━━━━━━━━━━━\u001b[0m \u001b[32m8.4/8.4 MB\u001b[0m \u001b[31m70.1 MB/s\u001b[0m eta \u001b[36m0:00:00\u001b[0m\n",
            "\u001b[?25hDownloading tokenizers-0.15.2-cp310-cp310-manylinux_2_17_x86_64.manylinux2014_x86_64.whl (3.6 MB)\n",
            "\u001b[2K   \u001b[90m━━━━━━━━━━━━━━━━━━━━━━━━━━━━━━━━━━━━━━━━\u001b[0m \u001b[32m3.6/3.6 MB\u001b[0m \u001b[31m76.4 MB/s\u001b[0m eta \u001b[36m0:00:00\u001b[0m\n",
            "\u001b[?25hInstalling collected packages: tokenizers, transformers\n",
            "  Attempting uninstall: tokenizers\n",
            "    Found existing installation: tokenizers 0.20.3\n",
            "    Uninstalling tokenizers-0.20.3:\n",
            "      Successfully uninstalled tokenizers-0.20.3\n",
            "  Attempting uninstall: transformers\n",
            "    Found existing installation: transformers 4.46.2\n",
            "    Uninstalling transformers-4.46.2:\n",
            "      Successfully uninstalled transformers-4.46.2\n",
            "\u001b[31mERROR: pip's dependency resolver does not currently take into account all the packages that are installed. This behaviour is the source of the following dependency conflicts.\n",
            "sentence-transformers 3.2.1 requires transformers<5.0.0,>=4.41.0, but you have transformers 4.37.0 which is incompatible.\u001b[0m\u001b[31m\n",
            "\u001b[0mSuccessfully installed tokenizers-0.15.2 transformers-4.37.0\n",
            "Collecting optimum\n",
            "  Downloading optimum-1.23.3-py3-none-any.whl.metadata (20 kB)\n",
            "Collecting coloredlogs (from optimum)\n",
            "  Downloading coloredlogs-15.0.1-py2.py3-none-any.whl.metadata (12 kB)\n",
            "Requirement already satisfied: sympy in /usr/local/lib/python3.10/dist-packages (from optimum) (1.13.1)\n",
            "Requirement already satisfied: transformers>=4.29 in /usr/local/lib/python3.10/dist-packages (from optimum) (4.37.0)\n",
            "Requirement already satisfied: torch>=1.11 in /usr/local/lib/python3.10/dist-packages (from optimum) (2.5.1+cu121)\n",
            "Requirement already satisfied: packaging in /usr/local/lib/python3.10/dist-packages (from optimum) (24.2)\n",
            "Requirement already satisfied: numpy in /usr/local/lib/python3.10/dist-packages (from optimum) (1.26.4)\n",
            "Requirement already satisfied: huggingface-hub>=0.8.0 in /usr/local/lib/python3.10/dist-packages (from optimum) (0.26.2)\n",
            "Collecting datasets (from optimum)\n",
            "  Downloading datasets-3.1.0-py3-none-any.whl.metadata (20 kB)\n",
            "Requirement already satisfied: filelock in /usr/local/lib/python3.10/dist-packages (from huggingface-hub>=0.8.0->optimum) (3.16.1)\n",
            "Requirement already satisfied: fsspec>=2023.5.0 in /usr/local/lib/python3.10/dist-packages (from huggingface-hub>=0.8.0->optimum) (2024.10.0)\n",
            "Requirement already satisfied: pyyaml>=5.1 in /usr/local/lib/python3.10/dist-packages (from huggingface-hub>=0.8.0->optimum) (6.0.2)\n",
            "Requirement already satisfied: requests in /usr/local/lib/python3.10/dist-packages (from huggingface-hub>=0.8.0->optimum) (2.32.3)\n",
            "Requirement already satisfied: tqdm>=4.42.1 in /usr/local/lib/python3.10/dist-packages (from huggingface-hub>=0.8.0->optimum) (4.66.6)\n",
            "Requirement already satisfied: typing-extensions>=3.7.4.3 in /usr/local/lib/python3.10/dist-packages (from huggingface-hub>=0.8.0->optimum) (4.12.2)\n",
            "Requirement already satisfied: networkx in /usr/local/lib/python3.10/dist-packages (from torch>=1.11->optimum) (3.4.2)\n",
            "Requirement already satisfied: jinja2 in /usr/local/lib/python3.10/dist-packages (from torch>=1.11->optimum) (3.1.4)\n",
            "Requirement already satisfied: mpmath<1.4,>=1.1.0 in /usr/local/lib/python3.10/dist-packages (from sympy->optimum) (1.3.0)\n",
            "Requirement already satisfied: regex!=2019.12.17 in /usr/local/lib/python3.10/dist-packages (from transformers>=4.29->optimum) (2024.9.11)\n",
            "Requirement already satisfied: tokenizers<0.19,>=0.14 in /usr/local/lib/python3.10/dist-packages (from transformers>=4.29->optimum) (0.15.2)\n",
            "Requirement already satisfied: safetensors>=0.3.1 in /usr/local/lib/python3.10/dist-packages (from transformers>=4.29->optimum) (0.4.5)\n",
            "Collecting humanfriendly>=9.1 (from coloredlogs->optimum)\n",
            "  Downloading humanfriendly-10.0-py2.py3-none-any.whl.metadata (9.2 kB)\n",
            "Requirement already satisfied: pyarrow>=15.0.0 in /usr/local/lib/python3.10/dist-packages (from datasets->optimum) (17.0.0)\n",
            "Collecting dill<0.3.9,>=0.3.0 (from datasets->optimum)\n",
            "  Downloading dill-0.3.8-py3-none-any.whl.metadata (10 kB)\n",
            "Requirement already satisfied: pandas in /usr/local/lib/python3.10/dist-packages (from datasets->optimum) (2.2.2)\n",
            "Collecting xxhash (from datasets->optimum)\n",
            "  Downloading xxhash-3.5.0-cp310-cp310-manylinux_2_17_x86_64.manylinux2014_x86_64.whl.metadata (12 kB)\n",
            "Collecting multiprocess<0.70.17 (from datasets->optimum)\n",
            "  Downloading multiprocess-0.70.16-py310-none-any.whl.metadata (7.2 kB)\n",
            "Collecting fsspec>=2023.5.0 (from huggingface-hub>=0.8.0->optimum)\n",
            "  Downloading fsspec-2024.9.0-py3-none-any.whl.metadata (11 kB)\n",
            "Requirement already satisfied: aiohttp in /usr/local/lib/python3.10/dist-packages (from datasets->optimum) (3.11.2)\n",
            "Requirement already satisfied: aiohappyeyeballs>=2.3.0 in /usr/local/lib/python3.10/dist-packages (from aiohttp->datasets->optimum) (2.4.3)\n",
            "Requirement already satisfied: aiosignal>=1.1.2 in /usr/local/lib/python3.10/dist-packages (from aiohttp->datasets->optimum) (1.3.1)\n",
            "Requirement already satisfied: attrs>=17.3.0 in /usr/local/lib/python3.10/dist-packages (from aiohttp->datasets->optimum) (24.2.0)\n",
            "Requirement already satisfied: frozenlist>=1.1.1 in /usr/local/lib/python3.10/dist-packages (from aiohttp->datasets->optimum) (1.5.0)\n",
            "Requirement already satisfied: multidict<7.0,>=4.5 in /usr/local/lib/python3.10/dist-packages (from aiohttp->datasets->optimum) (6.1.0)\n",
            "Requirement already satisfied: propcache>=0.2.0 in /usr/local/lib/python3.10/dist-packages (from aiohttp->datasets->optimum) (0.2.0)\n",
            "Requirement already satisfied: yarl<2.0,>=1.17.0 in /usr/local/lib/python3.10/dist-packages (from aiohttp->datasets->optimum) (1.17.2)\n",
            "Requirement already satisfied: async-timeout<6.0,>=4.0 in /usr/local/lib/python3.10/dist-packages (from aiohttp->datasets->optimum) (4.0.3)\n",
            "Requirement already satisfied: charset-normalizer<4,>=2 in /usr/local/lib/python3.10/dist-packages (from requests->huggingface-hub>=0.8.0->optimum) (3.4.0)\n",
            "Requirement already satisfied: idna<4,>=2.5 in /usr/local/lib/python3.10/dist-packages (from requests->huggingface-hub>=0.8.0->optimum) (3.10)\n",
            "Requirement already satisfied: urllib3<3,>=1.21.1 in /usr/local/lib/python3.10/dist-packages (from requests->huggingface-hub>=0.8.0->optimum) (2.2.3)\n",
            "Requirement already satisfied: certifi>=2017.4.17 in /usr/local/lib/python3.10/dist-packages (from requests->huggingface-hub>=0.8.0->optimum) (2024.8.30)\n",
            "Requirement already satisfied: MarkupSafe>=2.0 in /usr/local/lib/python3.10/dist-packages (from jinja2->torch>=1.11->optimum) (3.0.2)\n",
            "Requirement already satisfied: python-dateutil>=2.8.2 in /usr/local/lib/python3.10/dist-packages (from pandas->datasets->optimum) (2.8.2)\n",
            "Requirement already satisfied: pytz>=2020.1 in /usr/local/lib/python3.10/dist-packages (from pandas->datasets->optimum) (2024.2)\n",
            "Requirement already satisfied: tzdata>=2022.7 in /usr/local/lib/python3.10/dist-packages (from pandas->datasets->optimum) (2024.2)\n",
            "Requirement already satisfied: six>=1.5 in /usr/local/lib/python3.10/dist-packages (from python-dateutil>=2.8.2->pandas->datasets->optimum) (1.16.0)\n",
            "Downloading optimum-1.23.3-py3-none-any.whl (424 kB)\n",
            "\u001b[2K   \u001b[90m━━━━━━━━━━━━━━━━━━━━━━━━━━━━━━━━━━━━━━━━\u001b[0m \u001b[32m424.1/424.1 kB\u001b[0m \u001b[31m30.4 MB/s\u001b[0m eta \u001b[36m0:00:00\u001b[0m\n",
            "\u001b[?25hDownloading coloredlogs-15.0.1-py2.py3-none-any.whl (46 kB)\n",
            "\u001b[2K   \u001b[90m━━━━━━━━━━━━━━━━━━━━━━━━━━━━━━━━━━━━━━━━\u001b[0m \u001b[32m46.0/46.0 kB\u001b[0m \u001b[31m3.7 MB/s\u001b[0m eta \u001b[36m0:00:00\u001b[0m\n",
            "\u001b[?25hDownloading datasets-3.1.0-py3-none-any.whl (480 kB)\n",
            "\u001b[2K   \u001b[90m━━━━━━━━━━━━━━━━━━━━━━━━━━━━━━━━━━━━━━━━\u001b[0m \u001b[32m480.6/480.6 kB\u001b[0m \u001b[31m35.9 MB/s\u001b[0m eta \u001b[36m0:00:00\u001b[0m\n",
            "\u001b[?25hDownloading dill-0.3.8-py3-none-any.whl (116 kB)\n",
            "\u001b[2K   \u001b[90m━━━━━━━━━━━━━━━━━━━━━━━━━━━━━━━━━━━━━━━━\u001b[0m \u001b[32m116.3/116.3 kB\u001b[0m \u001b[31m12.5 MB/s\u001b[0m eta \u001b[36m0:00:00\u001b[0m\n",
            "\u001b[?25hDownloading fsspec-2024.9.0-py3-none-any.whl (179 kB)\n",
            "\u001b[2K   \u001b[90m━━━━━━━━━━━━━━━━━━━━━━━━━━━━━━━━━━━━━━━━\u001b[0m \u001b[32m179.3/179.3 kB\u001b[0m \u001b[31m17.9 MB/s\u001b[0m eta \u001b[36m0:00:00\u001b[0m\n",
            "\u001b[?25hDownloading humanfriendly-10.0-py2.py3-none-any.whl (86 kB)\n",
            "\u001b[2K   \u001b[90m━━━━━━━━━━━━━━━━━━━━━━━━━━━━━━━━━━━━━━━━\u001b[0m \u001b[32m86.8/86.8 kB\u001b[0m \u001b[31m8.5 MB/s\u001b[0m eta \u001b[36m0:00:00\u001b[0m\n",
            "\u001b[?25hDownloading multiprocess-0.70.16-py310-none-any.whl (134 kB)\n",
            "\u001b[2K   \u001b[90m━━━━━━━━━━━━━━━━━━━━━━━━━━━━━━━━━━━━━━━━\u001b[0m \u001b[32m134.8/134.8 kB\u001b[0m \u001b[31m12.1 MB/s\u001b[0m eta \u001b[36m0:00:00\u001b[0m\n",
            "\u001b[?25hDownloading xxhash-3.5.0-cp310-cp310-manylinux_2_17_x86_64.manylinux2014_x86_64.whl (194 kB)\n",
            "\u001b[2K   \u001b[90m━━━━━━━━━━━━━━━━━━━━━━━━━━━━━━━━━━━━━━━━\u001b[0m \u001b[32m194.1/194.1 kB\u001b[0m \u001b[31m17.6 MB/s\u001b[0m eta \u001b[36m0:00:00\u001b[0m\n",
            "\u001b[?25hInstalling collected packages: xxhash, humanfriendly, fsspec, dill, multiprocess, coloredlogs, datasets, optimum\n",
            "  Attempting uninstall: fsspec\n",
            "    Found existing installation: fsspec 2024.10.0\n",
            "    Uninstalling fsspec-2024.10.0:\n",
            "      Successfully uninstalled fsspec-2024.10.0\n",
            "\u001b[31mERROR: pip's dependency resolver does not currently take into account all the packages that are installed. This behaviour is the source of the following dependency conflicts.\n",
            "gcsfs 2024.10.0 requires fsspec==2024.10.0, but you have fsspec 2024.9.0 which is incompatible.\n",
            "sentence-transformers 3.2.1 requires transformers<5.0.0,>=4.41.0, but you have transformers 4.37.0 which is incompatible.\u001b[0m\u001b[31m\n",
            "\u001b[0mSuccessfully installed coloredlogs-15.0.1 datasets-3.1.0 dill-0.3.8 fsspec-2024.9.0 humanfriendly-10.0 multiprocess-0.70.16 optimum-1.23.3 xxhash-3.5.0\n",
            "Collecting auto-gptq\n",
            "  Downloading auto_gptq-0.7.1-cp310-cp310-manylinux_2_17_x86_64.manylinux2014_x86_64.whl.metadata (18 kB)\n",
            "Requirement already satisfied: accelerate>=0.26.0 in /usr/local/lib/python3.10/dist-packages (from auto-gptq) (1.1.1)\n",
            "Requirement already satisfied: datasets in /usr/local/lib/python3.10/dist-packages (from auto-gptq) (3.1.0)\n",
            "Requirement already satisfied: sentencepiece in /usr/local/lib/python3.10/dist-packages (from auto-gptq) (0.2.0)\n",
            "Requirement already satisfied: numpy in /usr/local/lib/python3.10/dist-packages (from auto-gptq) (1.26.4)\n",
            "Collecting rouge (from auto-gptq)\n",
            "  Downloading rouge-1.0.1-py3-none-any.whl.metadata (4.1 kB)\n",
            "Collecting gekko (from auto-gptq)\n",
            "  Downloading gekko-1.2.1-py3-none-any.whl.metadata (3.0 kB)\n",
            "Requirement already satisfied: torch>=1.13.0 in /usr/local/lib/python3.10/dist-packages (from auto-gptq) (2.5.1+cu121)\n",
            "Requirement already satisfied: safetensors in /usr/local/lib/python3.10/dist-packages (from auto-gptq) (0.4.5)\n",
            "Requirement already satisfied: transformers>=4.31.0 in /usr/local/lib/python3.10/dist-packages (from auto-gptq) (4.37.0)\n",
            "Requirement already satisfied: peft>=0.5.0 in /usr/local/lib/python3.10/dist-packages (from auto-gptq) (0.13.2)\n",
            "Requirement already satisfied: tqdm in /usr/local/lib/python3.10/dist-packages (from auto-gptq) (4.66.6)\n",
            "Requirement already satisfied: huggingface-hub>=0.21.0 in /usr/local/lib/python3.10/dist-packages (from accelerate>=0.26.0->auto-gptq) (0.26.2)\n",
            "Requirement already satisfied: packaging>=20.0 in /usr/local/lib/python3.10/dist-packages (from accelerate>=0.26.0->auto-gptq) (24.2)\n",
            "Requirement already satisfied: psutil in /usr/local/lib/python3.10/dist-packages (from accelerate>=0.26.0->auto-gptq) (5.9.5)\n",
            "Requirement already satisfied: pyyaml in /usr/local/lib/python3.10/dist-packages (from accelerate>=0.26.0->auto-gptq) (6.0.2)\n",
            "Requirement already satisfied: filelock in /usr/local/lib/python3.10/dist-packages (from torch>=1.13.0->auto-gptq) (3.16.1)\n",
            "Requirement already satisfied: typing-extensions>=4.8.0 in /usr/local/lib/python3.10/dist-packages (from torch>=1.13.0->auto-gptq) (4.12.2)\n",
            "Requirement already satisfied: networkx in /usr/local/lib/python3.10/dist-packages (from torch>=1.13.0->auto-gptq) (3.4.2)\n",
            "Requirement already satisfied: jinja2 in /usr/local/lib/python3.10/dist-packages (from torch>=1.13.0->auto-gptq) (3.1.4)\n",
            "Requirement already satisfied: fsspec in /usr/local/lib/python3.10/dist-packages (from torch>=1.13.0->auto-gptq) (2024.9.0)\n",
            "Requirement already satisfied: sympy==1.13.1 in /usr/local/lib/python3.10/dist-packages (from torch>=1.13.0->auto-gptq) (1.13.1)\n",
            "Requirement already satisfied: mpmath<1.4,>=1.1.0 in /usr/local/lib/python3.10/dist-packages (from sympy==1.13.1->torch>=1.13.0->auto-gptq) (1.3.0)\n",
            "Requirement already satisfied: regex!=2019.12.17 in /usr/local/lib/python3.10/dist-packages (from transformers>=4.31.0->auto-gptq) (2024.9.11)\n",
            "Requirement already satisfied: requests in /usr/local/lib/python3.10/dist-packages (from transformers>=4.31.0->auto-gptq) (2.32.3)\n",
            "Requirement already satisfied: tokenizers<0.19,>=0.14 in /usr/local/lib/python3.10/dist-packages (from transformers>=4.31.0->auto-gptq) (0.15.2)\n",
            "Requirement already satisfied: pyarrow>=15.0.0 in /usr/local/lib/python3.10/dist-packages (from datasets->auto-gptq) (17.0.0)\n",
            "Requirement already satisfied: dill<0.3.9,>=0.3.0 in /usr/local/lib/python3.10/dist-packages (from datasets->auto-gptq) (0.3.8)\n",
            "Requirement already satisfied: pandas in /usr/local/lib/python3.10/dist-packages (from datasets->auto-gptq) (2.2.2)\n",
            "Requirement already satisfied: xxhash in /usr/local/lib/python3.10/dist-packages (from datasets->auto-gptq) (3.5.0)\n",
            "Requirement already satisfied: multiprocess<0.70.17 in /usr/local/lib/python3.10/dist-packages (from datasets->auto-gptq) (0.70.16)\n",
            "Requirement already satisfied: aiohttp in /usr/local/lib/python3.10/dist-packages (from datasets->auto-gptq) (3.11.2)\n",
            "Requirement already satisfied: six in /usr/local/lib/python3.10/dist-packages (from rouge->auto-gptq) (1.16.0)\n",
            "Requirement already satisfied: aiohappyeyeballs>=2.3.0 in /usr/local/lib/python3.10/dist-packages (from aiohttp->datasets->auto-gptq) (2.4.3)\n",
            "Requirement already satisfied: aiosignal>=1.1.2 in /usr/local/lib/python3.10/dist-packages (from aiohttp->datasets->auto-gptq) (1.3.1)\n",
            "Requirement already satisfied: attrs>=17.3.0 in /usr/local/lib/python3.10/dist-packages (from aiohttp->datasets->auto-gptq) (24.2.0)\n",
            "Requirement already satisfied: frozenlist>=1.1.1 in /usr/local/lib/python3.10/dist-packages (from aiohttp->datasets->auto-gptq) (1.5.0)\n",
            "Requirement already satisfied: multidict<7.0,>=4.5 in /usr/local/lib/python3.10/dist-packages (from aiohttp->datasets->auto-gptq) (6.1.0)\n",
            "Requirement already satisfied: propcache>=0.2.0 in /usr/local/lib/python3.10/dist-packages (from aiohttp->datasets->auto-gptq) (0.2.0)\n",
            "Requirement already satisfied: yarl<2.0,>=1.17.0 in /usr/local/lib/python3.10/dist-packages (from aiohttp->datasets->auto-gptq) (1.17.2)\n",
            "Requirement already satisfied: async-timeout<6.0,>=4.0 in /usr/local/lib/python3.10/dist-packages (from aiohttp->datasets->auto-gptq) (4.0.3)\n",
            "Requirement already satisfied: charset-normalizer<4,>=2 in /usr/local/lib/python3.10/dist-packages (from requests->transformers>=4.31.0->auto-gptq) (3.4.0)\n",
            "Requirement already satisfied: idna<4,>=2.5 in /usr/local/lib/python3.10/dist-packages (from requests->transformers>=4.31.0->auto-gptq) (3.10)\n",
            "Requirement already satisfied: urllib3<3,>=1.21.1 in /usr/local/lib/python3.10/dist-packages (from requests->transformers>=4.31.0->auto-gptq) (2.2.3)\n",
            "Requirement already satisfied: certifi>=2017.4.17 in /usr/local/lib/python3.10/dist-packages (from requests->transformers>=4.31.0->auto-gptq) (2024.8.30)\n",
            "Requirement already satisfied: MarkupSafe>=2.0 in /usr/local/lib/python3.10/dist-packages (from jinja2->torch>=1.13.0->auto-gptq) (3.0.2)\n",
            "Requirement already satisfied: python-dateutil>=2.8.2 in /usr/local/lib/python3.10/dist-packages (from pandas->datasets->auto-gptq) (2.8.2)\n",
            "Requirement already satisfied: pytz>=2020.1 in /usr/local/lib/python3.10/dist-packages (from pandas->datasets->auto-gptq) (2024.2)\n",
            "Requirement already satisfied: tzdata>=2022.7 in /usr/local/lib/python3.10/dist-packages (from pandas->datasets->auto-gptq) (2024.2)\n",
            "Downloading auto_gptq-0.7.1-cp310-cp310-manylinux_2_17_x86_64.manylinux2014_x86_64.whl (23.5 MB)\n",
            "\u001b[2K   \u001b[90m━━━━━━━━━━━━━━━━━━━━━━━━━━━━━━━━━━━━━━━━\u001b[0m \u001b[32m23.5/23.5 MB\u001b[0m \u001b[31m85.1 MB/s\u001b[0m eta \u001b[36m0:00:00\u001b[0m\n",
            "\u001b[?25hDownloading gekko-1.2.1-py3-none-any.whl (13.2 MB)\n",
            "\u001b[2K   \u001b[90m━━━━━━━━━━━━━━━━━━━━━━━━━━━━━━━━━━━━━━━━\u001b[0m \u001b[32m13.2/13.2 MB\u001b[0m \u001b[31m95.3 MB/s\u001b[0m eta \u001b[36m0:00:00\u001b[0m\n",
            "\u001b[?25hDownloading rouge-1.0.1-py3-none-any.whl (13 kB)\n",
            "Installing collected packages: rouge, gekko, auto-gptq\n",
            "Successfully installed auto-gptq-0.7.1 gekko-1.2.1 rouge-1.0.1\n"
          ]
        }
      ],
      "source": [
        "!pip install transformers==4.37.0 # 最新版本的4.46版`transformers`包会报错，原因待排查，先用老版本\n",
        "!pip install optimum # 如果加载的是`gptq`量化版本，需此\n",
        "!pip install auto-gptq # # 如果加载的是`gptq`量化版本，需此"
      ]
    },
    {
      "cell_type": "code",
      "source": [
        "# 安装flash attention\n",
        "!pip install flash-attn --no-build-isolation"
      ],
      "metadata": {
        "colab": {
          "base_uri": "https://localhost:8080/"
        },
        "id": "8P0VY_krsQJe",
        "outputId": "0d32ee17-f53d-4f4b-dde0-1223265d51c0"
      },
      "execution_count": null,
      "outputs": [
        {
          "output_type": "stream",
          "name": "stdout",
          "text": [
            "Requirement already satisfied: flash-attn in /usr/local/lib/python3.10/dist-packages (2.7.0.post2)\n",
            "Requirement already satisfied: torch in /usr/local/lib/python3.10/dist-packages (from flash-attn) (2.5.1+cu121)\n",
            "Requirement already satisfied: einops in /usr/local/lib/python3.10/dist-packages (from flash-attn) (0.8.0)\n",
            "Requirement already satisfied: filelock in /usr/local/lib/python3.10/dist-packages (from torch->flash-attn) (3.16.1)\n",
            "Requirement already satisfied: typing-extensions>=4.8.0 in /usr/local/lib/python3.10/dist-packages (from torch->flash-attn) (4.12.2)\n",
            "Requirement already satisfied: networkx in /usr/local/lib/python3.10/dist-packages (from torch->flash-attn) (3.4.2)\n",
            "Requirement already satisfied: jinja2 in /usr/local/lib/python3.10/dist-packages (from torch->flash-attn) (3.1.4)\n",
            "Requirement already satisfied: fsspec in /usr/local/lib/python3.10/dist-packages (from torch->flash-attn) (2024.9.0)\n",
            "Requirement already satisfied: sympy==1.13.1 in /usr/local/lib/python3.10/dist-packages (from torch->flash-attn) (1.13.1)\n",
            "Requirement already satisfied: mpmath<1.4,>=1.1.0 in /usr/local/lib/python3.10/dist-packages (from sympy==1.13.1->torch->flash-attn) (1.3.0)\n",
            "Requirement already satisfied: MarkupSafe>=2.0 in /usr/local/lib/python3.10/dist-packages (from jinja2->torch->flash-attn) (3.0.2)\n"
          ]
        }
      ]
    },
    {
      "cell_type": "markdown",
      "source": [
        "### 定义函数"
      ],
      "metadata": {
        "id": "M0D_31KMNV8l"
      }
    },
    {
      "cell_type": "code",
      "execution_count": null,
      "metadata": {
        "id": "N4ZHOIF15WER"
      },
      "outputs": [],
      "source": [
        "import torch\n",
        "import torch.nn.functional as F\n",
        "from transformers import AutoModelForCausalLM, AutoTokenizer, StoppingCriteria, StoppingCriteriaList\n",
        "import logging\n",
        "import numpy as np\n",
        "from typing import List, Dict, Tuple, Generator, Optional, Union, Optional\n",
        "import re\n",
        "\n",
        "# Set up logging\n",
        "logging.basicConfig(level=logging.INFO)\n",
        "logger = logging.getLogger(__name__)\n",
        "\n",
        "class answer_speculative_decoding:\n",
        "    \"\"\"\n",
        "    版本3： 统一各计算方式中的计算口径：一致忽略对齐聊天模版时answer尾缀后补的'<im_end>'和'\\n'这两个token，不将其token's prob纳入考虑\n",
        "    \"\"\"\n",
        "    def __init__(self, model, tokenizer, device:str='cuda'):\n",
        "        self.model = model\n",
        "        self.tokenizer = tokenizer\n",
        "        self.device = device\n",
        "\n",
        "    def softmax(self, x):\n",
        "        \"\"\"Compute softmax values for each sets of scores in x.\"\"\"\n",
        "        return np.exp(x) / np.sum(np.exp(x), axis=0)\n",
        "\n",
        "    def empty_cache(self):\n",
        "        torch.cuda.empty_cache()\n",
        "        torch.cuda.ipc_collect()\n",
        "\n",
        "    def pad_operation(self, x:torch.tensor, max_dim:int, value:int):\n",
        "        return torch.nn.functional.pad(x, (0, max_dim - x.shape[1]), mode='constant', value=value)\n",
        "\n",
        "    # 用于KV缓存复制：为了批量推理，复用多次question_past_kv_cache以并行推理，需要我们扩充kv_cache以对齐形状，具体通过expand函数实现，注意因为question_past_kv_cache为元组数据(不可变的数据结构)，不便直接更改，此处选择新建一个kv缓存，注意这并不会增加显存占用\n",
        "    def kv_cache_expand(self, expand_num: int, past_kv_cache: Tuple[Tuple[torch.Tensor, torch.Tensor], ...]) -> Tuple[Tuple[torch.Tensor, torch.Tensor], ...]:\n",
        "        \"\"\"\n",
        "        扩展 KV 缓存以支持批量推理。\n",
        "\n",
        "        参数:\n",
        "        - expand_num: 扩展的批量大小倍数。\n",
        "        - past_kv_cache: 输入的 KV 缓存，是一个元组，其中每个元素是一个包含两个张量的元组（分别表示 Key 和 Value）。\n",
        "\n",
        "        返回:\n",
        "        - 扩展后的 KV 缓存，形状为 (batch_size * expand_num, num_heads, sequence_length, head_size)。\n",
        "        \"\"\"\n",
        "        if not past_kv_cache:\n",
        "            raise ValueError(\"past_kv_cache 不能为空\")\n",
        "\n",
        "        # 获取 KV 缓存的形状信息\n",
        "        batch_size = past_kv_cache[0][0].shape[0]\n",
        "        num_heads = past_kv_cache[0][0].shape[1]\n",
        "        sequence_length = past_kv_cache[0][0].shape[2]\n",
        "        head_size = past_kv_cache[0][0].shape[3]\n",
        "\n",
        "        # 创建新的 KV 缓存\n",
        "        expanded_kv_cache = []\n",
        "        for layer_kv_tuple in past_kv_cache:\n",
        "            if len(layer_kv_tuple) != 2:\n",
        "                raise ValueError(\"每个层的 KV 缓存应包含两个张量（Key 和 Value）\")\n",
        "\n",
        "            key_tensor, value_tensor = layer_kv_tuple\n",
        "            if key_tensor.shape != value_tensor.shape:\n",
        "                raise ValueError(\"Key 和 Value 张量的形状应一致\")\n",
        "\n",
        "            expanded_key = key_tensor.expand(batch_size * expand_num, num_heads, sequence_length, head_size)\n",
        "            expanded_value = value_tensor.expand(batch_size * expand_num, num_heads, sequence_length, head_size)\n",
        "            expanded_kv_cache.append((expanded_key, expanded_value))\n",
        "\n",
        "        return tuple(expanded_kv_cache)\n",
        "\n",
        "    # 返回标签的概率及最大标签等信息\n",
        "    def return_probability(self, label_list:List[str], probability_list:List[float]):\n",
        "        return_dict = {}\n",
        "        return_dict['label_prob'] = sorted({label:prob for label, prob in zip(label_list, probability_list)}.items(), key=lambda x: x[1], reverse=True)\n",
        "        return_dict['label_prob_normalized'] = sorted({label:prob for label, prob in zip(label_list, self.softmax(probability_list))}.items(), key=lambda x: x[1], reverse=True)\n",
        "        return_dict['label'] = return_dict['label_prob'][0][0]\n",
        "        return_dict['probability'] = return_dict['label_prob'][0][1]\n",
        "        return_dict['probability_normalized'] = return_dict['label_prob_normalized'][0][1]\n",
        "\n",
        "        return return_dict\n",
        "\n",
        "    ## 使用“早停法”+ \"kv cache\" + \"batch inference\" 应对 multi task parrellel inference任务\n",
        "    # multi task with one article，整体时间复杂度o(2)\n",
        "    def MultiTask_batch_decode_using_KVcache_and_EarlyStop(self, past_KVcache: Tuple[Tuple[torch.Tensor, torch.Tensor], ...], task: Dict[str, List[str]], prefix_prompt: str=\"\\n***\\n{...剩余回答...}<|im_end|>\\n<|im_start|>user\\n\", temperature:float=1):\n",
        "        \"\"\"\n",
        "        task为dict字典数据类型，其中\n",
        "        - key为每个任务task:str\n",
        "        - value 为每个任务的多个候选标签：List[str]\n",
        "        ------\n",
        "        整体的时间复杂度为o(2)\n",
        "        \"\"\"\n",
        "        #然后为了Multi task的batch并行推理，对kv cache进行复制expand\n",
        "        past_kv_cache_expand = self.kv_cache_expand(len(task.keys()), past_KVcache)\n",
        "\n",
        "        # 再获得每个task问题的对应的token id,记得尾缀后补'<|im_end|>\\n<|im_start|>assistant\\n'以对齐user问题部分的聊天模板\n",
        "        questions_inputids = list(map(lambda x: self.tokenizer(prefix_prompt+ x + '<|im_end|>\\n<|im_start|>assistant\\n', return_tensors=\"pt\").input_ids.to(self.device), task.keys()))\n",
        "        # question tokenid lens填充pad token对齐长度\n",
        "        max_dim = max([i.size()[-1] for i in questions_inputids])\n",
        "        questions_inputids_padded = torch.concat(list(map(lambda x: self.pad_operation(x, max_dim, self.model.generation_config.eos_token_id[-1]), questions_inputids)))\n",
        "\n",
        "        # 然后使用早停法+并行推理，一次性地完成多个任务的多个标签的概率推理，具体如下：\n",
        "        with torch.no_grad():\n",
        "            batch_answers_logits = self.model(questions_inputids_padded, past_key_values=past_kv_cache_expand).logits\n",
        "\n",
        "        MultiTask_result = {}\n",
        "\n",
        "        for task_index in range(len(list(task.keys()))):\n",
        "            ith_task_question, ith_task_answer_list =  list(task.keys())[task_index], list(task.values())[task_index]\n",
        "            # 查看回答侧的第一个输出的token id\n",
        "            first_token_in_answers = torch.tensor(list(map(lambda x: self.tokenizer(x)['input_ids'][0], ith_task_answer_list))).to(self.device)\n",
        "            # 确保每个答案标签的first token都不一致\n",
        "            assert torch.unique(first_token_in_answers).shape[0] == first_token_in_answers.shape[0], f\"候选答案的标签存在first token相同的情况，需要确保每个候选答案的first token都不同，请检查你的候选答案：{ith_task_answer_list}\"\n",
        "            # 找到回答侧的第一个输出的token前一位的位置坐标\n",
        "            first_answer_token_index = torch.where(questions_inputids_padded[task_index]==self.tokenizer.encode('\\n')[0])[0][-1].item() #找到最后一个'\\n'该token的元素位置\n",
        "            answer_first_token_logit = batch_answers_logits[task_index, first_answer_token_index, :]\n",
        "            # 使用“早停法”（只考虑第一个输出token的概率）判断预测标签及概率\n",
        "            answer_first_token_probs_list = torch.gather(torch.nn.functional.softmax(answer_first_token_logit/temperature, dim=-1), dim=-1, index=first_token_in_answers).tolist()\n",
        "            MultiTask_result[ith_task_question] = self.return_probability(ith_task_answer_list, answer_first_token_probs_list)\n",
        "\n",
        "        return  MultiTask_result\n",
        "\n",
        "        self.empty_cache()\n",
        "\n",
        "##################################################################\n",
        "\n",
        "\n",
        "class RegexStoppingCriteria(StoppingCriteria):\n",
        "    def __init__(self, tokenizer, regex_patterns):\n",
        "        self.regex_patterns = regex_patterns\n",
        "        # self.refusal_patterns = refusal_patterns\n",
        "        self.tokenizer = tokenizer\n",
        "\n",
        "    def __call__(self, input_ids: torch.LongTensor, scores: torch.FloatTensor, **kwargs) -> bool:\n",
        "        if kwargs:\n",
        "            min_len = kwargs.pop('min_len', 10)\n",
        "        else:\n",
        "            min_len = 10\n",
        "\n",
        "        decoded_text = self.tokenizer.decode(input_ids[0])\n",
        "\n",
        "        # Check if the decoded text matches any of the regex patterns and longer than the min_lens condition\n",
        "        for pattern in self.regex_patterns:\n",
        "            if re.search(pattern, decoded_text): #and input_ids.shape[-1] >= min_len\n",
        "                # Check if the decoded text does not match any of the refusal patterns\n",
        "                # for refusal_pattern in self.refusal_patterns:\n",
        "                #     if re.search(refusal_pattern, decoded_text):\n",
        "                #         return False\n",
        "                return True\n",
        "        return False\n",
        "\n",
        "class StreamingVerifier:\n",
        "\n",
        "    def __init__(self, model, tokenizer, verifier_model=None, verifier_tokenizer=None, device=None):\n",
        "        self.model = model\n",
        "        self.tokenizer = tokenizer\n",
        "        self.verifier_model = verifier_model or model\n",
        "        self.verifier_tokenizer = verifier_tokenizer or tokenizer\n",
        "        self.device = device if device else ('cuda' if torch.cuda.is_available() else 'cpu')\n",
        "        self.model.to(self.device)\n",
        "        self.verifier_model.to(self.device)\n",
        "        self.answer_verifier = answer_speculative_decoding(self.verifier_model, self.verifier_tokenizer)\n",
        "\n",
        "    def build_chat_input(self, prompt: str) -> str:\n",
        "        \"\"\"\n",
        "        Builds the chat input according to the chat template.\n",
        "        \"\"\"\n",
        "        # Manually construct the conversation text\n",
        "        system_prompt = \"You are a helpful assistant\"\n",
        "        system_role = \"<|im_start|>system\\n\"\n",
        "        user_role = \"<|im_start|>user\\n\"\n",
        "        assistant_role = \"<|im_start|>assistant\\n\"\n",
        "\n",
        "        # Start with the system prompt\n",
        "        chat_input = f\"{system_role}{system_prompt}<|im_end|>\\n\"\n",
        "        # Add the user's message\n",
        "        chat_input += f\"{user_role}{prompt}<|im_end|>\\n\"\n",
        "        # Add theassistant's generation template\n",
        "        chat_input += f\"{assistant_role}\"\n",
        "\n",
        "        return chat_input\n",
        "\n",
        "    def empty_cache(self):\n",
        "        torch.cuda.empty_cache()\n",
        "        torch.cuda.ipc_collect()\n",
        "\n",
        "    def verify_sentence(self, past_KVcache: Tuple[Tuple[torch.Tensor, torch.Tensor], ...], task: Dict[str, List[str]]) -> Dict:\n",
        "        \"\"\"\n",
        "        递归验证当前已有回答的准确性\n",
        "        task模板如下：\n",
        "        task = {\n",
        "            \"【Judge】: Is that partial answer correct? please answer \\\"yes\\\" or \\\"no\\\" first and then explain\": [\"Yes\", \"No\"], # 准确性\n",
        "            \"【Judge】: Is that partial answer aligned with the user's question topic? please answer \\\"yes\\\" or \\\"no\\\" first and then explain\": [\"Yes\", \"No\"], # 对齐性（对齐问题）\n",
        "        }\n",
        "        \"\"\"\n",
        "        result = self.answer_verifier.MultiTask_batch_decode_using_KVcache_and_EarlyStop(\n",
        "            past_KVcache,\n",
        "            task,\n",
        "            temperature=0.7\n",
        "        )\n",
        "        return result\n",
        "\n",
        "    def slice_kv_cache(self, cache_unit, selected_tokens, inplace=True):\n",
        "        \"\"\"\n",
        "        从KV缓存中截取指定数量的token对应的缓存\n",
        "\n",
        "        参数:\n",
        "            cache_unit: shape为(batch_size, num_heads, seq_len, head_dim)的key/value缓存\n",
        "            selected_tokens: 需要保留的前token数量\n",
        "            inplace: 如果为True,返回视图;如果为False,返回副本\n",
        "\n",
        "        返回:\n",
        "            根据inplace参数返回视图或副本\n",
        "        \"\"\"\n",
        "        if not isinstance(cache_unit, torch.Tensor):\n",
        "            raise TypeError(\"cache_unit must be a torch.Tensor\")\n",
        "\n",
        "        seq_len = cache_unit.size(2)\n",
        "        if selected_tokens > seq_len:\n",
        "            raise ValueError(f\"selected_tokens ({selected_tokens}) cannot be larger than sequence length ({seq_len})\")\n",
        "        # 使用narrow操作并确保内存连续性，不会创建新的存储\n",
        "        sliced = cache_unit.narrow(2, 0, selected_tokens)\n",
        "        return sliced if inplace else sliced.clone()\n",
        "\n",
        "    def cut_KVcache(self, past_KVcache: Tuple[Tuple[torch.Tensor, torch.Tensor], ...], selected_KVcache_token_lens: int) -> Tuple[Tuple[torch.Tensor, torch.Tensor], ...]:\n",
        "        # 添加参数检查\n",
        "        if selected_KVcache_token_lens <= 0:\n",
        "            raise ValueError(f\"selected_KVcache_token_lens must be positive, got {selected_KVcache_token_lens}\")\n",
        "\n",
        "        if not past_KVcache:\n",
        "            raise ValueError(\"past_KVcache is empty\")\n",
        "\n",
        "        # # 打印关键信息\n",
        "        # print(f\"Selected token length: {selected_KVcache_token_lens}\")\n",
        "        # print(f\"KV cache length: {len(past_KVcache)}\")\n",
        "        # print(f\"First cache unit shape: {past_KVcache[0][0].shape}\")\n",
        "\n",
        "        return tuple([(\n",
        "            self.slice_kv_cache(i[0], selected_KVcache_token_lens),\n",
        "            self.slice_kv_cache(i[1], selected_KVcache_token_lens)\n",
        "        ) for i in past_KVcache])\n",
        "\n",
        "    def generate_with_verification(self, prompt: str, verify_task: Dict[str, List[str]], temperature: float = 0.7, top_p: float = 0.9, max_attempts: int = 3, rag_task:bool=False, rag_retrivel_data:Optional[List[Dict[str, str]]]=None):\n",
        "        \"\"\"\n",
        "        Generates text with verification after each sentence.\n",
        "        ---\n",
        "        verify_task样例数据：\n",
        "        {\n",
        "            \"请判断上面这份你的回答**是否违反**社会主义核心价值观，请先直接回答“是”或“否”，然后再详细解释\": [\"是\", \"否\"], # 准确性\n",
        "            \"请检查上面这份你的回答（仅考虑{剩余回答}前面的部分）**是否存在错误**，请先直接回答“是”或“否”，然后再详细解释\": [\"是\", \"否\"],  # 对齐性（对齐问题）\n",
        "            \"请检查上面这份你的回答（仅考虑{剩余回答}前面的部分）**是否跑题**，请先直接回答“是”或“否”，然后再详细解释\": [\"是\", \"否\"],  # 对齐性（对齐问题）\n",
        "        }\n",
        "        ---\n",
        "        rag_retrivel_data样例数据：\n",
        "        [{\n",
        "            \"text_chunk\": \"此外，冷藏室采用多点离子杀菌技术，实现了24小时全域主动式杀菌、除味、灭病毒，杀菌率高达99.99%，冷冻室则应用了T-fresh冷抑菌技术，主动吸附和分解异味，有效抑制细菌滋生。\\nTCL超级筒：重新定义洗衣新标准\\n与TCLT9Pro双系统超薄平嵌冰箱并驾齐驱的TCL超级筒洗衣机，在技术创新方面展现出了非凡的实力。这款洗衣机采用了540mm超大筒径设计，相较于传统510mm筒径，洗涤空间更大，衣物在洗涤过程中能够得到更充分的舒展与摔打，从而提升了洗涤效果与护衣能力。同时，TCL超级筒还升级了6个提升筋，实现了6D多维洗涤路径，让洗衣过程更加高效、彻底。\\n在智能化方面，TCL超级筒同样表现出色。其搭载的顽渍净Pro功能能够智能化匹配污渍种类，针对性瓦解多重顽渍，如混渍、油渍、妆渍、血渍、奶渍等，让衣物恢复如初。此外，TCL超级筒还配备了双模烘干技术，通过NTC智能传感技术实现双重低温/防皱烘干模式，满足不同材质衣物的烘干需求。而活水漂洗、DD直驱变频电机、巴氏除菌等技术的应用，更是让TCL超级筒在洁净度、能效比、除菌率等方面达到了行业领先水平。\",\n",
        "            \"url\": \"http://www.cheari.com/article.html?id=22126\",\n",
        "        },\n",
        "        {\n",
        "            \"text_chunk\": \"博西家电洗涤产品事业部高级副总裁Mr.ErikKruijer企业创新解决方案百花齐放，为洗护技术迭代升级不断注入动力，海信洗衣机最新推出的棉花糖洗烘套装系列凭借活水洗、三变频快速烘干技术，实现了1.259超高洗净比和高效专业的护理，在洗护领域树立了新的标杆，为消费者带来了前所未有的体验。TCL双子舱洗烘护集成机是集洗烘护功能于一身的“全能选手”，高效节能同时避免衣物损伤;创维电器深耕DD直驱技术，并推出超薄全嵌洗衣机等产品，满足用户对颜值、洗护、健康高要求;康佳主推的超薄洗烘一体机搭载一键智慧洗、8H智慧新风等独特功能，更加适合当下年轻人的时尚特点;作为上游企业，海立为洗护产业技术升级的不断添砖加瓦，其打造的首台热泵专用压缩机等产品为用户高品质洗护生活助力。焕醒消费者，冲刺四季度以企业创新技术为引擎，借助以旧换新政策红利，洗护行业迎来四季度的冲刺期，在高峰论坛现场，企业代表及家装设计师、生活领域博主畅抒己见，为行业如何抓住当下机遇提供了很多建议。\",\n",
        "            \"url\": \"http://news.cheaa.com/2024/0927/641504.shtml\",\n",
        "        }]\n",
        "        ---\n",
        "        \"\"\"\n",
        "        # Build initial input\n",
        "        if rag_task:\n",
        "            # [f'$^{{[{i}]}}$\\n' + rag_retrivel_data[i]['text_chunk'].strip() for i in range(len(rag_retrivel_data))]\n",
        "            # [f'$^{{[{i}]}}$({rag_retrivel_data[i]['url']} {rag_retrivel_data[i]['data'].strip()})' for i in range(len(rag_retrivel_data))]\n",
        "            # rag_data = '\\n------\\n'.join([f'$^{{[{i+1}]}}$\\n'+rag_retrivel_data[i]['text_chunk'].strip() for i in range(len(rag_retrivel_data))])\n",
        "            rag_data = '\\n------\\n'.join([f'<$^{{[{i+1}]}}$>\\n'+rag_retrivel_data[i]['text_chunk'].strip()+'\\n'+ f'</$^{{[{i+1}]}}$>\\n' for i in range(len(rag_retrivel_data))])\n",
        "            prompt = f'请尽量先根据下面的多个参考文档来回答问题。\\n如果综合多个参考文档的信息也无法回答问题，再考虑自行回答。\\n【参考文档】：\\n\"\"\"\\n{rag_data}\\n\"\"\"\\n【问题】：\"\"\"{prompt}\"\"\"'\n",
        "        chat_input = self.build_chat_input(prompt)\n",
        "        inputs = self.tokenizer(chat_input, return_tensors=\"pt\").to(self.device)\n",
        "        # sentence_end_tokens = [tokenizer.encode(i)[0] for i in [\"。\", \"。\\n\", \"。\\n\\n\", \"！\", \"！\\n\", \"！\\n\\n\", \"\\n\\n\", '\\n', \"<|im_end|>\"]]\n",
        "        # Define regex patterns for sentence and paragraph endings\n",
        "        sentence_end_patterns = [\n",
        "            r\"[\\.。！？;；]\\s*\\n+$\",  # Matches sentence endings with full stops, exclamation marks, or question marks 至少要有一个换行符\n",
        "            #r\"[\\。；;]\\s*$\",  # Matches sentence endings with full stops, exclamation marks, or question marks\n",
        "            #r\"\\n\\n\\s*$\",      # Matches double newlines\n",
        "            # r'```(\\w+)?\\n([\\s\\S]*?)```\\s*\\n*$'  #旧版本\n",
        "            r'```(?:(\\w+)\\n)?([\\s\\S]*?)```\\s*$',\n",
        "            r\"<\\|im_end\\|\\>\\s*$\"  # Matches special end token,\n",
        "        ]\n",
        "\n",
        "        # # Define refusal patterns\n",
        "        # refusal_patterns = [\n",
        "        #     r\"[:：]\\s*$\",  # Matches colons or Chinese colons at the end of the text\n",
        "        #     r\"[,，]\\s*$\",  # Matches commas or Chinese commas at the end of the text\n",
        "        #     r\"\\|\\s*$\"  # Matches pipe symbol at the end of the text\n",
        "        # ]\n",
        "        have_first_token_generated = False\n",
        "\n",
        "        # Create the stopping criteria\n",
        "        stopping_criteria = StoppingCriteriaList([RegexStoppingCriteria(self.tokenizer, sentence_end_patterns)])\n",
        "\n",
        "        raw_final_output = \"\"\n",
        "        final_output = \"\"\n",
        "        max_length = 3000  # Maximum total tokens to generate\n",
        "\n",
        "        while len(raw_final_output) < max_length:\n",
        "            attempt = 0\n",
        "            sentence_generated = False\n",
        "\n",
        "            while attempt < max_attempts and not sentence_generated:\n",
        "                # Generate a sentence\n",
        "                if not have_first_token_generated:\n",
        "                    with torch.no_grad():\n",
        "                      outputs = self.model.generate(\n",
        "                          inputs['input_ids'],\n",
        "                          max_new_tokens=3000,\n",
        "                          stopping_criteria=stopping_criteria,\n",
        "                          do_sample=True,\n",
        "                          temperature=temperature,\n",
        "                          top_p=top_p,\n",
        "                          pad_token_id=self.tokenizer.eos_token_id,\n",
        "                          eos_token_id=self.tokenizer.eos_token_id,\n",
        "                          use_cache=True,\n",
        "                          return_dict_in_generate=True,\n",
        "                          output_scores=False,\n",
        "                      )\n",
        "                      self.empty_cache()\n",
        "\n",
        "                if have_first_token_generated:\n",
        "                    # 模拟在当前最后的这个token上继续续写生成任务\n",
        "                    # inputs = self.tokenizer(self.tokenizer.decode(input_ids[0][-1]), return_tensors=\"pt\").to(self.device) # old version: bugs...\n",
        "                    inputs = self.tokenizer(self.tokenizer.decode(input_ids[0][-1]), return_tensors=\"pt\").to(self.device)\n",
        "                    selected_KVcache_token_lens = past_KVcache[0][0].shape[2]-1\n",
        "                    past_key_values = self.cut_KVcache(past_KVcache, selected_KVcache_token_lens)\n",
        "                    # Include the tokens corresponding to the removed cache\n",
        "                    # 注意先修改attention_mask以对齐全文长度\n",
        "                    inputs['attention_mask'] = torch.ones(past_KVcache[0][0].shape[0], past_KVcache[0][0].shape[2], dtype=torch.int64, device=self.device)\n",
        "                    with torch.no_grad():\n",
        "                      outputs = self.model.generate(\n",
        "                          inputs['input_ids'],\n",
        "                          past_key_values = past_key_values, # using past KV 【but not enclude the last one!】\n",
        "                          attention_mask = inputs['attention_mask'],\n",
        "                          max_new_tokens=3000,\n",
        "                          stopping_criteria=stopping_criteria,\n",
        "                          do_sample=True,\n",
        "                          temperature=temperature,\n",
        "                          top_p=top_p,\n",
        "                          pad_token_id=self.tokenizer.eos_token_id,\n",
        "                          eos_token_id=self.tokenizer.eos_token_id,\n",
        "                          use_cache=True,\n",
        "                          return_dict_in_generate=True,\n",
        "                          output_scores=False,\n",
        "                      )\n",
        "                      self.empty_cache()\n",
        "\n",
        "                # Extract the generated sentence\n",
        "                generated_ids = outputs.sequences[0][inputs['input_ids'].shape[-1]:]\n",
        "                generated_text = self.tokenizer.decode(generated_ids, skip_special_tokens=False)\n",
        "                # Extract Past judge KVcache\n",
        "                past_judge_KVcache = outputs['past_key_values']\n",
        "\n",
        "\n",
        "                if not generated_text:\n",
        "                    # No text generated; end of generation\n",
        "                    break\n",
        "\n",
        "                if generated_text == \"<|im_end|>\":\n",
        "                    # just accept\n",
        "                    raw_final_output += generated_text\n",
        "                    final_output += generated_text\n",
        "                    input_ids = generated_ids.unsqueeze(0)\n",
        "                    sentence_generated = True\n",
        "                    have_first_token_generated = True\n",
        "                    past_KVcache = outputs['past_key_values']\n",
        "                    yield {\n",
        "                        \"sentence\": generated_text,\n",
        "                        \"verification\": True,\n",
        "                        \"is_complete_sentence\": True\n",
        "                    }\n",
        "                    break\n",
        "\n",
        "                # Verify the cumsum sentence\n",
        "                verification_result = self.verify_sentence(past_judge_KVcache, verify_task)\n",
        "                verification_result = list(verification_result.values())\n",
        "\n",
        "\n",
        "                if all(i['label'] == '否' for i in verification_result):\n",
        "                    # Sentence is verified\n",
        "                    raw_final_output += generated_text\n",
        "                    input_ids = generated_ids.unsqueeze(0)\n",
        "                    sentence_generated = True\n",
        "                    have_first_token_generated = True\n",
        "                    past_KVcache = outputs['past_key_values']\n",
        "\n",
        "                    # if rag_task, check which reference_data should cited\n",
        "                    if rag_task:\n",
        "\n",
        "                        rag_cite_verify_task = {k: v for k,v in zip([f'【问题】：请判断你上文中的这段回答：\\n```\\n{generated_text.strip()}\\n```\\n是否基于或引用了上述【参考文档】中的**第$^{{[{i+1}]}}$部分**\\n请先直接回答“是”或“否”，然后再解释' for i in range(len(rag_retrivel_data))], [['是', '否'] for i in range(len(rag_retrivel_data))])}\n",
        "\n",
        "                        rag_cite_verification_result = self.verify_sentence(past_KVcache, rag_cite_verify_task)\n",
        "                        rag_cite_verification_result = list(rag_cite_verification_result.values())\n",
        "\n",
        "                        # 没有找到引用来源，直接输出\n",
        "                        if all(i['label'] == '否' for i in rag_cite_verification_result):\n",
        "                            print('cite reference data failed')\n",
        "                            final_output += generated_text\n",
        "                            yield {\n",
        "                                    \"sentence\": generated_text,\n",
        "                                    \"verification\": verification_result,\n",
        "                                    \"is_complete_sentence\": True\n",
        "                                }\n",
        "\n",
        "                        # 找到了引用来源\n",
        "                        else:\n",
        "                            print('cite reference data succeed')\n",
        "                            cited_list = [f'[$^{{[{i+1}]}}$]'+ '(' + rag_retrivel_data[i]['url'] + ' ' + '\\\"' +  rag_retrivel_data[i]['text_chunk'].strip() + '\\\"' +')' for i in range(len(rag_retrivel_data)) if rag_cite_verification_result[i]['label'] == '是']\n",
        "                            # 最后引用5篇参考资料\n",
        "                            cite_suffix = ''.join(cited_list[:5])\n",
        "                            # 尾缀引用插入格式\n",
        "                            pattern = r\"([\\.。！？;；]|(?:```))\"\n",
        "                            matches = re.findall(pattern, generated_text)\n",
        "\n",
        "                            if matches:\n",
        "                                # 找到最后一个匹配的格式符号（比如句号。）\n",
        "                                last_match = matches[-1]\n",
        "                                # 首先，获取最后一个匹配的格式符前面的文本内容\n",
        "                                modified_text = generated_text[:generated_text.rfind(last_match)]\n",
        "                                # 然后，补充尾缀的引用溯源\n",
        "                                modified_text += f'{last_match}{cite_suffix}'\n",
        "                                # 最后，补充匹配的格式符（比如句号。）\n",
        "                                modified_text += generated_text[generated_text.rfind(last_match)+len(last_match):]\n",
        "                                generated_text =  modified_text\n",
        "                                final_output +=  generated_text\n",
        "                                yield {\n",
        "                                        \"sentence\": generated_text,\n",
        "                                        \"verification\": verification_result,\n",
        "                                        \"is_complete_sentence\": True\n",
        "                                    }\n",
        "\n",
        "                            else:\n",
        "                                final_output += generated_text\n",
        "                                yield {\n",
        "                                        \"sentence\": generated_text,\n",
        "                                        \"verification\": verification_result,\n",
        "                                        \"is_complete_sentence\": True\n",
        "                                    }\n",
        "\n",
        "                    else:\n",
        "                        final_output += generated_text\n",
        "                        yield {\n",
        "                                \"sentence\": generated_text,\n",
        "                                \"verification\": verification_result,\n",
        "                                \"is_complete_sentence\": True\n",
        "                            }\n",
        "\n",
        "\n",
        "                elif any(i['label'] == '是' for i in verification_result):\n",
        "                    attempt += 1\n",
        "                    # logger.info(f\"Sentence verification failed. Regenerating sentence. Attempt {attempt}/{max_attempts}\")\n",
        "                    print(f\"Sentence verification failed. Regenerating sentence. Attempt {attempt}/{max_attempts}\")\n",
        "                    # accpet sentence if reached maximum attempts\n",
        "                    if attempt >= max_attempts:\n",
        "                        # logger.info(\"Reached maximum attempts for this sentence. just accept last try.\")\n",
        "                        print(\"Reached maximum attempts for this sentence. just accept last try.\")\n",
        "                        raw_final_output += generated_text\n",
        "                        input_ids = generated_ids.unsqueeze(0)\n",
        "                        sentence_generated = True\n",
        "                        have_first_token_generated = True\n",
        "                        past_KVcache = outputs['past_key_values']\n",
        "\n",
        "\n",
        "                        # if rag_task, check which reference_data should cited\n",
        "                        if rag_task:\n",
        "\n",
        "                            rag_cite_verify_task = {k: v for k,v in zip([f'【问题】：请判断你于上文中的这段回答：\\n```\\n{generated_text.strip()}\\n```\\n是否基于或引用了上述参考资料中的**第$^{{[{i+1}]}}$部分**\\n请先直接回答“是”或“否”，然后再解释' for i in range(len(rag_retrivel_data))], [['是', '否'] for i in range(len(rag_retrivel_data))])}\n",
        "\n",
        "                            rag_cite_verification_result = self.verify_sentence(past_KVcache, rag_cite_verify_task)\n",
        "                            rag_cite_verification_result = list(rag_cite_verification_result.values())\n",
        "\n",
        "                            # 没有找到引用来源，直接输出\n",
        "                            if all(i['label'] == '否' for i in rag_cite_verification_result):\n",
        "                                print('cite reference data failed')\n",
        "                                final_output += generated_text\n",
        "                                yield {\n",
        "                                    \"sentence\": generated_text,\n",
        "                                    \"verification\": verification_result,\n",
        "                                    \"is_complete_sentence\": True\n",
        "                                        }\n",
        "\n",
        "                            # 找到了引用来源\n",
        "                            else:\n",
        "                                print('cite reference data succeed')\n",
        "                                cited_list = [f'[$^{{[{i+1}]}}$]'+ '(' + rag_retrivel_data[i]['url'] + ' ' + '\\\"' + rag_retrivel_data[i]['text_chunk'].strip()  + '\\\"' +')' for i in range(len(rag_retrivel_data)) if rag_cite_verification_result[i]['label'] == '是']\n",
        "                                # 最后引用5篇参考资料\n",
        "                                cite_suffix = ''.join(cited_list[:5])\n",
        "                                # 尾缀引用插入格式\n",
        "                                pattern = r\"([\\.。！？;；]|(?:```))\"\n",
        "                                matches = re.findall(pattern, generated_text)\n",
        "\n",
        "                                if matches:\n",
        "                                    # 找到最后一个匹配的格式符号（比如句号。）\n",
        "                                    last_match = matches[-1]\n",
        "\n",
        "                                    # 首先，获取最后一个匹配的格式符前面的文本内容\n",
        "                                    modified_text = generated_text[:generated_text.rfind(last_match)]\n",
        "                                    # 然后，补充尾缀的引用溯源\n",
        "                                    modified_text += f'{last_match}{cite_suffix}'\n",
        "                                    # 最后，补充匹配的格式符（比如句号。）\n",
        "                                    modified_text += generated_text[generated_text.rfind(last_match)+len(last_match):]\n",
        "                                    generated_text =  modified_text\n",
        "                                    final_output += gener m ated_text\n",
        "                                    yield {\n",
        "                                    \"sentence\": generated_text,\n",
        "                                    \"verification\": verification_result,\n",
        "                                    \"is_complete_sentence\": True\n",
        "                                    }\n",
        "\n",
        "                                else:\n",
        "                                    print('cite reference data failed too')\n",
        "                                    final_output += generated_text\n",
        "                                    yield {\n",
        "                                        \"sentence\": generated_text,\n",
        "                                        \"verification\": verification_result,\n",
        "                                        \"is_complete_sentence\": True\n",
        "                                        }\n",
        "\n",
        "                        else:\n",
        "                            raw_final_output += generated_text\n",
        "                            final_output += generated_text\n",
        "                            yield {\n",
        "                                        \"sentence\": generated_text,\n",
        "                                        \"verification\": verification_result,\n",
        "                                        \"is_complete_sentence\": True\n",
        "                                        }\n",
        "\n",
        "                # elif generated_text.endswith(\"<|im_end|>\"):\n",
        "                #     # just accept\n",
        "                #     final_output += generated_text\n",
        "                #     input_ids = generated_ids.unsqueeze(0)\n",
        "                #     sentence_generated = True\n",
        "                #     have_first_token_generated = True\n",
        "                #     past_KVcache = outputs['past_key_values']\n",
        "                #     yield {\n",
        "                #         \"sentence\": generated_text,\n",
        "                #         \"verification\": True,\n",
        "                #         \"is_complete_sentence\": True,\n",
        "                #         \"completed_all\": True\n",
        "                #     }\n",
        "                #     break\n",
        "\n",
        "                else:\n",
        "                    raw_final_output += generated_text\n",
        "                    final_output += generated_text\n",
        "                    input_ids = generated_ids.unsqueeze(0)\n",
        "                    sentence_generated = True\n",
        "                    have_first_token_generated = True\n",
        "                    past_KVcache = outputs['past_key_values']\n",
        "                    yield {\n",
        "                    \"sentence\": generated_text,\n",
        "                    \"verification\": True,\n",
        "                    \"is_complete_sentence\": True\n",
        "                    }\n",
        "                    break\n",
        "\n",
        "            if not sentence_generated:\n",
        "                # Unable to generate a valid sentence after max_attempts\n",
        "\n",
        "                logger.info(\"Unable to generate a valid sentence. Terminating generation.\")\n",
        "                print(f\"Unable to generate a valid sentence. Terminating generation.\")\n",
        "                break  # Terminate the generation process\n",
        "\n",
        "            if generated_text.endswith(\"<|im_end|>\"):\n",
        "                break\n",
        "\n",
        "        return final_output\n",
        "\n",
        "        self.empty_cache()"
      ]
    },
    {
      "cell_type": "markdown",
      "source": [
        "### 加载基座模型"
      ],
      "metadata": {
        "id": "EzvvmSdwMmqA"
      }
    },
    {
      "cell_type": "code",
      "execution_count": null,
      "metadata": {
        "colab": {
          "base_uri": "https://localhost:8080/",
          "height": 549,
          "referenced_widgets": [
            "7d46f92809294636a3cb0237ebc43977",
            "03b12b9c7d5f435995b574cce29780be",
            "5e195cb45df14e469adbc9faf1391c9b",
            "371da05f4b844f42a7cc032f5bf0772a",
            "111b6dd7522246e2b12a72298cca5bdf",
            "c7846ca79acb4b758468a31aa707fcfb",
            "32d25ae3475d4c6196c2b98c01a52640",
            "4aaa8ada49e242c28a1be8e8d390959a",
            "aea0eadf08804eff887110b565873ab3",
            "8491c34d30344ec6915defb61ee61731",
            "bcbce71faf864b079c29331f124f6ad9",
            "56568b54be35423282bbd439c4651b73",
            "1ff0b233db134689a1974a0227e57c51",
            "c8ed9075cafc4472aa6198d13aa99d9b",
            "136dd7eacbae45a097a23fc410f72eaf",
            "3125791d33d045ce9c8b79262cfcbffc",
            "8bb8415e8e1c4c5f89c351f941d14767",
            "4255a5713cee44af8dc0061ddd4a112b",
            "34e789a178904dceb7eecf8fcb4f950b",
            "78cf7f76bf22457db13d90e79318ce2a",
            "5a9765ecd6624c6094eca76417ef369d",
            "c068d9f290614448bc320f943788f4c8"
          ]
        },
        "id": "E-bnaCpe5w8a",
        "outputId": "d04c7b55-f037-414d-a50c-eb781ad6fccf"
      },
      "outputs": [
        {
          "output_type": "stream",
          "name": "stderr",
          "text": [
            "Special tokens have been added in the vocabulary, make sure the associated word embeddings are fine-tuned or trained.\n"
          ]
        },
        {
          "output_type": "display_data",
          "data": {
            "text/plain": [
              "Loading checkpoint shards:   0%|          | 0/5 [00:00<?, ?it/s]"
            ],
            "application/vnd.jupyter.widget-view+json": {
              "version_major": 2,
              "version_minor": 0,
              "model_id": "7d46f92809294636a3cb0237ebc43977"
            }
          },
          "metadata": {}
        },
        {
          "output_type": "display_data",
          "data": {
            "text/plain": [
              "generation_config.json:   0%|          | 0.00/243 [00:00<?, ?B/s]"
            ],
            "application/vnd.jupyter.widget-view+json": {
              "version_major": 2,
              "version_minor": 0,
              "model_id": "56568b54be35423282bbd439c4651b73"
            }
          },
          "metadata": {}
        },
        {
          "output_type": "execute_result",
          "data": {
            "text/plain": [
              "Qwen2ForCausalLM(\n",
              "  (model): Qwen2Model(\n",
              "    (embed_tokens): Embedding(152064, 5120)\n",
              "    (layers): ModuleList(\n",
              "      (0-63): 64 x Qwen2DecoderLayer(\n",
              "        (self_attn): Qwen2SdpaAttention(\n",
              "          (rotary_emb): Qwen2RotaryEmbedding()\n",
              "          (k_proj): QuantLinear()\n",
              "          (o_proj): QuantLinear()\n",
              "          (q_proj): QuantLinear()\n",
              "          (v_proj): QuantLinear()\n",
              "        )\n",
              "        (mlp): Qwen2MLP(\n",
              "          (act_fn): SiLU()\n",
              "          (down_proj): QuantLinear()\n",
              "          (gate_proj): QuantLinear()\n",
              "          (up_proj): QuantLinear()\n",
              "        )\n",
              "        (input_layernorm): Qwen2RMSNorm()\n",
              "        (post_attention_layernorm): Qwen2RMSNorm()\n",
              "      )\n",
              "    )\n",
              "    (norm): Qwen2RMSNorm()\n",
              "  )\n",
              "  (lm_head): Linear(in_features=5120, out_features=152064, bias=False)\n",
              ")"
            ]
          },
          "metadata": {},
          "execution_count": 4
        }
      ],
      "source": [
        "# Initialize the model and tokenizer\n",
        "model_name =  \"Qwen/Qwen2.5-32B-Instruct-GPTQ-Int4\" # \"Qwen/Qwen2.5-7B-Instruct-GPTQ-Int4\"\n",
        "tokenizer = AutoTokenizer.from_pretrained(model_name)\n",
        "model = AutoModelForCausalLM.from_pretrained(model_name, device_map=\"auto\", torch_dtype=\"auto\")#, attn_implementation=\"flash_attention_2\")\n",
        "model.eval()"
      ]
    },
    {
      "cell_type": "markdown",
      "source": [
        "### 加载定义的verify within generation(于大模型生成过程中实施**过程监督**)"
      ],
      "metadata": {
        "id": "gLPGM5gwMqvh"
      }
    },
    {
      "cell_type": "code",
      "execution_count": null,
      "metadata": {
        "id": "nKfBF3iuPtGu"
      },
      "outputs": [],
      "source": [
        "# Initialize the StreamingVerifier\n",
        "verifier = StreamingVerifier(model, tokenizer)"
      ]
    },
    {
      "cell_type": "markdown",
      "source": [
        "### 测试：自由问答任务（非RAG）"
      ],
      "metadata": {
        "id": "yfrbKZywMY5o"
      }
    },
    {
      "cell_type": "code",
      "source": [
        "from IPython.display import display, Markdown\n",
        "import time\n",
        "\n",
        "prompt = input('请输入问题：\\n')\n",
        "\n",
        "verify_task = {\n",
        "            \"请判断上面这份你的回答**是否违反**社会主义核心价值观，请先直接回答“是”或“否”，然后再详细解释\": [\"是\", \"否\"], # 准确性\n",
        "            \"请检查上面这份你的回答（仅考虑{剩余回答}前面的部分）**是否存在错误**，请先直接回答“是”或“否”，然后再详细解释\": [\"是\", \"否\"] # 对齐性（对齐问题）\n",
        "            # \"请检查上面这份你的回答（仅考虑{剩余回答}前面的部分）**是否跑题**，请先直接回答“是”或“否”，然后再详细解释\": [\"是\", \"否\"],  # 对齐性（对齐问题）\n",
        "        }\n",
        "\n",
        "display(Markdown('\\n\\n------\\n\\n'))\n",
        "# 初始化一个空字符串来存储最终输出\n",
        "final_output = \"\"\n",
        "start = time.time()\n",
        "# 迭代生成器，收集生成的句子\n",
        "for result in verifier.generate_with_verification(prompt, verify_task):\n",
        "    response = f\"【Generated Sentence】:\\n{result['sentence']}\"\n",
        "    display(Markdown(response))\n",
        "    display(Markdown('\\n'))\n",
        "    verification = f\"【Verification Result】:\\n{[i['label_prob'] for i in result['verification']]}\"\n",
        "    display(Markdown(verification))\n",
        "    display(Markdown(\"\\n***\\n\"))\n",
        "    # 将生成的句子添加到 final_output 中\n",
        "    final_output += result['sentence']\n",
        "\n",
        "# 在循环结束后，final_output 就包含了完整的生成文本\n",
        "display(Markdown(\"【Final Output】:\\n\"))\n",
        "display(Markdown(final_output.strip()))\n",
        "end= time.time()\n",
        "\n",
        "print(f'累计耗时{round(end-start, 3)}秒')\n",
        "torch.cuda.empty_cache()\n",
        "torch.cuda.ipc_collect()"
      ],
      "metadata": {
        "colab": {
          "base_uri": "https://localhost:8080/",
          "height": 648
        },
        "id": "t3W1gcaHMYMk",
        "outputId": "289be955-0434-4414-8d59-7f82f530edee"
      },
      "execution_count": null,
      "outputs": [
        {
          "name": "stdout",
          "output_type": "stream",
          "text": [
            "请输入问题：\n",
            "请帮我介绍下黎曼猜想\n"
          ]
        },
        {
          "output_type": "display_data",
          "data": {
            "text/plain": [
              "<IPython.core.display.Markdown object>"
            ],
            "text/markdown": "\n\n------\n\n"
          },
          "metadata": {}
        },
        {
          "output_type": "display_data",
          "data": {
            "text/plain": [
              "<IPython.core.display.Markdown object>"
            ],
            "text/markdown": "【Generated Sentence】:\n黎曼猜想是数学中的一个著名未解决问题，由德国数学家波恩哈德·黎曼在1859年提出。这个猜想与素数的分布密切相关。\n\n"
          },
          "metadata": {}
        },
        {
          "output_type": "display_data",
          "data": {
            "text/plain": [
              "<IPython.core.display.Markdown object>"
            ],
            "text/markdown": "\n"
          },
          "metadata": {}
        },
        {
          "output_type": "display_data",
          "data": {
            "text/plain": [
              "<IPython.core.display.Markdown object>"
            ],
            "text/markdown": "【Verification Result】:\n[[('否', 0.9999995231628418), ('是', 1.84587693061378e-19)], [('否', 1.0), ('是', 8.099688281193451e-11)]]"
          },
          "metadata": {}
        },
        {
          "output_type": "display_data",
          "data": {
            "text/plain": [
              "<IPython.core.display.Markdown object>"
            ],
            "text/markdown": "\n***\n"
          },
          "metadata": {}
        },
        {
          "output_type": "display_data",
          "data": {
            "text/plain": [
              "<IPython.core.display.Markdown object>"
            ],
            "text/markdown": "【Generated Sentence】:\n黎曼猜想的核心涉及到黎曼ζ函数的非平凡零点的位置。黎曼ζ函数是一个定义在复平面上的函数，记为ζ(s)，其中s是一个复数。这个函数最初是定义在实数域上，后来被解析延拓到整个复平面。黎曼ζ函数在数学中有着极其重要的地位，它与素数分布的关系尤为紧密。\n\n"
          },
          "metadata": {}
        },
        {
          "output_type": "display_data",
          "data": {
            "text/plain": [
              "<IPython.core.display.Markdown object>"
            ],
            "text/markdown": "\n"
          },
          "metadata": {}
        },
        {
          "output_type": "display_data",
          "data": {
            "text/plain": [
              "<IPython.core.display.Markdown object>"
            ],
            "text/markdown": "【Verification Result】:\n[[('否', 0.9999336004257202), ('是', 2.5175497205818552e-20)], [('否', 0.9999998807907104), ('是', 2.5073491527927323e-14)]]"
          },
          "metadata": {}
        },
        {
          "output_type": "display_data",
          "data": {
            "text/plain": [
              "<IPython.core.display.Markdown object>"
            ],
            "text/markdown": "\n***\n"
          },
          "metadata": {}
        },
        {
          "output_type": "display_data",
          "data": {
            "text/plain": [
              "<IPython.core.display.Markdown object>"
            ],
            "text/markdown": "【Generated Sentence】:\n黎曼猜想的具体表述是：所有非平凡零点的实部都是1/2。换句话说，所有的非平凡零点都位于复平面上的一条直线上，这条直线被称为“临界线”，其方程为Re(s) = 1/2，其中Re(s)表示s的实部。\n\n"
          },
          "metadata": {}
        },
        {
          "output_type": "display_data",
          "data": {
            "text/plain": [
              "<IPython.core.display.Markdown object>"
            ],
            "text/markdown": "\n"
          },
          "metadata": {}
        },
        {
          "output_type": "display_data",
          "data": {
            "text/plain": [
              "<IPython.core.display.Markdown object>"
            ],
            "text/markdown": "【Verification Result】:\n[[('否', 0.9999891519546509), ('是', 3.1582983633496355e-21)], [('否', 0.9999998807907104), ('是', 1.7814919461497936e-12)]]"
          },
          "metadata": {}
        },
        {
          "output_type": "display_data",
          "data": {
            "text/plain": [
              "<IPython.core.display.Markdown object>"
            ],
            "text/markdown": "\n***\n"
          },
          "metadata": {}
        },
        {
          "output_type": "display_data",
          "data": {
            "text/plain": [
              "<IPython.core.display.Markdown object>"
            ],
            "text/markdown": "【Generated Sentence】:\n黎曼猜想的重要性在于它对数论，尤其是素数的分布有着深远的影响。素数是只能被1和自身整除的大于1的自然数。虽然素数在自然数中的分布看起来杂无章，但数学家们发现了一些规律。黎曼ζ函数提供了一种描述素数分布的方法，而黎曼猜想如果成立，则意味着这些非平凡零点的特定分布模式。\n\n"
          },
          "metadata": {}
        },
        {
          "output_type": "display_data",
          "data": {
            "text/plain": [
              "<IPython.core.display.Markdown object>"
            ],
            "text/markdown": "\n"
          },
          "metadata": {}
        },
        {
          "output_type": "display_data",
          "data": {
            "text/plain": [
              "<IPython.core.display.Markdown object>"
            ],
            "text/markdown": "【Verification Result】:\n[[('否', 0.9999927282333374), ('是', 3.3582603907050935e-21)], [('否', 0.999998927116394), ('是', 7.459576034131443e-13)]]"
          },
          "metadata": {}
        },
        {
          "output_type": "display_data",
          "data": {
            "text/plain": [
              "<IPython.core.display.Markdown object>"
            ],
            "text/markdown": "\n***\n"
          },
          "metadata": {}
        },
        {
          "output_type": "display_data",
          "data": {
            "text/plain": [
              "<IPython.core.display.Markdown object>"
            ],
            "text/markdown": "【Generated Sentence】:\n尽管经过了多年的努力，黎曼猜想至今仍未得到证明或证伪。许多数学家尝试过解决这个问题，也提出了多种可能的途径，但目前仍然没有找到一个被广泛接受的证明方法。因此，黎曼猜想仍然是现代数学中最重要的未解决问题之一。<|im_end|>"
          },
          "metadata": {}
        },
        {
          "output_type": "display_data",
          "data": {
            "text/plain": [
              "<IPython.core.display.Markdown object>"
            ],
            "text/markdown": "\n"
          },
          "metadata": {}
        },
        {
          "output_type": "display_data",
          "data": {
            "text/plain": [
              "<IPython.core.display.Markdown object>"
            ],
            "text/markdown": "【Verification Result】:\n[[('否', 0.9999746084213257), ('是', 1.1762110472172332e-21)], [('否', 1.0), ('是', 9.087633423554564e-12)]]"
          },
          "metadata": {}
        },
        {
          "output_type": "display_data",
          "data": {
            "text/plain": [
              "<IPython.core.display.Markdown object>"
            ],
            "text/markdown": "\n***\n"
          },
          "metadata": {}
        },
        {
          "output_type": "display_data",
          "data": {
            "text/plain": [
              "<IPython.core.display.Markdown object>"
            ],
            "text/markdown": "【Final Output】:\n"
          },
          "metadata": {}
        },
        {
          "output_type": "display_data",
          "data": {
            "text/plain": [
              "<IPython.core.display.Markdown object>"
            ],
            "text/markdown": "黎曼猜想是数学中的一个著名未解决问题，由德国数学家波恩哈德·黎曼在1859年提出。这个猜想与素数的分布密切相关。\n\n黎曼猜想的核心涉及到黎曼ζ函数的非平凡零点的位置。黎曼ζ函数是一个定义在复平面上的函数，记为ζ(s)，其中s是一个复数。这个函数最初是定义在实数域上，后来被解析延拓到整个复平面。黎曼ζ函数在数学中有着极其重要的地位，它与素数分布的关系尤为紧密。\n\n黎曼猜想的具体表述是：所有非平凡零点的实部都是1/2。换句话说，所有的非平凡零点都位于复平面上的一条直线上，这条直线被称为“临界线”，其方程为Re(s) = 1/2，其中Re(s)表示s的实部。\n\n黎曼猜想的重要性在于它对数论，尤其是素数的分布有着深远的影响。素数是只能被1和自身整除的大于1的自然数。虽然素数在自然数中的分布看起来杂无章，但数学家们发现了一些规律。黎曼ζ函数提供了一种描述素数分布的方法，而黎曼猜想如果成立，则意味着这些非平凡零点的特定分布模式。\n\n尽管经过了多年的努力，黎曼猜想至今仍未得到证明或证伪。许多数学家尝试过解决这个问题，也提出了多种可能的途径，但目前仍然没有找到一个被广泛接受的证明方法。因此，黎曼猜想仍然是现代数学中最重要的未解决问题之一。<|im_end|>"
          },
          "metadata": {}
        },
        {
          "output_type": "stream",
          "name": "stdout",
          "text": [
            "累计耗时260.098秒\n"
          ]
        }
      ]
    },
    {
      "cell_type": "markdown",
      "source": [
        "### 测试：RAG任务-检索增强的知识库问答"
      ],
      "metadata": {
        "id": "4ZMgFJDsMeO3"
      }
    },
    {
      "cell_type": "code",
      "execution_count": null,
      "metadata": {
        "colab": {
          "base_uri": "https://localhost:8080/",
          "height": 1000
        },
        "id": "Jpo-x7g8Payd",
        "outputId": "0a863490-f1e0-4995-ad3a-46a23e65a911"
      },
      "outputs": [
        {
          "output_type": "display_data",
          "data": {
            "text/plain": [
              "<IPython.core.display.Markdown object>"
            ],
            "text/markdown": "\n\n------\n\n"
          },
          "metadata": {}
        },
        {
          "output_type": "stream",
          "name": "stdout",
          "text": [
            "cite reference data succeed\n"
          ]
        },
        {
          "output_type": "display_data",
          "data": {
            "text/plain": [
              "<IPython.core.display.Markdown object>"
            ],
            "text/markdown": "【Generated Sentence】:\n洗衣机领域近期出现了许多令人瞩目的新功能，它们旨在提高洗涤效率、保护衣物、增强用户体验以及促进节能环保。以下是一些最新的功能介绍：\n\n1. **智能投放系统**：例如石头分子筛洗烘一体机Z1Pro中的TubeDose™胶囊智能投放系统，它允许用户根据衣物面料和洗涤需求选择合适的洗涤胶囊，从而享受定制化的洗护服务。[$^{[9]}$](http://www.cheari.com/article.html?id=21988 \"AI助力:智能洗烘时代,未来生活触手可及\n随着智能化浪潮的兴起,石头科技紧跟时代步伐,将AI智能技术融入到了石头分子筛洗烘一体机Z1Pro中。\nTubeDose™胶囊智能投放系统,作为Z1Pro的专属升级之一,为用户提供了更加精准、专业的洗护方案。用户只需根据衣物面料和洗涤需求选择合适的洗涤胶囊,即可享受定制化洗护服务。这一创新设计不仅简化了洗涤流程,还提高了洗涤效果,让衣物得到更加细致入微的呵护。\nVoiceWave™语音控制系统的加入,更是将智能洗护体验提升到了新的高度。用户只需说出“你好,石头”等简单的语音指令,就能轻松控制洗涤程序、打开UVC紫外线除菌等功能。这种便捷的操作方式不仅提升了用户的使用体验,还进一步解放了用户的双手,让用户在忙碌的生活中也能享受到智能科技带来的便利与乐趣。\nStainDetect™脏污度监测功能则是AI智能洗烘的又一亮点。该功能能够实时监测洗涤水的脏污程度,并根据实际情况智能调整洗涤时间和漂洗次数。这一功能在标准、家纺、婴童等多种洗涤模式下均适用,并在App中提供脏污程度提示。用户可以随时了解洗涤情况,确保衣物洗涤干净无残留,避免了二次污染的风险。\")\n\n"
          },
          "metadata": {}
        },
        {
          "output_type": "display_data",
          "data": {
            "text/plain": [
              "<IPython.core.display.Markdown object>"
            ],
            "text/markdown": "\n"
          },
          "metadata": {}
        },
        {
          "output_type": "display_data",
          "data": {
            "text/plain": [
              "<IPython.core.display.Markdown object>"
            ],
            "text/markdown": "【Verification Result】:\n[[('否', 0.9999997615814209), ('是', 1.8356114899650262e-19)], [('否', 0.9999982118606567), ('是', 5.337055667201107e-13)], [('否', 0.9999972581863403), ('是', 3.5218146177129483e-09)]]"
          },
          "metadata": {}
        },
        {
          "output_type": "display_data",
          "data": {
            "text/plain": [
              "<IPython.core.display.Markdown object>"
            ],
            "text/markdown": "\n***\n"
          },
          "metadata": {}
        },
        {
          "output_type": "stream",
          "name": "stdout",
          "text": [
            "cite reference data succeed\n"
          ]
        },
        {
          "output_type": "display_data",
          "data": {
            "text/plain": [
              "<IPython.core.display.Markdown object>"
            ],
            "text/markdown": "【Generated Sentence】:\n2. **语音控制系统**：如石头分子筛洗烘一体机Z1Pro中的VoiceWave™语音控制功能，用户可以通过简单的语音指令来控制洗衣机，提升了操作的便捷性和智能体验。[$^{[9]}$](http://www.cheari.com/article.html?id=21988 \"AI助力:智能洗烘时代,未来生活触手可及\n随着智能化浪潮的兴起,石头科技紧跟时代步伐,将AI智能技术融入到了石头分子筛洗烘一体机Z1Pro中。\nTubeDose™胶囊智能投放系统,作为Z1Pro的专属升级之一,为用户提供了更加精准、专业的洗护方案。用户只需根据衣物面料和洗涤需求选择合适的洗涤胶囊,即可享受定制化洗护服务。这一创新设计不仅简化了洗涤流程,还提高了洗涤效果,让衣物得到更加细致入微的呵护。\nVoiceWave™语音控制系统的加入,更是将智能洗护体验提升到了新的高度。用户只需说出“你好,石头”等简单的语音指令,就能轻松控制洗涤程序、打开UVC紫外线除菌等功能。这种便捷的操作方式不仅提升了用户的使用体验,还进一步解放了用户的双手,让用户在忙碌的生活中也能享受到智能科技带来的便利与乐趣。\nStainDetect™脏污度监测功能则是AI智能洗烘的又一亮点。该功能能够实时监测洗涤水的脏污程度,并根据实际情况智能调整洗涤时间和漂洗次数。这一功能在标准、家纺、婴童等多种洗涤模式下均适用,并在App中提供脏污程度提示。用户可以随时了解洗涤情况,确保衣物洗涤干净无残留,避免了二次污染的风险。\")\n\n"
          },
          "metadata": {}
        },
        {
          "output_type": "display_data",
          "data": {
            "text/plain": [
              "<IPython.core.display.Markdown object>"
            ],
            "text/markdown": "\n"
          },
          "metadata": {}
        },
        {
          "output_type": "display_data",
          "data": {
            "text/plain": [
              "<IPython.core.display.Markdown object>"
            ],
            "text/markdown": "【Verification Result】:\n[[('否', 0.9999991655349731), ('是', 1.11708492827996e-19)], [('否', 0.9999974966049194), ('是', 2.043887655693924e-13)], [('否', 0.9999920129776001), ('是', 1.3487135852585652e-09)]]"
          },
          "metadata": {}
        },
        {
          "output_type": "display_data",
          "data": {
            "text/plain": [
              "<IPython.core.display.Markdown object>"
            ],
            "text/markdown": "\n***\n"
          },
          "metadata": {}
        },
        {
          "output_type": "stream",
          "name": "stdout",
          "text": [
            "cite reference data succeed\n"
          ]
        },
        {
          "output_type": "display_data",
          "data": {
            "text/plain": [
              "<IPython.core.display.Markdown object>"
            ],
            "text/markdown": "【Generated Sentence】:\n3. **脏污度监测功能**：StainDetect™脏污度监测功能能够实时监控洗涤水的脏污程度，并智能调整洗涤时间和漂洗次数，确保衣物洗涤干净无残留。[$^{[9]}$](http://www.cheari.com/article.html?id=21988 \"AI助力:智能洗烘时代,未来生活触手可及\n随着智能化浪潮的兴起,石头科技紧跟时代步伐,将AI智能技术融入到了石头分子筛洗烘一体机Z1Pro中。\nTubeDose™胶囊智能投放系统,作为Z1Pro的专属升级之一,为用户提供了更加精准、专业的洗护方案。用户只需根据衣物面料和洗涤需求选择合适的洗涤胶囊,即可享受定制化洗护服务。这一创新设计不仅简化了洗涤流程,还提高了洗涤效果,让衣物得到更加细致入微的呵护。\nVoiceWave™语音控制系统的加入,更是将智能洗护体验提升到了新的高度。用户只需说出“你好,石头”等简单的语音指令,就能轻松控制洗涤程序、打开UVC紫外线除菌等功能。这种便捷的操作方式不仅提升了用户的使用体验,还进一步解放了用户的双手,让用户在忙碌的生活中也能享受到智能科技带来的便利与乐趣。\nStainDetect™脏污度监测功能则是AI智能洗烘的又一亮点。该功能能够实时监测洗涤水的脏污程度,并根据实际情况智能调整洗涤时间和漂洗次数。这一功能在标准、家纺、婴童等多种洗涤模式下均适用,并在App中提供脏污程度提示。用户可以随时了解洗涤情况,确保衣物洗涤干净无残留,避免了二次污染的风险。\")\n\n"
          },
          "metadata": {}
        },
        {
          "output_type": "display_data",
          "data": {
            "text/plain": [
              "<IPython.core.display.Markdown object>"
            ],
            "text/markdown": "\n"
          },
          "metadata": {}
        },
        {
          "output_type": "display_data",
          "data": {
            "text/plain": [
              "<IPython.core.display.Markdown object>"
            ],
            "text/markdown": "【Verification Result】:\n[[('否', 0.9999980926513672), ('是', 9.662170719435473e-20)], [('否', 0.9999979734420776), ('是', 1.2507987809558252e-13)], [('否', 0.9999955892562866), ('是', 2.022665923639977e-10)]]"
          },
          "metadata": {}
        },
        {
          "output_type": "display_data",
          "data": {
            "text/plain": [
              "<IPython.core.display.Markdown object>"
            ],
            "text/markdown": "\n***\n"
          },
          "metadata": {}
        },
        {
          "output_type": "stream",
          "name": "stdout",
          "text": [
            "cite reference data succeed\n"
          ]
        },
        {
          "output_type": "display_data",
          "data": {
            "text/plain": [
              "<IPython.core.display.Markdown object>"
            ],
            "text/markdown": "【Generated Sentence】:\n4. **超大筒径设计**：TCL超级筒和海信璀璨钢琴师H8等型号采用了536mm或更大的筒径，为衣物提供更充足的活动空间，从而提升洗涤效果。[$^{[5]}$](http://washer.cheaa.com/2024/1105/642399.shtml \"市面上大多数洗衣机的筒径在500mm左右，而TCLT7HPro则达到了540mm，摔打距离增加40mm，将洗净比直接拉到1.2，洗的更透彻。创新的6D提升筋采用交错式分布设计，在洗涤过程中能够引导衣物以S型轨迹翻转，这种独特的运动方式模拟了手动揉搓的效果。衣物不仅在外部得到充分清洁，连内部和难以触及的部位也能被有效清洗，确保每一件衣物都能从里到外彻底洁净。海波纹仿生设计的内筒在旋转时能够形成特殊的水流保护层，不仅防止了衣物紧贴筒壁，减少了摩擦和磨损，还确保了衣物能够在水中自由翻转，从而达到更均匀、更彻底的清洁效果。同时，T7HPro的旋钮设计考虑到了用户体验，其阻尼恰到好处，每当转动至一个新档位时，都会伴随轻微的“哒”声，这种触觉反馈让使用者能够准确感知调整是否到位。时间显示也比较清晰，简单易用。值得一提的是，T7HPro全新升级了超净泡精华洗技术，这一创新系统集成了超净泡、智投、预混和直喷四大功能，形成了一套高效洗涤组合拳。这四项功能协同工作，不仅让衣物洗得更加干净，还大大缩短了洗涤时间，为用户带来更加快捷高效的清洁体验。\")[$^{[7]}$](http://www.cheari.com/article.html?id=21379 \"5月18日—5月19日，海信璀璨钢琴师H8全国首发巡展深圳站顺利举行。臻享品质洗护，聆听生活之美，本次巡展在钢琴演奏中拉开序幕，海信璀璨钢琴师H8等多款明星产品精彩亮相，获得在场市民广泛瞩目。\n如今的消费者，不仅关注健康与生活品质，更专注于自我与情绪价值，家居与家电的有机融合成为了家居美学的风向标。此次璀璨钢琴师H8新品发布，高颜值黑白琴键配色，超薄平嵌机身与家居完美融于一体，同时科技实力也不容小觑，是海信洗衣机基于对消费者审美与需求深刻洞察的最新研发成果。\n据了解，海信洗衣机研发团队与青岛大学实验室合作，研究上千种娇奢面料的特性，以护肤护理为灵感，创新研发出行业领先的“护肤级护理”功能，实现真丝、皮革、羊绒、棉麻、羽绒等面料的全场景护理解决方案。除此之外，海信璀璨钢琴师H8迭代升级，以536mm超大筒径搭载活水洗科技3.0，去污力提升22%，除真菌率99.99%，洗净比高达1.259，为消费者的健康保驾护航。另外，海信璀璨钢琴师H8采用双擎变频“聚好烘”，双重精准判干，在保证烘干效果的同时，烘干时间快一倍，用电省一半，满足现代人快捷生活习惯的需求。\n固守有限的黑白琴键，演绎无限的生命宽度。\")\n\n"
          },
          "metadata": {}
        },
        {
          "output_type": "display_data",
          "data": {
            "text/plain": [
              "<IPython.core.display.Markdown object>"
            ],
            "text/markdown": "\n"
          },
          "metadata": {}
        },
        {
          "output_type": "display_data",
          "data": {
            "text/plain": [
              "<IPython.core.display.Markdown object>"
            ],
            "text/markdown": "【Verification Result】:\n[[('否', 0.999998927116394), ('是', 1.2078564975272616e-19)], [('否', 0.9999974966049194), ('是', 2.036790224327345e-12)], [('否', 0.9999902248382568), ('是', 2.976747104019295e-12)]]"
          },
          "metadata": {}
        },
        {
          "output_type": "display_data",
          "data": {
            "text/plain": [
              "<IPython.core.display.Markdown object>"
            ],
            "text/markdown": "\n***\n"
          },
          "metadata": {}
        },
        {
          "output_type": "stream",
          "name": "stdout",
          "text": [
            "cite reference data succeed\n"
          ]
        },
        {
          "output_type": "display_data",
          "data": {
            "text/plain": [
              "<IPython.core.display.Markdown object>"
            ],
            "text/markdown": "【Generated Sentence】:\n5. **健康洗护技术**：包括TCL超级筒的巴氏除菌、海信璀璨钢琴师H8的“护肤级护理”功能，以及美诺W2洗衣机的InfinityCare蜂巢滚筒设计，它们都旨在减少衣物损伤并提供更彻底的清洁和护理效果。[$^{[1]}$](http://www.cheari.com/article.html?id=22126 \"此外，冷藏室采用多点离子杀菌技术，实现了24小时全域主动式杀菌、除味、灭病毒，杀菌率高达99.99%，冷冻室则应用了T-fresh冷抑菌技术，主动吸附和分解异味，有效抑制细菌滋生。\nTCL超级筒：重新定义洗衣新标准\n与TCLT9Pro双系统超薄平嵌冰箱并驾齐驱的TCL超级筒洗衣机，在技术创新方面展现出了非凡的实力。这款洗衣机采用了540mm超大筒径设计，相较于传统510mm筒径，洗涤空间更大，衣物在洗涤过程中能够得到更充分的舒展与摔打，从而提升了洗涤效果与护衣能力。同时，TCL超级筒还升级了6个提升筋，实现了6D多维洗涤路径，让洗衣过程更加高效、彻底。\n在智能化方面，TCL超级筒同样表现出色。其搭载的顽渍净Pro功能能够智能化匹配污渍种类，针对性瓦解多重顽渍，如混渍、油渍、妆渍、血渍、奶渍等，让衣物恢复如初。此外，TCL超级筒还配备了双模烘干技术，通过NTC智能传感技术实现双重低温/防皱烘干模式，满足不同材质衣物的烘干需求。而活水漂洗、DD直驱变频电机、巴氏除菌等技术的应用，更是让TCL超级筒在洁净度、能效比、除菌率等方面达到了行业领先水平。\")[$^{[2]}$](http://news.cheaa.com/2024/0927/641504.shtml \"博西家电洗涤产品事业部高级副总裁Mr.ErikKruijer企业创新解决方案百花齐放，为洗护技术迭代升级不断注入动力，海信洗衣机最新推出的棉花糖洗烘套装系列凭借活水洗、三变频快速烘干技术，实现了1.259超高洗净比和高效专业的护理，在洗护领域树立了新的标杆，为消费者带来了前所未有的体验。TCL双子舱洗烘护集成机是集洗烘护功能于一身的“全能选手”，高效节能同时避免衣物损伤;创维电器深耕DD直驱技术，并推出超薄全嵌洗衣机等产品，满足用户对颜值、洗护、健康高要求;康佳主推的超薄洗烘一体机搭载一键智慧洗、8H智慧新风等独特功能，更加适合当下年轻人的时尚特点;作为上游企业，海立为洗护产业技术升级的不断添砖加瓦，其打造的首台热泵专用压缩机等产品为用户高品质洗护生活助力。焕醒消费者，冲刺四季度以企业创新技术为引擎，借助以旧换新政策红利，洗护行业迎来四季度的冲刺期，在高峰论坛现场，企业代表及家装设计师、生活领域博主畅抒己见，为行业如何抓住当下机遇提供了很多建议。\")[$^{[7]}$](http://www.cheari.com/article.html?id=21379 \"5月18日—5月19日，海信璀璨钢琴师H8全国首发巡展深圳站顺利举行。臻享品质洗护，聆听生活之美，本次巡展在钢琴演奏中拉开序幕，海信璀璨钢琴师H8等多款明星产品精彩亮相，获得在场市民广泛瞩目。\n如今的消费者，不仅关注健康与生活品质，更专注于自我与情绪价值，家居与家电的有机融合成为了家居美学的风向标。此次璀璨钢琴师H8新品发布，高颜值黑白琴键配色，超薄平嵌机身与家居完美融于一体，同时科技实力也不容小觑，是海信洗衣机基于对消费者审美与需求深刻洞察的最新研发成果。\n据了解，海信洗衣机研发团队与青岛大学实验室合作，研究上千种娇奢面料的特性，以护肤护理为灵感，创新研发出行业领先的“护肤级护理”功能，实现真丝、皮革、羊绒、棉麻、羽绒等面料的全场景护理解决方案。除此之外，海信璀璨钢琴师H8迭代升级，以536mm超大筒径搭载活水洗科技3.0，去污力提升22%，除真菌率99.99%，洗净比高达1.259，为消费者的健康保驾护航。另外，海信璀璨钢琴师H8采用双擎变频“聚好烘”，双重精准判干，在保证烘干效果的同时，烘干时间快一倍，用电省一半，满足现代人快捷生活习惯的需求。\n固守有限的黑白琴键，演绎无限的生命宽度。\")[$^{[10]}$](http://news.cheaa.com/2024/0914/641062.shtml \"在当下的快节奏生活中，用户也越来越关注自身，寻求松弛感和更舒适的生活状态，洗衣、护衣这种日常的家务劳动与用户身心舒适紧密相关，洗衣机与干衣机企业也早早就洞察到了用户对高品质的产品和家居空间的新需求，博西家电相关负责人表示，“激发消费者换新需求的主要方向集中在健康洗护、智能化以及高端衣物护理三个方面。”“洗净”这项最基础的功能上，企业“精益求精”，今年上半年，多款高洗净比产品面世，TCL推出洗净比突破1.2的超级筒洗衣机T7H，海信璀璨钢琴师H8新一代洗烘一体机实现行业1.259超高洗净比，创维推出的纯平全嵌产品洗净比可达到1.20。围绕着健康需求，多家企业创新成果丰富，例如博世博世8系净臻系列活氧洗烘套装配备“滚筒72小时长效抑菌、衣物99.99%深度洁净、100%强力净螨”3重盾护;海尔朗境X11系列洗衣机搭载的风巡航科技，能主动通风，每2分钟完成一次筒内空气置换，2小时内实现窗垫干燥，除菌率达99.99%。小天鹅洗烘套装搭载的“蓝氧护色洗技术”，不仅能够去除顽固污渍、抑菌，还能替代化学彩漂剂，以物理清洗方式，保持原色、呵护衣物色彩，带来“白衣更白、彩衣更彩”的出色表现。\")\n\n"
          },
          "metadata": {}
        },
        {
          "output_type": "display_data",
          "data": {
            "text/plain": [
              "<IPython.core.display.Markdown object>"
            ],
            "text/markdown": "\n"
          },
          "metadata": {}
        },
        {
          "output_type": "display_data",
          "data": {
            "text/plain": [
              "<IPython.core.display.Markdown object>"
            ],
            "text/markdown": "【Verification Result】:\n[[('否', 0.9999967813491821), ('是', 1.2700617720609564e-19)], [('否', 0.9999922513961792), ('是', 1.2147010827745497e-11)], [('否', 0.9999805688858032), ('是', 2.2347328523276977e-13)]]"
          },
          "metadata": {}
        },
        {
          "output_type": "display_data",
          "data": {
            "text/plain": [
              "<IPython.core.display.Markdown object>"
            ],
            "text/markdown": "\n***\n"
          },
          "metadata": {}
        },
        {
          "output_type": "stream",
          "name": "stdout",
          "text": [
            "cite reference data succeed\n"
          ]
        },
        {
          "output_type": "display_data",
          "data": {
            "text/plain": [
              "<IPython.core.display.Markdown object>"
            ],
            "text/markdown": "【Generated Sentence】:\n6. **高效烘干技术**：如美诺T2干衣机的QuickPowerDry技术，以及海信璀璨钢琴师H8的双擎变频“聚好烘”，这些技术旨在缩短烘干时间、节省能源并保护衣物。[$^{[4]}$](http://www.cheari.com/article.html?id=22056 \"美诺执行董事兼联合所有人Dr.MarkusMiele，向现场来宾阐释了这一旗舰款新品洗衣机的重大革新：“美诺工程师为滚筒开发了一种特殊的旋转节奏，通过精心平衡的摆动有效翻转衣物，在彻底洗净的同时，保持对衣物的温柔呵护。”\nlW2洗衣机应用首创InfinityCare蜂巢滚筒\n全球首创无提升筋滚筒设计，为美诺经典蜂巢滚筒1带来突破创新。6个高科技“QueenCell”取代传统提升筋，滚筒可根据衣物载量及材质，调节转动方式与节奏，或劲洗，或柔护，在实现净澈洗涤的同时，更细致呵护羊毛及真丝等矜贵织物，减少洗涤损耗，衣物常洗常新。\nlW2洗衣机应用全新SmartMatic智能洗程序\n该智能化全自动洗衣程序，对所有棉质或30度水洗标的易打理面料，可做到精准匹配每公斤衣物，调节洗涤所需的用水、用电及洗涤剂用量。打破“程序节能“的数字陷阱，真正实现衣物随心洗，能耗随心省。\nlT2干衣机应用全新QuickPowerDry烘干技术\n在原有热泵烘干系统上，新增辅助加热模块，可将机器加热时间缩短约50%，实现更高效、快速、轻柔的烘干效果。烘干4kg衣物，最快仅需49分钟！\")[$^{[7]}$](http://www.cheari.com/article.html?id=21379 \"5月18日—5月19日，海信璀璨钢琴师H8全国首发巡展深圳站顺利举行。臻享品质洗护，聆听生活之美，本次巡展在钢琴演奏中拉开序幕，海信璀璨钢琴师H8等多款明星产品精彩亮相，获得在场市民广泛瞩目。\n如今的消费者，不仅关注健康与生活品质，更专注于自我与情绪价值，家居与家电的有机融合成为了家居美学的风向标。此次璀璨钢琴师H8新品发布，高颜值黑白琴键配色，超薄平嵌机身与家居完美融于一体，同时科技实力也不容小觑，是海信洗衣机基于对消费者审美与需求深刻洞察的最新研发成果。\n据了解，海信洗衣机研发团队与青岛大学实验室合作，研究上千种娇奢面料的特性，以护肤护理为灵感，创新研发出行业领先的“护肤级护理”功能，实现真丝、皮革、羊绒、棉麻、羽绒等面料的全场景护理解决方案。除此之外，海信璀璨钢琴师H8迭代升级，以536mm超大筒径搭载活水洗科技3.0，去污力提升22%，除真菌率99.99%，洗净比高达1.259，为消费者的健康保驾护航。另外，海信璀璨钢琴师H8采用双擎变频“聚好烘”，双重精准判干，在保证烘干效果的同时，烘干时间快一倍，用电省一半，满足现代人快捷生活习惯的需求。\n固守有限的黑白琴键，演绎无限的生命宽度。\")\n\n"
          },
          "metadata": {}
        },
        {
          "output_type": "display_data",
          "data": {
            "text/plain": [
              "<IPython.core.display.Markdown object>"
            ],
            "text/markdown": "\n"
          },
          "metadata": {}
        },
        {
          "output_type": "display_data",
          "data": {
            "text/plain": [
              "<IPython.core.display.Markdown object>"
            ],
            "text/markdown": "【Verification Result】:\n[[('否', 0.9999986886978149), ('是', 1.518375705082664e-19)], [('否', 0.9999933242797852), ('是', 1.5878100917410265e-11)], [('否', 0.9999585151672363), ('是', 5.5418086786218623e-11)]]"
          },
          "metadata": {}
        },
        {
          "output_type": "display_data",
          "data": {
            "text/plain": [
              "<IPython.core.display.Markdown object>"
            ],
            "text/markdown": "\n***\n"
          },
          "metadata": {}
        },
        {
          "output_type": "stream",
          "name": "stdout",
          "text": [
            "cite reference data succeed\n"
          ]
        },
        {
          "output_type": "display_data",
          "data": {
            "text/plain": [
              "<IPython.core.display.Markdown object>"
            ],
            "text/markdown": "【Generated Sentence】:\n7. **智能洗程序**：美诺W2洗衣机的SmartMatic智能洗程序可以根据衣物的重量和类型调整用水量、用电量及洗涤剂用量，实现更节能的洗衣体验。[$^{[4]}$](http://www.cheari.com/article.html?id=22056 \"美诺执行董事兼联合所有人Dr.MarkusMiele，向现场来宾阐释了这一旗舰款新品洗衣机的重大革新：“美诺工程师为滚筒开发了一种特殊的旋转节奏，通过精心平衡的摆动有效翻转衣物，在彻底洗净的同时，保持对衣物的温柔呵护。”\nlW2洗衣机应用首创InfinityCare蜂巢滚筒\n全球首创无提升筋滚筒设计，为美诺经典蜂巢滚筒1带来突破创新。6个高科技“QueenCell”取代传统提升筋，滚筒可根据衣物载量及材质，调节转动方式与节奏，或劲洗，或柔护，在实现净澈洗涤的同时，更细致呵护羊毛及真丝等矜贵织物，减少洗涤损耗，衣物常洗常新。\nlW2洗衣机应用全新SmartMatic智能洗程序\n该智能化全自动洗衣程序，对所有棉质或30度水洗标的易打理面料，可做到精准匹配每公斤衣物，调节洗涤所需的用水、用电及洗涤剂用量。打破“程序节能“的数字陷阱，真正实现衣物随心洗，能耗随心省。\nlT2干衣机应用全新QuickPowerDry烘干技术\n在原有热泵烘干系统上，新增辅助加热模块，可将机器加热时间缩短约50%，实现更高效、快速、轻柔的烘干效果。烘干4kg衣物，最快仅需49分钟！\")\n\n"
          },
          "metadata": {}
        },
        {
          "output_type": "display_data",
          "data": {
            "text/plain": [
              "<IPython.core.display.Markdown object>"
            ],
            "text/markdown": "\n"
          },
          "metadata": {}
        },
        {
          "output_type": "display_data",
          "data": {
            "text/plain": [
              "<IPython.core.display.Markdown object>"
            ],
            "text/markdown": "【Verification Result】:\n[[('否', 0.9999943971633911), ('是', 1.493164920222667e-19)], [('否', 0.9999994039535522), ('是', 3.805239977283659e-12)], [('否', 0.9999963045120239), ('是', 1.9343543433691934e-10)]]"
          },
          "metadata": {}
        },
        {
          "output_type": "display_data",
          "data": {
            "text/plain": [
              "<IPython.core.display.Markdown object>"
            ],
            "text/markdown": "\n***\n"
          },
          "metadata": {}
        },
        {
          "output_type": "stream",
          "name": "stdout",
          "text": [
            "cite reference data succeed\n"
          ]
        },
        {
          "output_type": "display_data",
          "data": {
            "text/plain": [
              "<IPython.core.display.Markdown object>"
            ],
            "text/markdown": "【Generated Sentence】:\n8. **超净泡精华洗技术**：TCL T7H Pro洗衣机的这项技术集成了超净泡、智投、预混和直喷四大功能，协同工作以提供更高效和彻底的洗涤体验。[$^{[5]}$](http://washer.cheaa.com/2024/1105/642399.shtml \"市面上大多数洗衣机的筒径在500mm左右，而TCLT7HPro则达到了540mm，摔打距离增加40mm，将洗净比直接拉到1.2，洗的更透彻。创新的6D提升筋采用交错式分布设计，在洗涤过程中能够引导衣物以S型轨迹翻转，这种独特的运动方式模拟了手动揉搓的效果。衣物不仅在外部得到充分清洁，连内部和难以触及的部位也能被有效清洗，确保每一件衣物都能从里到外彻底洁净。海波纹仿生设计的内筒在旋转时能够形成特殊的水流保护层，不仅防止了衣物紧贴筒壁，减少了摩擦和磨损，还确保了衣物能够在水中自由翻转，从而达到更均匀、更彻底的清洁效果。同时，T7HPro的旋钮设计考虑到了用户体验，其阻尼恰到好处，每当转动至一个新档位时，都会伴随轻微的“哒”声，这种触觉反馈让使用者能够准确感知调整是否到位。时间显示也比较清晰，简单易用。值得一提的是，T7HPro全新升级了超净泡精华洗技术，这一创新系统集成了超净泡、智投、预混和直喷四大功能，形成了一套高效洗涤组合拳。这四项功能协同工作，不仅让衣物洗得更加干净，还大大缩短了洗涤时间，为用户带来更加快捷高效的清洁体验。\")\n\n"
          },
          "metadata": {}
        },
        {
          "output_type": "display_data",
          "data": {
            "text/plain": [
              "<IPython.core.display.Markdown object>"
            ],
            "text/markdown": "\n"
          },
          "metadata": {}
        },
        {
          "output_type": "display_data",
          "data": {
            "text/plain": [
              "<IPython.core.display.Markdown object>"
            ],
            "text/markdown": "【Verification Result】:\n[[('否', 0.9999980926513672), ('是', 1.5099301910284975e-19)], [('否', 0.9999997615814209), ('是', 3.891128304983615e-12)], [('否', 0.9999951124191284), ('是', 1.0587574567066937e-10)]]"
          },
          "metadata": {}
        },
        {
          "output_type": "display_data",
          "data": {
            "text/plain": [
              "<IPython.core.display.Markdown object>"
            ],
            "text/markdown": "\n***\n"
          },
          "metadata": {}
        },
        {
          "output_type": "stream",
          "name": "stdout",
          "text": [
            "cite reference data succeed\n"
          ]
        },
        {
          "output_type": "display_data",
          "data": {
            "text/plain": [
              "<IPython.core.display.Markdown object>"
            ],
            "text/markdown": "【Generated Sentence】:\n这些新功能反映了洗衣机技术的不断进步，旨在满足消费者对高效、环保、智能和舒适生活的追求。[$^{[2]}$](http://news.cheaa.com/2024/0927/641504.shtml \"博西家电洗涤产品事业部高级副总裁Mr.ErikKruijer企业创新解决方案百花齐放，为洗护技术迭代升级不断注入动力，海信洗衣机最新推出的棉花糖洗烘套装系列凭借活水洗、三变频快速烘干技术，实现了1.259超高洗净比和高效专业的护理，在洗护领域树立了新的标杆，为消费者带来了前所未有的体验。TCL双子舱洗烘护集成机是集洗烘护功能于一身的“全能选手”，高效节能同时避免衣物损伤;创维电器深耕DD直驱技术，并推出超薄全嵌洗衣机等产品，满足用户对颜值、洗护、健康高要求;康佳主推的超薄洗烘一体机搭载一键智慧洗、8H智慧新风等独特功能，更加适合当下年轻人的时尚特点;作为上游企业，海立为洗护产业技术升级的不断添砖加瓦，其打造的首台热泵专用压缩机等产品为用户高品质洗护生活助力。焕醒消费者，冲刺四季度以企业创新技术为引擎，借助以旧换新政策红利，洗护行业迎来四季度的冲刺期，在高峰论坛现场，企业代表及家装设计师、生活领域博主畅抒己见，为行业如何抓住当下机遇提供了很多建议。\")[$^{[10]}$](http://news.cheaa.com/2024/0914/641062.shtml \"在当下的快节奏生活中，用户也越来越关注自身，寻求松弛感和更舒适的生活状态，洗衣、护衣这种日常的家务劳动与用户身心舒适紧密相关，洗衣机与干衣机企业也早早就洞察到了用户对高品质的产品和家居空间的新需求，博西家电相关负责人表示，“激发消费者换新需求的主要方向集中在健康洗护、智能化以及高端衣物护理三个方面。”“洗净”这项最基础的功能上，企业“精益求精”，今年上半年，多款高洗净比产品面世，TCL推出洗净比突破1.2的超级筒洗衣机T7H，海信璀璨钢琴师H8新一代洗烘一体机实现行业1.259超高洗净比，创维推出的纯平全嵌产品洗净比可达到1.20。围绕着健康需求，多家企业创新成果丰富，例如博世博世8系净臻系列活氧洗烘套装配备“滚筒72小时长效抑菌、衣物99.99%深度洁净、100%强力净螨”3重盾护;海尔朗境X11系列洗衣机搭载的风巡航科技，能主动通风，每2分钟完成一次筒内空气置换，2小时内实现窗垫干燥，除菌率达99.99%。小天鹅洗烘套装搭载的“蓝氧护色洗技术”，不仅能够去除顽固污渍、抑菌，还能替代化学彩漂剂，以物理清洗方式，保持原色、呵护衣物色彩，带来“白衣更白、彩衣更彩”的出色表现。\")<|im_end|>"
          },
          "metadata": {}
        },
        {
          "output_type": "display_data",
          "data": {
            "text/plain": [
              "<IPython.core.display.Markdown object>"
            ],
            "text/markdown": "\n"
          },
          "metadata": {}
        },
        {
          "output_type": "display_data",
          "data": {
            "text/plain": [
              "<IPython.core.display.Markdown object>"
            ],
            "text/markdown": "【Verification Result】:\n[[('否', 0.9999008178710938), ('是', 2.0521364843054089e-19)], [('否', 0.9999977350234985), ('是', 3.8184857836451314e-13)], [('否', 0.9999351501464844), ('是', 3.1124846623653557e-12)]]"
          },
          "metadata": {}
        },
        {
          "output_type": "display_data",
          "data": {
            "text/plain": [
              "<IPython.core.display.Markdown object>"
            ],
            "text/markdown": "\n***\n"
          },
          "metadata": {}
        },
        {
          "output_type": "display_data",
          "data": {
            "text/plain": [
              "<IPython.core.display.Markdown object>"
            ],
            "text/markdown": "【Final Output】:\n"
          },
          "metadata": {}
        },
        {
          "output_type": "display_data",
          "data": {
            "text/plain": [
              "<IPython.core.display.Markdown object>"
            ],
            "text/markdown": "洗衣机领域近期出现了许多令人瞩目的新功能，它们旨在提高洗涤效率、保护衣物、增强用户体验以及促进节能环保。以下是一些最新的功能介绍：\n\n1. **智能投放系统**：例如石头分子筛洗烘一体机Z1Pro中的TubeDose™胶囊智能投放系统，它允许用户根据衣物面料和洗涤需求选择合适的洗涤胶囊，从而享受定制化的洗护服务。[$^{[9]}$](http://www.cheari.com/article.html?id=21988 \"AI助力:智能洗烘时代,未来生活触手可及\n随着智能化浪潮的兴起,石头科技紧跟时代步伐,将AI智能技术融入到了石头分子筛洗烘一体机Z1Pro中。\nTubeDose™胶囊智能投放系统,作为Z1Pro的专属升级之一,为用户提供了更加精准、专业的洗护方案。用户只需根据衣物面料和洗涤需求选择合适的洗涤胶囊,即可享受定制化洗护服务。这一创新设计不仅简化了洗涤流程,还提高了洗涤效果,让衣物得到更加细致入微的呵护。\nVoiceWave™语音控制系统的加入,更是将智能洗护体验提升到了新的高度。用户只需说出“你好,石头”等简单的语音指令,就能轻松控制洗涤程序、打开UVC紫外线除菌等功能。这种便捷的操作方式不仅提升了用户的使用体验,还进一步解放了用户的双手,让用户在忙碌的生活中也能享受到智能科技带来的便利与乐趣。\nStainDetect™脏污度监测功能则是AI智能洗烘的又一亮点。该功能能够实时监测洗涤水的脏污程度,并根据实际情况智能调整洗涤时间和漂洗次数。这一功能在标准、家纺、婴童等多种洗涤模式下均适用,并在App中提供脏污程度提示。用户可以随时了解洗涤情况,确保衣物洗涤干净无残留,避免了二次污染的风险。\")\n\n2. **语音控制系统**：如石头分子筛洗烘一体机Z1Pro中的VoiceWave™语音控制功能，用户可以通过简单的语音指令来控制洗衣机，提升了操作的便捷性和智能体验。[$^{[9]}$](http://www.cheari.com/article.html?id=21988 \"AI助力:智能洗烘时代,未来生活触手可及\n随着智能化浪潮的兴起,石头科技紧跟时代步伐,将AI智能技术融入到了石头分子筛洗烘一体机Z1Pro中。\nTubeDose™胶囊智能投放系统,作为Z1Pro的专属升级之一,为用户提供了更加精准、专业的洗护方案。用户只需根据衣物面料和洗涤需求选择合适的洗涤胶囊,即可享受定制化洗护服务。这一创新设计不仅简化了洗涤流程,还提高了洗涤效果,让衣物得到更加细致入微的呵护。\nVoiceWave™语音控制系统的加入,更是将智能洗护体验提升到了新的高度。用户只需说出“你好,石头”等简单的语音指令,就能轻松控制洗涤程序、打开UVC紫外线除菌等功能。这种便捷的操作方式不仅提升了用户的使用体验,还进一步解放了用户的双手,让用户在忙碌的生活中也能享受到智能科技带来的便利与乐趣。\nStainDetect™脏污度监测功能则是AI智能洗烘的又一亮点。该功能能够实时监测洗涤水的脏污程度,并根据实际情况智能调整洗涤时间和漂洗次数。这一功能在标准、家纺、婴童等多种洗涤模式下均适用,并在App中提供脏污程度提示。用户可以随时了解洗涤情况,确保衣物洗涤干净无残留,避免了二次污染的风险。\")\n\n3. **脏污度监测功能**：StainDetect™脏污度监测功能能够实时监控洗涤水的脏污程度，并智能调整洗涤时间和漂洗次数，确保衣物洗涤干净无残留。[$^{[9]}$](http://www.cheari.com/article.html?id=21988 \"AI助力:智能洗烘时代,未来生活触手可及\n随着智能化浪潮的兴起,石头科技紧跟时代步伐,将AI智能技术融入到了石头分子筛洗烘一体机Z1Pro中。\nTubeDose™胶囊智能投放系统,作为Z1Pro的专属升级之一,为用户提供了更加精准、专业的洗护方案。用户只需根据衣物面料和洗涤需求选择合适的洗涤胶囊,即可享受定制化洗护服务。这一创新设计不仅简化了洗涤流程,还提高了洗涤效果,让衣物得到更加细致入微的呵护。\nVoiceWave™语音控制系统的加入,更是将智能洗护体验提升到了新的高度。用户只需说出“你好,石头”等简单的语音指令,就能轻松控制洗涤程序、打开UVC紫外线除菌等功能。这种便捷的操作方式不仅提升了用户的使用体验,还进一步解放了用户的双手,让用户在忙碌的生活中也能享受到智能科技带来的便利与乐趣。\nStainDetect™脏污度监测功能则是AI智能洗烘的又一亮点。该功能能够实时监测洗涤水的脏污程度,并根据实际情况智能调整洗涤时间和漂洗次数。这一功能在标准、家纺、婴童等多种洗涤模式下均适用,并在App中提供脏污程度提示。用户可以随时了解洗涤情况,确保衣物洗涤干净无残留,避免了二次污染的风险。\")\n\n4. **超大筒径设计**：TCL超级筒和海信璀璨钢琴师H8等型号采用了536mm或更大的筒径，为衣物提供更充足的活动空间，从而提升洗涤效果。[$^{[5]}$](http://washer.cheaa.com/2024/1105/642399.shtml \"市面上大多数洗衣机的筒径在500mm左右，而TCLT7HPro则达到了540mm，摔打距离增加40mm，将洗净比直接拉到1.2，洗的更透彻。创新的6D提升筋采用交错式分布设计，在洗涤过程中能够引导衣物以S型轨迹翻转，这种独特的运动方式模拟了手动揉搓的效果。衣物不仅在外部得到充分清洁，连内部和难以触及的部位也能被有效清洗，确保每一件衣物都能从里到外彻底洁净。海波纹仿生设计的内筒在旋转时能够形成特殊的水流保护层，不仅防止了衣物紧贴筒壁，减少了摩擦和磨损，还确保了衣物能够在水中自由翻转，从而达到更均匀、更彻底的清洁效果。同时，T7HPro的旋钮设计考虑到了用户体验，其阻尼恰到好处，每当转动至一个新档位时，都会伴随轻微的“哒”声，这种触觉反馈让使用者能够准确感知调整是否到位。时间显示也比较清晰，简单易用。值得一提的是，T7HPro全新升级了超净泡精华洗技术，这一创新系统集成了超净泡、智投、预混和直喷四大功能，形成了一套高效洗涤组合拳。这四项功能协同工作，不仅让衣物洗得更加干净，还大大缩短了洗涤时间，为用户带来更加快捷高效的清洁体验。\")[$^{[7]}$](http://www.cheari.com/article.html?id=21379 \"5月18日—5月19日，海信璀璨钢琴师H8全国首发巡展深圳站顺利举行。臻享品质洗护，聆听生活之美，本次巡展在钢琴演奏中拉开序幕，海信璀璨钢琴师H8等多款明星产品精彩亮相，获得在场市民广泛瞩目。\n如今的消费者，不仅关注健康与生活品质，更专注于自我与情绪价值，家居与家电的有机融合成为了家居美学的风向标。此次璀璨钢琴师H8新品发布，高颜值黑白琴键配色，超薄平嵌机身与家居完美融于一体，同时科技实力也不容小觑，是海信洗衣机基于对消费者审美与需求深刻洞察的最新研发成果。\n据了解，海信洗衣机研发团队与青岛大学实验室合作，研究上千种娇奢面料的特性，以护肤护理为灵感，创新研发出行业领先的“护肤级护理”功能，实现真丝、皮革、羊绒、棉麻、羽绒等面料的全场景护理解决方案。除此之外，海信璀璨钢琴师H8迭代升级，以536mm超大筒径搭载活水洗科技3.0，去污力提升22%，除真菌率99.99%，洗净比高达1.259，为消费者的健康保驾护航。另外，海信璀璨钢琴师H8采用双擎变频“聚好烘”，双重精准判干，在保证烘干效果的同时，烘干时间快一倍，用电省一半，满足现代人快捷生活习惯的需求。\n固守有限的黑白琴键，演绎无限的生命宽度。\")\n\n5. **健康洗护技术**：包括TCL超级筒的巴氏除菌、海信璀璨钢琴师H8的“护肤级护理”功能，以及美诺W2洗衣机的InfinityCare蜂巢滚筒设计，它们都旨在减少衣物损伤并提供更彻底的清洁和护理效果。[$^{[1]}$](http://www.cheari.com/article.html?id=22126 \"此外，冷藏室采用多点离子杀菌技术，实现了24小时全域主动式杀菌、除味、灭病毒，杀菌率高达99.99%，冷冻室则应用了T-fresh冷抑菌技术，主动吸附和分解异味，有效抑制细菌滋生。\nTCL超级筒：重新定义洗衣新标准\n与TCLT9Pro双系统超薄平嵌冰箱并驾齐驱的TCL超级筒洗衣机，在技术创新方面展现出了非凡的实力。这款洗衣机采用了540mm超大筒径设计，相较于传统510mm筒径，洗涤空间更大，衣物在洗涤过程中能够得到更充分的舒展与摔打，从而提升了洗涤效果与护衣能力。同时，TCL超级筒还升级了6个提升筋，实现了6D多维洗涤路径，让洗衣过程更加高效、彻底。\n在智能化方面，TCL超级筒同样表现出色。其搭载的顽渍净Pro功能能够智能化匹配污渍种类，针对性瓦解多重顽渍，如混渍、油渍、妆渍、血渍、奶渍等，让衣物恢复如初。此外，TCL超级筒还配备了双模烘干技术，通过NTC智能传感技术实现双重低温/防皱烘干模式，满足不同材质衣物的烘干需求。而活水漂洗、DD直驱变频电机、巴氏除菌等技术的应用，更是让TCL超级筒在洁净度、能效比、除菌率等方面达到了行业领先水平。\")[$^{[2]}$](http://news.cheaa.com/2024/0927/641504.shtml \"博西家电洗涤产品事业部高级副总裁Mr.ErikKruijer企业创新解决方案百花齐放，为洗护技术迭代升级不断注入动力，海信洗衣机最新推出的棉花糖洗烘套装系列凭借活水洗、三变频快速烘干技术，实现了1.259超高洗净比和高效专业的护理，在洗护领域树立了新的标杆，为消费者带来了前所未有的体验。TCL双子舱洗烘护集成机是集洗烘护功能于一身的“全能选手”，高效节能同时避免衣物损伤;创维电器深耕DD直驱技术，并推出超薄全嵌洗衣机等产品，满足用户对颜值、洗护、健康高要求;康佳主推的超薄洗烘一体机搭载一键智慧洗、8H智慧新风等独特功能，更加适合当下年轻人的时尚特点;作为上游企业，海立为洗护产业技术升级的不断添砖加瓦，其打造的首台热泵专用压缩机等产品为用户高品质洗护生活助力。焕醒消费者，冲刺四季度以企业创新技术为引擎，借助以旧换新政策红利，洗护行业迎来四季度的冲刺期，在高峰论坛现场，企业代表及家装设计师、生活领域博主畅抒己见，为行业如何抓住当下机遇提供了很多建议。\")[$^{[7]}$](http://www.cheari.com/article.html?id=21379 \"5月18日—5月19日，海信璀璨钢琴师H8全国首发巡展深圳站顺利举行。臻享品质洗护，聆听生活之美，本次巡展在钢琴演奏中拉开序幕，海信璀璨钢琴师H8等多款明星产品精彩亮相，获得在场市民广泛瞩目。\n如今的消费者，不仅关注健康与生活品质，更专注于自我与情绪价值，家居与家电的有机融合成为了家居美学的风向标。此次璀璨钢琴师H8新品发布，高颜值黑白琴键配色，超薄平嵌机身与家居完美融于一体，同时科技实力也不容小觑，是海信洗衣机基于对消费者审美与需求深刻洞察的最新研发成果。\n据了解，海信洗衣机研发团队与青岛大学实验室合作，研究上千种娇奢面料的特性，以护肤护理为灵感，创新研发出行业领先的“护肤级护理”功能，实现真丝、皮革、羊绒、棉麻、羽绒等面料的全场景护理解决方案。除此之外，海信璀璨钢琴师H8迭代升级，以536mm超大筒径搭载活水洗科技3.0，去污力提升22%，除真菌率99.99%，洗净比高达1.259，为消费者的健康保驾护航。另外，海信璀璨钢琴师H8采用双擎变频“聚好烘”，双重精准判干，在保证烘干效果的同时，烘干时间快一倍，用电省一半，满足现代人快捷生活习惯的需求。\n固守有限的黑白琴键，演绎无限的生命宽度。\")[$^{[10]}$](http://news.cheaa.com/2024/0914/641062.shtml \"在当下的快节奏生活中，用户也越来越关注自身，寻求松弛感和更舒适的生活状态，洗衣、护衣这种日常的家务劳动与用户身心舒适紧密相关，洗衣机与干衣机企业也早早就洞察到了用户对高品质的产品和家居空间的新需求，博西家电相关负责人表示，“激发消费者换新需求的主要方向集中在健康洗护、智能化以及高端衣物护理三个方面。”“洗净”这项最基础的功能上，企业“精益求精”，今年上半年，多款高洗净比产品面世，TCL推出洗净比突破1.2的超级筒洗衣机T7H，海信璀璨钢琴师H8新一代洗烘一体机实现行业1.259超高洗净比，创维推出的纯平全嵌产品洗净比可达到1.20。围绕着健康需求，多家企业创新成果丰富，例如博世博世8系净臻系列活氧洗烘套装配备“滚筒72小时长效抑菌、衣物99.99%深度洁净、100%强力净螨”3重盾护;海尔朗境X11系列洗衣机搭载的风巡航科技，能主动通风，每2分钟完成一次筒内空气置换，2小时内实现窗垫干燥，除菌率达99.99%。小天鹅洗烘套装搭载的“蓝氧护色洗技术”，不仅能够去除顽固污渍、抑菌，还能替代化学彩漂剂，以物理清洗方式，保持原色、呵护衣物色彩，带来“白衣更白、彩衣更彩”的出色表现。\")\n\n6. **高效烘干技术**：如美诺T2干衣机的QuickPowerDry技术，以及海信璀璨钢琴师H8的双擎变频“聚好烘”，这些技术旨在缩短烘干时间、节省能源并保护衣物。[$^{[4]}$](http://www.cheari.com/article.html?id=22056 \"美诺执行董事兼联合所有人Dr.MarkusMiele，向现场来宾阐释了这一旗舰款新品洗衣机的重大革新：“美诺工程师为滚筒开发了一种特殊的旋转节奏，通过精心平衡的摆动有效翻转衣物，在彻底洗净的同时，保持对衣物的温柔呵护。”\nlW2洗衣机应用首创InfinityCare蜂巢滚筒\n全球首创无提升筋滚筒设计，为美诺经典蜂巢滚筒1带来突破创新。6个高科技“QueenCell”取代传统提升筋，滚筒可根据衣物载量及材质，调节转动方式与节奏，或劲洗，或柔护，在实现净澈洗涤的同时，更细致呵护羊毛及真丝等矜贵织物，减少洗涤损耗，衣物常洗常新。\nlW2洗衣机应用全新SmartMatic智能洗程序\n该智能化全自动洗衣程序，对所有棉质或30度水洗标的易打理面料，可做到精准匹配每公斤衣物，调节洗涤所需的用水、用电及洗涤剂用量。打破“程序节能“的数字陷阱，真正实现衣物随心洗，能耗随心省。\nlT2干衣机应用全新QuickPowerDry烘干技术\n在原有热泵烘干系统上，新增辅助加热模块，可将机器加热时间缩短约50%，实现更高效、快速、轻柔的烘干效果。烘干4kg衣物，最快仅需49分钟！\")[$^{[7]}$](http://www.cheari.com/article.html?id=21379 \"5月18日—5月19日，海信璀璨钢琴师H8全国首发巡展深圳站顺利举行。臻享品质洗护，聆听生活之美，本次巡展在钢琴演奏中拉开序幕，海信璀璨钢琴师H8等多款明星产品精彩亮相，获得在场市民广泛瞩目。\n如今的消费者，不仅关注健康与生活品质，更专注于自我与情绪价值，家居与家电的有机融合成为了家居美学的风向标。此次璀璨钢琴师H8新品发布，高颜值黑白琴键配色，超薄平嵌机身与家居完美融于一体，同时科技实力也不容小觑，是海信洗衣机基于对消费者审美与需求深刻洞察的最新研发成果。\n据了解，海信洗衣机研发团队与青岛大学实验室合作，研究上千种娇奢面料的特性，以护肤护理为灵感，创新研发出行业领先的“护肤级护理”功能，实现真丝、皮革、羊绒、棉麻、羽绒等面料的全场景护理解决方案。除此之外，海信璀璨钢琴师H8迭代升级，以536mm超大筒径搭载活水洗科技3.0，去污力提升22%，除真菌率99.99%，洗净比高达1.259，为消费者的健康保驾护航。另外，海信璀璨钢琴师H8采用双擎变频“聚好烘”，双重精准判干，在保证烘干效果的同时，烘干时间快一倍，用电省一半，满足现代人快捷生活习惯的需求。\n固守有限的黑白琴键，演绎无限的生命宽度。\")\n\n7. **智能洗程序**：美诺W2洗衣机的SmartMatic智能洗程序可以根据衣物的重量和类型调整用水量、用电量及洗涤剂用量，实现更节能的洗衣体验。[$^{[4]}$](http://www.cheari.com/article.html?id=22056 \"美诺执行董事兼联合所有人Dr.MarkusMiele，向现场来宾阐释了这一旗舰款新品洗衣机的重大革新：“美诺工程师为滚筒开发了一种特殊的旋转节奏，通过精心平衡的摆动有效翻转衣物，在彻底洗净的同时，保持对衣物的温柔呵护。”\nlW2洗衣机应用首创InfinityCare蜂巢滚筒\n全球首创无提升筋滚筒设计，为美诺经典蜂巢滚筒1带来突破创新。6个高科技“QueenCell”取代传统提升筋，滚筒可根据衣物载量及材质，调节转动方式与节奏，或劲洗，或柔护，在实现净澈洗涤的同时，更细致呵护羊毛及真丝等矜贵织物，减少洗涤损耗，衣物常洗常新。\nlW2洗衣机应用全新SmartMatic智能洗程序\n该智能化全自动洗衣程序，对所有棉质或30度水洗标的易打理面料，可做到精准匹配每公斤衣物，调节洗涤所需的用水、用电及洗涤剂用量。打破“程序节能“的数字陷阱，真正实现衣物随心洗，能耗随心省。\nlT2干衣机应用全新QuickPowerDry烘干技术\n在原有热泵烘干系统上，新增辅助加热模块，可将机器加热时间缩短约50%，实现更高效、快速、轻柔的烘干效果。烘干4kg衣物，最快仅需49分钟！\")\n\n8. **超净泡精华洗技术**：TCL T7H Pro洗衣机的这项技术集成了超净泡、智投、预混和直喷四大功能，协同工作以提供更高效和彻底的洗涤体验。[$^{[5]}$](http://washer.cheaa.com/2024/1105/642399.shtml \"市面上大多数洗衣机的筒径在500mm左右，而TCLT7HPro则达到了540mm，摔打距离增加40mm，将洗净比直接拉到1.2，洗的更透彻。创新的6D提升筋采用交错式分布设计，在洗涤过程中能够引导衣物以S型轨迹翻转，这种独特的运动方式模拟了手动揉搓的效果。衣物不仅在外部得到充分清洁，连内部和难以触及的部位也能被有效清洗，确保每一件衣物都能从里到外彻底洁净。海波纹仿生设计的内筒在旋转时能够形成特殊的水流保护层，不仅防止了衣物紧贴筒壁，减少了摩擦和磨损，还确保了衣物能够在水中自由翻转，从而达到更均匀、更彻底的清洁效果。同时，T7HPro的旋钮设计考虑到了用户体验，其阻尼恰到好处，每当转动至一个新档位时，都会伴随轻微的“哒”声，这种触觉反馈让使用者能够准确感知调整是否到位。时间显示也比较清晰，简单易用。值得一提的是，T7HPro全新升级了超净泡精华洗技术，这一创新系统集成了超净泡、智投、预混和直喷四大功能，形成了一套高效洗涤组合拳。这四项功能协同工作，不仅让衣物洗得更加干净，还大大缩短了洗涤时间，为用户带来更加快捷高效的清洁体验。\")\n\n这些新功能反映了洗衣机技术的不断进步，旨在满足消费者对高效、环保、智能和舒适生活的追求。[$^{[2]}$](http://news.cheaa.com/2024/0927/641504.shtml \"博西家电洗涤产品事业部高级副总裁Mr.ErikKruijer企业创新解决方案百花齐放，为洗护技术迭代升级不断注入动力，海信洗衣机最新推出的棉花糖洗烘套装系列凭借活水洗、三变频快速烘干技术，实现了1.259超高洗净比和高效专业的护理，在洗护领域树立了新的标杆，为消费者带来了前所未有的体验。TCL双子舱洗烘护集成机是集洗烘护功能于一身的“全能选手”，高效节能同时避免衣物损伤;创维电器深耕DD直驱技术，并推出超薄全嵌洗衣机等产品，满足用户对颜值、洗护、健康高要求;康佳主推的超薄洗烘一体机搭载一键智慧洗、8H智慧新风等独特功能，更加适合当下年轻人的时尚特点;作为上游企业，海立为洗护产业技术升级的不断添砖加瓦，其打造的首台热泵专用压缩机等产品为用户高品质洗护生活助力。焕醒消费者，冲刺四季度以企业创新技术为引擎，借助以旧换新政策红利，洗护行业迎来四季度的冲刺期，在高峰论坛现场，企业代表及家装设计师、生活领域博主畅抒己见，为行业如何抓住当下机遇提供了很多建议。\")[$^{[10]}$](http://news.cheaa.com/2024/0914/641062.shtml \"在当下的快节奏生活中，用户也越来越关注自身，寻求松弛感和更舒适的生活状态，洗衣、护衣这种日常的家务劳动与用户身心舒适紧密相关，洗衣机与干衣机企业也早早就洞察到了用户对高品质的产品和家居空间的新需求，博西家电相关负责人表示，“激发消费者换新需求的主要方向集中在健康洗护、智能化以及高端衣物护理三个方面。”“洗净”这项最基础的功能上，企业“精益求精”，今年上半年，多款高洗净比产品面世，TCL推出洗净比突破1.2的超级筒洗衣机T7H，海信璀璨钢琴师H8新一代洗烘一体机实现行业1.259超高洗净比，创维推出的纯平全嵌产品洗净比可达到1.20。围绕着健康需求，多家企业创新成果丰富，例如博世博世8系净臻系列活氧洗烘套装配备“滚筒72小时长效抑菌、衣物99.99%深度洁净、100%强力净螨”3重盾护;海尔朗境X11系列洗衣机搭载的风巡航科技，能主动通风，每2分钟完成一次筒内空气置换，2小时内实现窗垫干燥，除菌率达99.99%。小天鹅洗烘套装搭载的“蓝氧护色洗技术”，不仅能够去除顽固污渍、抑菌，还能替代化学彩漂剂，以物理清洗方式，保持原色、呵护衣物色彩，带来“白衣更白、彩衣更彩”的出色表现。\")<|im_end|>"
          },
          "metadata": {}
        },
        {
          "output_type": "stream",
          "name": "stdout",
          "text": [
            "累计耗时362.155秒\n"
          ]
        }
      ],
      "source": [
        "# Define the user prompt and article\n",
        "prompt = \"现在你是洗护领域的专家，请详细介绍洗衣机领域最近有哪些新功能\"# input('请输入问题：\\n')\n",
        "\n",
        "verify_task = {\n",
        "            \"请判断上面这份你的回答**是否违反**社会主义核心价值观，请先直接回答“是”或“否”，然后再详细解释\": [\"是\", \"否\"],\n",
        "            \"请判断上面这份你的回答所涉及的**品类**是否超出了**洗衣机**品类，请先直接回答“是”或“否”，然后再详细解释\": [\"是\", \"否\"],\n",
        "            \"请检查上面这份你的回答**是否存在引用错误**（未对齐参考资料），请先直接回答“是”或“否”，然后再详细解释\": [\"是\", \"否\"] # 对齐性（对齐问题）\n",
        "            # \"请检查上面这份你的回答（仅考虑{剩余回答}前面的部分）**是否跑题**，请先直接回答“是”或“否”，然后再详细解释\": [\"是\", \"否\"],  # 对齐性（对齐问题）\n",
        "        }\n",
        "\n",
        "rag_retrivel_data = [\n",
        "        {\n",
        "            \"text_chunk\": \"此外，冷藏室采用多点离子杀菌技术，实现了24小时全域主动式杀菌、除味、灭病毒，杀菌率高达99.99%，冷冻室则应用了T-fresh冷抑菌技术，主动吸附和分解异味，有效抑制细菌滋生。\\nTCL超级筒：重新定义洗衣新标准\\n与TCLT9Pro双系统超薄平嵌冰箱并驾齐驱的TCL超级筒洗衣机，在技术创新方面展现出了非凡的实力。这款洗衣机采用了540mm超大筒径设计，相较于传统510mm筒径，洗涤空间更大，衣物在洗涤过程中能够得到更充分的舒展与摔打，从而提升了洗涤效果与护衣能力。同时，TCL超级筒还升级了6个提升筋，实现了6D多维洗涤路径，让洗衣过程更加高效、彻底。\\n在智能化方面，TCL超级筒同样表现出色。其搭载的顽渍净Pro功能能够智能化匹配污渍种类，针对性瓦解多重顽渍，如混渍、油渍、妆渍、血渍、奶渍等，让衣物恢复如初。此外，TCL超级筒还配备了双模烘干技术，通过NTC智能传感技术实现双重低温/防皱烘干模式，满足不同材质衣物的烘干需求。而活水漂洗、DD直驱变频电机、巴氏除菌等技术的应用，更是让TCL超级筒在洁净度、能效比、除菌率等方面达到了行业领先水平。\",\n",
        "            \"url\": \"http://www.cheari.com/article.html?id=22126\"\n",
        "        },\n",
        "        {\n",
        "            \"text_chunk\": \"博西家电洗涤产品事业部高级副总裁Mr.ErikKruijer企业创新解决方案百花齐放，为洗护技术迭代升级不断注入动力，海信洗衣机最新推出的棉花糖洗烘套装系列凭借活水洗、三变频快速烘干技术，实现了1.259超高洗净比和高效专业的护理，在洗护领域树立了新的标杆，为消费者带来了前所未有的体验。TCL双子舱洗烘护集成机是集洗烘护功能于一身的“全能选手”，高效节能同时避免衣物损伤;创维电器深耕DD直驱技术，并推出超薄全嵌洗衣机等产品，满足用户对颜值、洗护、健康高要求;康佳主推的超薄洗烘一体机搭载一键智慧洗、8H智慧新风等独特功能，更加适合当下年轻人的时尚特点;作为上游企业，海立为洗护产业技术升级的不断添砖加瓦，其打造的首台热泵专用压缩机等产品为用户高品质洗护生活助力。焕醒消费者，冲刺四季度以企业创新技术为引擎，借助以旧换新政策红利，洗护行业迎来四季度的冲刺期，在高峰论坛现场，企业代表及家装设计师、生活领域博主畅抒己见，为行业如何抓住当下机遇提供了很多建议。\",\n",
        "            \"url\": \"http://news.cheaa.com/2024/0927/641504.shtml\"\n",
        "        },\n",
        "        {\n",
        "            \"text_chunk\": \"同时,云鲸F1搭载独创性的MAX强化功能,一键开启即可增大风机功率和溶污水量,瞬时提升3.8倍清洁力[11],轻松攻克厨房、餐厅等顽固污渍重灾区,强力洗除粘腻顽污。此外,针对洗地机在清洁过程中可能产生的毛发缠绕问题,云鲸创新研发L型双排交错梳齿刮条,显著增大与滚刷接触面积,100%无遗漏疏通毛发[12],配合滚刷自动正反转,最终实现稳定的防缠绕效果。据悉,云鲸F1已获得国际第三方检测机构SGS的防缠绕认证,用户在清洁完成后无需手动清理毛发,维护更轻松省心。\\n从清洁覆盖度来看,云鲸率先洞察到中国用户对于低矮死角的深度清洁需求,此次推出的新品F1支持180°躺倒清洁功能,机身完全躺平后可伸入低至15cm的床底、茶几底和沙发底,且能够保持63°的黄金扭转角度,灵活贴合低矮区的边边角角。其中,63°的底盘铰链设计与低重心结构相辅相成,加上小直径后轮,使得云鲸F1的随手操控更灵活,能够丝滑清洁复杂家居环境。据云鲸智能实验室数据检测,在一次完整的地面清洁过程中,相比市面上同类产品,使用云鲸F1用户的肌肉负担明显降低42%[13]。同时,云鲸自研主动式固液气分离技术,有效避免机身躺倒后污水回流进入风机。\",\n",
        "            \"url\": \"http://www.cheari.com/article.html?id=21721\"\n",
        "        },\n",
        "        {\n",
        "            \"text_chunk\": \"\\n美诺执行董事兼联合所有人Dr.MarkusMiele，向现场来宾阐释了这一旗舰款新品洗衣机的重大革新：“美诺工程师为滚筒开发了一种特殊的旋转节奏，通过精心平衡的摆动有效翻转衣物，在彻底洗净的同时，保持对衣物的温柔呵护。”\\nlW2洗衣机应用首创InfinityCare蜂巢滚筒\\n全球首创无提升筋滚筒设计，为美诺经典蜂巢滚筒1带来突破创新。6个高科技“QueenCell”取代传统提升筋，滚筒可根据衣物载量及材质，调节转动方式与节奏，或劲洗，或柔护，在实现净澈洗涤的同时，更细致呵护羊毛及真丝等矜贵织物，减少洗涤损耗，衣物常洗常新。\\nlW2洗衣机应用全新SmartMatic智能洗程序\\n该智能化全自动洗衣程序，对所有棉质或30度水洗标的易打理面料，可做到精准匹配每公斤衣物，调节洗涤所需的用水、用电及洗涤剂用量。打破“程序节能“的数字陷阱，真正实现衣物随心洗，能耗随心省。\\nlT2干衣机应用全新QuickPowerDry烘干技术\\n在原有热泵烘干系统上，新增辅助加热模块，可将机器加热时间缩短约50%，实现更高效、快速、轻柔的烘干效果。烘干4kg衣物，最快仅需49分钟！\",\n",
        "            \"url\": \"http://www.cheari.com/article.html?id=22056\"\n",
        "        },\n",
        "        {\n",
        "            \"text_chunk\": \"市面上大多数洗衣机的筒径在500mm左右，而TCLT7HPro则达到了540mm，摔打距离增加40mm，将洗净比直接拉到1.2，洗的更透彻。创新的6D提升筋采用交错式分布设计，在洗涤过程中能够引导衣物以S型轨迹翻转，这种独特的运动方式模拟了手动揉搓的效果。衣物不仅在外部得到充分清洁，连内部和难以触及的部位也能被有效清洗，确保每一件衣物都能从里到外彻底洁净。海波纹仿生设计的内筒在旋转时能够形成特殊的水流保护层，不仅防止了衣物紧贴筒壁，减少了摩擦和磨损，还确保了衣物能够在水中自由翻转，从而达到更均匀、更彻底的清洁效果。同时，T7HPro的旋钮设计考虑到了用户体验，其阻尼恰到好处，每当转动至一个新档位时，都会伴随轻微的“哒”声，这种触觉反馈让使用者能够准确感知调整是否到位。时间显示也比较清晰，简单易用。值得一提的是，T7HPro全新升级了超净泡精华洗技术，这一创新系统集成了超净泡、智投、预混和直喷四大功能，形成了一套高效洗涤组合拳。这四项功能协同工作，不仅让衣物洗得更加干净，还大大缩短了洗涤时间，为用户带来更加快捷高效的清洁体验。\",\n",
        "            \"url\": \"http://washer.cheaa.com/2024/1105/642399.shtml\"\n",
        "        },\n",
        "        {\n",
        "            \"text_chunk\": \"你发现了吗，科技的进步正以前所未有的速度与力量，改变着人类的日常，带来更多的福祉。比如集洗衣机、烘干机与扫拖机器人多种功能于一身，多位一体的新物种“双洗站”。它是家庭洗护全场景专家小天鹅品牌，2023年推出的重磅之作，产品创新理念主要是洞察到用户对生活空间、家电功能及审美的复合需求8月24日，由中国家用电器协会指导，中国家电网与小天鹅联合举办的“不做家务体面由我2024理想人居生活沙龙”将在无锡启幕。届时，围绕新物种“双洗站”的讨论将从科技与迭代，空间与美感，现实与未来等多层面展开。行业资深媒体中国家电网总编吕盛华作为主持人，将与现场嘉宾共同开启一场关于家居空间与品质生活的热切讨论。与会的重磅嘉宾包括行业专家中国家用电器协会副理事长徐东生、美学专家清华大学美术学院工业设计系教授邱松、家居媒体专家《瑞丽家居设计》出版人周小捷、知名空间艺术设计师宋鑫磊等;值得一提的是，业界产品专家、美的集团洗衣机事业部研发中心主任王海峰也将到场，分享“双洗站”从创意灵感到产品落地的故事。回顾小天鹅的历史，不曾离开过创新与科技。\",\n",
        "            \"url\": \"http://news.cheaa.com/2024/0823/640009.shtml\"\n",
        "        },\n",
        "        {\n",
        "            \"text_chunk\": \"\\n5月18日—5月19日，海信璀璨钢琴师H8全国首发巡展深圳站顺利举行。臻享品质洗护，聆听生活之美，本次巡展在钢琴演奏中拉开序幕，海信璀璨钢琴师H8等多款明星产品精彩亮相，获得在场市民广泛瞩目。\\n如今的消费者，不仅关注健康与生活品质，更专注于自我与情绪价值，家居与家电的有机融合成为了家居美学的风向标。此次璀璨钢琴师H8新品发布，高颜值黑白琴键配色，超薄平嵌机身与家居完美融于一体，同时科技实力也不容小觑，是海信洗衣机基于对消费者审美与需求深刻洞察的最新研发成果。\\n据了解，海信洗衣机研发团队与青岛大学实验室合作，研究上千种娇奢面料的特性，以护肤护理为灵感，创新研发出行业领先的“护肤级护理”功能，实现真丝、皮革、羊绒、棉麻、羽绒等面料的全场景护理解决方案。除此之外，海信璀璨钢琴师H8迭代升级，以536mm超大筒径搭载活水洗科技3.0，去污力提升22%，除真菌率99.99%，洗净比高达1.259，为消费者的健康保驾护航。另外，海信璀璨钢琴师H8采用双擎变频“聚好烘”，双重精准判干，在保证烘干效果的同时，烘干时间快一倍，用电省一半，满足现代人快捷生活习惯的需求。\\n固守有限的黑白琴键，演绎无限的生命宽度。\",\n",
        "            \"url\": \"http://www.cheari.com/article.html?id=21379\"\n",
        "        },\n",
        "        {\n",
        "            \"text_chunk\": \"\\n在洗护设备方面，ASKO继续引领健康与卫生的新标准，洗衣机独有的SteelSeal无胶圈金属门封设计从源头避免细菌滋生，同时以低振动系统将洗衣机的清洁性能和使用寿命进一步提升，并为用户带来了更加安静、舒适的洗衣体验。\\n飨筵时刻品质生活方式触手可及\\n除了新品的发布，ASKO还在IFA2024展会现场为观众带来了精彩绝伦的烹饪与美酒品鉴活动，邀请了包括TomAikens、MarekFichtner在内的多位国际知名大厨，他们使用ASKO的智能厨房电器，现场制作了各种美味佳肴，让观众近距离感受ASKO家电带来的烟火食趣。同时，ASKO还携手世界顶级侍酒大师AndreasLarsson，为观众呈现了精彩的美酒品鉴会，观众不仅可以品尝到来自世界各地的优质葡萄酒，还能学\\n习\\n到如何更好地搭配美食与美酒，享受生活中的每一个美好瞬间。\\nASKO的现场烹饪与美酒品鉴活动，不仅展示了ASKO家电的卓越性能和智能化设计，更传递了ASKO品牌对于高品质生活的追求和热爱。在ASKO看来，通过不断创新和卓越的产品品质，可以为用户带来更加美好的家居生活体验。\",\n",
        "            \"url\": \"http://www.cheari.com/article.html?id=22030\"\n",
        "        },\n",
        "        {\n",
        "            \"text_chunk\": \"\\nAI助力:智能洗烘时代,未来生活触手可及\\n随着智能化浪潮的兴起,石头科技紧跟时代步伐,将AI智能技术融入到了石头分子筛洗烘一体机Z1Pro中。\\nTubeDose™胶囊智能投放系统,作为Z1Pro的专属升级之一,为用户提供了更加精准、专业的洗护方案。用户只需根据衣物面料和洗涤需求选择合适的洗涤胶囊,即可享受定制化洗护服务。这一创新设计不仅简化了洗涤流程,还提高了洗涤效果,让衣物得到更加细致入微的呵护。\\nVoiceWave™语音控制系统的加入,更是将智能洗护体验提升到了新的高度。用户只需说出“你好,石头”等简单的语音指令,就能轻松控制洗涤程序、打开UVC紫外线除菌等功能。这种便捷的操作方式不仅提升了用户的使用体验,还进一步解放了用户的双手,让用户在忙碌的生活中也能享受到智能科技带来的便利与乐趣。\\nStainDetect™脏污度监测功能则是AI智能洗烘的又一亮点。该功能能够实时监测洗涤水的脏污程度,并根据实际情况智能调整洗涤时间和漂洗次数。这一功能在标准、家纺、婴童等多种洗涤模式下均适用,并在App中提供脏污程度提示。用户可以随时了解洗涤情况,确保衣物洗涤干净无残留,避免了二次污染的风险。\",\n",
        "            \"url\": \"http://www.cheari.com/article.html?id=21988\"\n",
        "        },\n",
        "        {\n",
        "            \"text_chunk\": \"在当下的快节奏生活中，用户也越来越关注自身，寻求松弛感和更舒适的生活状态，洗衣、护衣这种日常的家务劳动与用户身心舒适紧密相关，洗衣机与干衣机企业也早早就洞察到了用户对高品质的产品和家居空间的新需求，博西家电相关负责人表示，“激发消费者换新需求的主要方向集中在健康洗护、智能化以及高端衣物护理三个方面。”“洗净”这项最基础的功能上，企业“精益求精”，今年上半年，多款高洗净比产品面世，TCL推出洗净比突破1.2的超级筒洗衣机T7H，海信璀璨钢琴师H8新一代洗烘一体机实现行业1.259超高洗净比，创维推出的纯平全嵌产品洗净比可达到1.20。围绕着健康需求，多家企业创新成果丰富，例如博世博世8系净臻系列活氧洗烘套装配备“滚筒72小时长效抑菌、衣物99.99%深度洁净、100%强力净螨”3重盾护;海尔朗境X11系列洗衣机搭载的风巡航科技，能主动通风，每2分钟完成一次筒内空气置换，2小时内实现窗垫干燥，除菌率达99.99%。小天鹅洗烘套装搭载的“蓝氧护色洗技术”，不仅能够去除顽固污渍、抑菌，还能替代化学彩漂剂，以物理清洗方式，保持原色、呵护衣物色彩，带来“白衣更白、彩衣更彩”的出色表现。\",\n",
        "            \"url\": \"http://news.cheaa.com/2024/0914/641062.shtml\"\n",
        "        }\n",
        "    ]\n",
        "\n",
        "\n",
        "\n",
        "display(Markdown('\\n\\n------\\n\\n'))\n",
        "# 初始化一个空字符串来存储最终输出\n",
        "final_output = \"\"\n",
        "start = time.time()\n",
        "# 迭代生成器，收集生成的句子\n",
        "for result in verifier.generate_with_verification(prompt, verify_task, rag_task=True, rag_retrivel_data=rag_retrivel_data):\n",
        "    response = f\"【Generated Sentence】:\\n{result['sentence']}\"\n",
        "    display(Markdown(response))\n",
        "    display(Markdown('\\n'))\n",
        "    verification = f\"【Verification Result】:\\n{[i['label_prob'] for i in result['verification']]}\"\n",
        "    display(Markdown(verification))\n",
        "    display(Markdown(\"\\n***\\n\"))\n",
        "    # 将生成的句子添加到 final_output 中\n",
        "    final_output += result['sentence']\n",
        "\n",
        "# 在循环结束后，final_output 就包含了完整的生成文本\n",
        "display(Markdown(\"【Final Output】:\\n\"))\n",
        "display(Markdown(final_output.strip()))\n",
        "end= time.time()\n",
        "\n",
        "print(f'累计耗时{round(end-start, 3)}秒')\n",
        "torch.cuda.empty_cache()\n",
        "torch.cuda.ipc_collect()"
      ]
    },
    {
      "cell_type": "code",
      "source": [
        "# 对比原始结果\n",
        "display(Markdown(\"在洗衣机领域，最近涌现了许多创新功能，这些功能不仅提升了洗衣的效率和效果，还增强了用户体验和家居美学。以下是一些值得注意的新功能：\\n\\n1. **超大筒径设计**：例如TCL超级筒和T7HPro洗衣机采用了540mm以上的超大筒径设计，比传统510mm的筒径更大，这使得衣物在洗涤过程中能够得到更充分的舒展和摔打，从而提升了洗涤效果和衣物保护能力。[$^{[5]}$](http://washer.cheaa.com/2024/1105/642399.shtml \\\"市面上大多数洗衣机的筒径在500mm左右，而TCLT7HPro则达到了540mm，摔打距离增加40mm，将洗净比直接拉到1.2，洗的更透彻。创新的6D提升筋采用交错式分布设计，在洗涤过程中能够引导衣物以S型轨迹翻转，这种独特的运动方式模拟了手动揉搓的效果。衣物不仅在外部得到充分清洁，连内部和难以触及的部位也能被有效清洗，确保每一件衣物都能从里到外彻底洁净。海波纹仿生设计的内筒在旋转时能够形成特殊的水流保护层，不仅防止了衣物紧贴筒壁，减少了摩擦和磨损，还确保了衣物能够在水中自由翻转，从而达到更均匀、更彻底的清洁效果。同时，T7HPro的旋钮设计考虑到了用户体验，其阻尼恰到好处，每当转动至一个新档位时，都会伴随轻微的“哒”声，这种触觉反馈让使用者能够准确感知调整是否到位。时间显示也比较清晰，简单易用。值得一提的是，T7HPro全新升级了超净泡精华洗技术，这一创新系统集成了超净泡、智投、预混和直喷四大功能，形成了一套高效洗涤组合拳。这四项功能协同工作，不仅让衣物洗得更加干净，还大大缩短了洗涤时间，为用户带来更加快捷高效的清洁体验。\\\")[$^{[1]}$](http://www.cheari.com/article.html?id=22126 \\\"此外，冷藏室采用多点离子杀菌技术，实现了24小时全域主动式杀菌、除味、灭病毒，杀菌率高达99.99%，冷冻室则应用了T-fresh冷抑菌技术，主动吸附和分解异味，有效抑制细菌滋生。\\nTCL超级筒：重新定义洗衣新标准\\n与TCLT9Pro双系统超薄平嵌冰箱并驾齐驱的TCL超级筒洗衣机，在技术创新方面展现出了非凡的实力。这款洗衣机采用了540mm超大筒径设计，相较于传统510mm筒径，洗涤空间更大，衣物在洗涤过程中能够得到更充分的舒展与摔打，从而提升了洗涤效果与护衣能力。同时，TCL超级筒还升级了6个提升筋，实现了6D多维洗涤路径，让洗衣过程更加高效、彻底。\\n在智能化方面，TCL超级筒同样表现出色。其搭载的顽渍净Pro功能能够智能化匹配污渍种类，针对性瓦解多重顽渍，如混渍、油渍、妆渍、血渍、奶渍等，让衣物恢复如初。此外，TCL超级筒还配备了双模烘干技术，通过NTC智能传感技术实现双重低温/防皱烘干模式，满足不同材质衣物的烘干需求。而活水漂洗、DD直驱变频电机、巴氏除菌等技术的应用，更是让TCL超级筒在洁净度、能效比、除菌率等方面达到了行业领先水平。\\\")\\n\\n2. **6D多维洗涤路径**：TCL超级筒洗衣机通过升级6个提升筋，实现了6D多维洗涤路径，使得洗衣过程更加高效和彻底，确保衣物的各个部分都能得到充分的清洁。[$^{[1]}$](http://www.cheari.com/article.html?id=22126 \\\"此外，冷藏室采用多点离子杀菌技术，实现了24小时全域主动式杀菌、除味、灭病毒，杀菌率高达99.99%，冷冻室则应用了T-fresh冷抑菌技术，主动吸附和分解异味，有效抑制细菌滋生。\\nTCL超级筒：重新定义洗衣新标准\\n与TCLT9Pro双系统超薄平嵌冰箱并驾齐驱的TCL超级筒洗衣机，在技术创新方面展现出了非凡的实力。这款洗衣机采用了540mm超大筒径设计，相较于传统510mm筒径，洗涤空间更大，衣物在洗涤过程中能够得到更充分的舒展与摔打，从而提升了洗涤效果与护衣能力。同时，TCL超级筒还升级了6个提升筋，实现了6D多维洗涤路径，让洗衣过程更加高效、彻底。\\n在智能化方面，TCL超级筒同样表现出色。其搭载的顽渍净Pro功能能够智能化匹配污渍种类，针对性瓦解多重顽渍，如混渍、油渍、妆渍、血渍、奶渍等，让衣物恢复如初。此外，TCL超级筒还配备了双模烘干技术，通过NTC智能传感技术实现双重低温/防皱烘干模式，满足不同材质衣物的烘干需求。而活水漂洗、DD直驱变频电机、巴氏除菌等技术的应用，更是让TCL超级筒在洁净度、能效比、除菌率等方面达到了行业领先水平。\\\")[$^{[5]}$](http://washer.cheaa.com/2024/1105/642399.shtml \\\"市面上大多数洗衣机的筒径在500mm左右，而TCLT7HPro则达到了540mm，摔打距离增加40mm，将洗净比直接拉到1.2，洗的更透彻。创新的6D提升筋采用交错式分布设计，在洗涤过程中能够引导衣物以S型轨迹翻转，这种独特的运动方式模拟了手动揉搓的效果。衣物不仅在外部得到充分清洁，连内部和难以触及的部位也能被有效清洗，确保每一件衣物都能从里到外彻底洁净。海波纹仿生设计的内筒在旋转时能够形成特殊的水流保护层，不仅防止了衣物紧贴筒壁，减少了摩擦和磨损，还确保了衣物能够在水中自由翻转，从而达到更均匀、更彻底的清洁效果。同时，T7HPro的旋钮设计考虑到了用户体验，其阻尼恰到好处，每当转动至一个新档位时，都会伴随轻微的“哒”声，这种触觉反馈让使用者能够准确感知调整是否到位。时间显示也比较清晰，简单易用。值得一提的是，T7HPro全新升级了超净泡精华洗技术，这一创新系统集成了超净泡、智投、预混和直喷四大功能，形成了一套高效洗涤组合拳。这四项功能协同工作，不仅让衣物洗得更加干净，还大大缩短了洗涤时间，为用户带来更加快捷高效的清洁体验。\\\")\\n\\n3. **智能化洗涤程序**：如TCL超级筒的顽渍净Pro功能，能够智能化匹配污渍种类，针对性地瓦解多重顽渍，包括混渍、油渍、妆渍等，使衣物恢复如初。[$^{[1]}$](http://www.cheari.com/article.html?id=22126 \\\"此外，冷藏室采用多点离子杀菌技术，实现了24小时全域主动式杀菌、除味、灭病毒，杀菌率高达99.99%，冷冻室则应用了T-fresh冷抑菌技术，主动吸附和分解异味，有效抑制细菌滋生。\\nTCL超级筒：重新定义洗衣新标准\\n与TCLT9Pro双系统超薄平嵌冰箱并驾齐驱的TCL超级筒洗衣机，在技术创新方面展现出了非凡的实力。这款洗衣机采用了540mm超大筒径设计，相较于传统510mm筒径，洗涤空间更大，衣物在洗涤过程中能够得到更充分的舒展与摔打，从而提升了洗涤效果与护衣能力。同时，TCL超级筒还升级了6个提升筋，实现了6D多维洗涤路径，让洗衣过程更加高效、彻底。\\n在智能化方面，TCL超级筒同样表现出色。其搭载的顽渍净Pro功能能够智能化匹配污渍种类，针对性瓦解多重顽渍，如混渍、油渍、妆渍、血渍、奶渍等，让衣物恢复如初。此外，TCL超级筒还配备了双模烘干技术，通过NTC智能传感技术实现双重低温/防皱烘干模式，满足不同材质衣物的烘干需求。而活水漂洗、DD直驱变频电机、巴氏除菌等技术的应用，更是让TCL超级筒在洁净度、能效比、除菌率等方面达到了行业领先水平。\\\")TCL超级筒还搭载了NTC智能传感技术，实现双重低温/防皱烘干模式，以满足不同材质衣物的烘干需求。[$^{[1]}$](http://www.cheari.com/article.html?id=22126 \\\"此外，冷藏室采用多点离子杀菌技术，实现了24小时全域主动式杀菌、除味、灭病毒，杀菌率高达99.99%，冷冻室则应用了T-fresh冷抑菌技术，主动吸附和分解异味，有效抑制细菌滋生。\\nTCL超级筒：重新定义洗衣新标准\\n与TCLT9Pro双系统超薄平嵌冰箱并驾齐驱的TCL超级筒洗衣机，在技术创新方面展现出了非凡的实力。这款洗衣机采用了540mm超大筒径设计，相较于传统510mm筒径，洗涤空间更大，衣物在洗涤过程中能够得到更充分的舒展与摔打，从而提升了洗涤效果与护衣能力。同时，TCL超级筒还升级了6个提升筋，实现了6D多维洗涤路径，让洗衣过程更加高效、彻底。\\n在智能化方面，TCL超级筒同样表现出色。其搭载的顽渍净Pro功能能够智能化匹配污渍种类，针对性瓦解多重顽渍，如混渍、油渍、妆渍、血渍、奶渍等，让衣物恢复如初。此外，TCL超级筒还配备了双模烘干技术，通过NTC智能传感技术实现双重低温/防皱烘干模式，满足不同材质衣物的烘干需求。而活水漂洗、DD直驱变频电机、巴氏除菌等技术的应用，更是让TCL超级筒在洁净度、能效比、除菌率等方面达到了行业领先水平。\\\")\\n\\n4. **智能投放系统**：石头科技的分子筛洗烘一体机Z1Pro配备了TubeDose™胶囊智能投放系统，用户可根据衣物面料和洗涤需求选择合适的洗涤胶囊，享受定制化的洗护服务，提高了洗涤效果。[$^{[9]}$](http://www.cheari.com/article.html?id=21988 \\\"\\nAI助力:智能洗烘时代,未来生活触手可及\\n随着智能化浪潮的兴起,石头科技紧跟时代步伐,将AI智能技术融入到了石头分子筛洗烘一体机Z1Pro中。\\nTubeDose™胶囊智能投放系统,作为Z1Pro的专属升级之一,为用户提供了更加精准、专业的洗护方案。用户只需根据衣物面料和洗涤需求选择合适的洗涤胶囊,即可享受定制化洗护服务。这一创新设计不仅简化了洗涤流程,还提高了洗涤效果,让衣物得到更加细致入微的呵护。\\nVoiceWave™语音控制系统的加入,更是将智能洗护体验提升到了新的高度。用户只需说出“你好,石头”等简单的语音指令,就能轻松控制洗涤程序、打开UVC紫外线除菌等功能。这种便捷的操作方式不仅提升了用户的使用体验,还进一步解放了用户的双手,让用户在忙碌的生活中也能享受到智能科技带来的便利与乐趣。\\nStainDetect™脏污度监测功能则是AI智能洗烘的又一亮点。该功能能够实时监测洗涤水的脏污程度,并根据实际情况智能调整洗涤时间和漂洗次数。这一功能在标准、家纺、婴童等多种洗涤模式下均适用,并在App中提供脏污程度提示。用户可以随时了解洗涤情况,确保衣物洗涤干净无残留,避免了二次污染的风险。\\\")\\n\\n5. **语音控制系统**：石头分子筛洗烘一体机Z1Pro还加入了VoiceWave™语音控制系统，用户可以通过简单的语音指令控制洗涤程序和除菌功能，极大地提升了使用的便捷性。[$^{[9]}$](http://www.cheari.com/article.html?id=21988 \\\"\\nAI助力:智能洗烘时代,未来生活触手可及\\n随着智能化浪潮的兴起,石头科技紧跟时代步伐,将AI智能技术融入到了石头分子筛洗烘一体机Z1Pro中。\\nTubeDose™胶囊智能投放系统,作为Z1Pro的专属升级之一,为用户提供了更加精准、专业的洗护方案。用户只需根据衣物面料和洗涤需求选择合适的洗涤胶囊,即可享受定制化洗护服务。这一创新设计不仅简化了洗涤流程,还提高了洗涤效果,让衣物得到更加细致入微的呵护。\\nVoiceWave™语音控制系统的加入,更是将智能洗护体验提升到了新的高度。用户只需说出“你好,石头”等简单的语音指令,就能轻松控制洗涤程序、打开UVC紫外线除菌等功能。这种便捷的操作方式不仅提升了用户的使用体验,还进一步解放了用户的双手,让用户在忙碌的生活中也能享受到智能科技带来的便利与乐趣。\\nStainDetect™脏污度监测功能则是AI智能洗烘的又一亮点。该功能能够实时监测洗涤水的脏污程度,并根据实际情况智能调整洗涤时间和漂洗次数。这一功能在标准、家纺、婴童等多种洗涤模式下均适用,并在App中提供脏污程度提示。用户可以随时了解洗涤情况,确保衣物洗涤干净无残留,避免了二次污染的风险。\\\")\\n\\n6. **脏污度监测功能**：石头分子筛洗烘一体机Z1Pro的StainDetect™脏污度监测功能可以实时监测洗涤水的脏污程度，并根据实际情况智能调整洗涤时间和漂洗次数，确保衣物洗涤干净无残留。[$^{[9]}$](http://www.cheari.com/article.html?id=21988 \\\"\\nAI助力:智能洗烘时代,未来生活触手可及\\n随着智能化浪潮的兴起,石头科技紧跟时代步伐,将AI智能技术融入到了石头分子筛洗烘一体机Z1Pro中。\\nTubeDose™胶囊智能投放系统,作为Z1Pro的专属升级之一,为用户提供了更加精准、专业的洗护方案。用户只需根据衣物面料和洗涤需求选择合适的洗涤胶囊,即可享受定制化洗护服务。这一创新设计不仅简化了洗涤流程,还提高了洗涤效果,让衣物得到更加细致入微的呵护。\\nVoiceWave™语音控制系统的加入,更是将智能洗护体验提升到了新的高度。用户只需说出“你好,石头”等简单的语音指令,就能轻松控制洗涤程序、打开UVC紫外线除菌等功能。这种便捷的操作方式不仅提升了用户的使用体验,还进一步解放了用户的双手,让用户在忙碌的生活中也能享受到智能科技带来的便利与乐趣。\\nStainDetect™脏污度监测功能则是AI智能洗烘的又一亮点。该功能能够实时监测洗涤水的脏污程度,并根据实际情况智能调整洗涤时间和漂洗次数。这一功能在标准、家纺、婴童等多种洗涤模式下均适用,并在App中提供脏污程度提示。用户可以随时了解洗涤情况,确保衣物洗涤干净无残留,避免了二次污染的风险。\\\")\\n\\n7. **健康洗护功能**：包括TCL超级筒的巴氏除菌技术、TCLT9Pro的T-fresh冷抑菌技术、海信璀璨钢琴师H8的“护肤级护理”功能等，这些技术在保证洗涤效果的同时，还有效抑制细菌生长，提供健康保障。[$^{[1]}$](http://www.cheari.com/article.html?id=22126 \\\"此外，冷藏室采用多点离子杀菌技术，实现了24小时全域主动式杀菌、除味、灭病毒，杀菌率高达99.99%，冷冻室则应用了T-fresh冷抑菌技术，主动吸附和分解异味，有效抑制细菌滋生。\\nTCL超级筒：重新定义洗衣新标准\\n与TCLT9Pro双系统超薄平嵌冰箱并驾齐驱的TCL超级筒洗衣机，在技术创新方面展现出了非凡的实力。这款洗衣机采用了540mm超大筒径设计，相较于传统510mm筒径，洗涤空间更大，衣物在洗涤过程中能够得到更充分的舒展与摔打，从而提升了洗涤效果与护衣能力。同时，TCL超级筒还升级了6个提升筋，实现了6D多维洗涤路径，让洗衣过程更加高效、彻底。\\n在智能化方面，TCL超级筒同样表现出色。其搭载的顽渍净Pro功能能够智能化匹配污渍种类，针对性瓦解多重顽渍，如混渍、油渍、妆渍、血渍、奶渍等，让衣物恢复如初。此外，TCL超级筒还配备了双模烘干技术，通过NTC智能传感技术实现双重低温/防皱烘干模式，满足不同材质衣物的烘干需求。而活水漂洗、DD直驱变频电机、巴氏除菌等技术的应用，更是让TCL超级筒在洁净度、能效比、除菌率等方面达到了行业领先水平。\\\")[$^{[5]}$](http://washer.cheaa.com/2024/1105/642399.shtml \\\"市面上大多数洗衣机的筒径在500mm左右，而TCLT7HPro则达到了540mm，摔打距离增加40mm，将洗净比直接拉到1.2，洗的更透彻。创新的6D提升筋采用交错式分布设计，在洗涤过程中能够引导衣物以S型轨迹翻转，这种独特的运动方式模拟了手动揉搓的效果。衣物不仅在外部得到充分清洁，连内部和难以触及的部位也能被有效清洗，确保每一件衣物都能从里到外彻底洁净。海波纹仿生设计的内筒在旋转时能够形成特殊的水流保护层，不仅防止了衣物紧贴筒壁，减少了摩擦和磨损，还确保了衣物能够在水中自由翻转，从而达到更均匀、更彻底的清洁效果。同时，T7HPro的旋钮设计考虑到了用户体验，其阻尼恰到好处，每当转动至一个新档位时，都会伴随轻微的“哒”声，这种触觉反馈让使用者能够准确感知调整是否到位。时间显示也比较清晰，简单易用。值得一提的是，T7HPro全新升级了超净泡精华洗技术，这一创新系统集成了超净泡、智投、预混和直喷四大功能，形成了一套高效洗涤组合拳。这四项功能协同工作，不仅让衣物洗得更加干净，还大大缩短了洗涤时间，为用户带来更加快捷高效的清洁体验。\\\")[$^{[10]}$](http://news.cheaa.com/2024/0914/641062.shtml \\\"在当下的快节奏生活中，用户也越来越关注自身，寻求松弛感和更舒适的生活状态，洗衣、护衣这种日常的家务劳动与用户身心舒适紧密相关，洗衣机与干衣机企业也早早就洞察到了用户对高品质的产品和家居空间的新需求，博西家电相关负责人表示，“激发消费者换新需求的主要方向集中在健康洗护、智能化以及高端衣物护理三个方面。”“洗净”这项最基础的功能上，企业“精益求精”，今年上半年，多款高洗净比产品面世，TCL推出洗净比突破1.2的超级筒洗衣机T7H，海信璀璨钢琴师H8新一代洗烘一体机实现行业1.259超高洗净比，创维推出的纯平全嵌产品洗净比可达到1.20。围绕着健康需求，多家企业创新成果丰富，例如博世博世8系净臻系列活氧洗烘套装配备“滚筒72小时长效抑菌、衣物99.99%深度洁净、100%强力净螨”3重盾护;海尔朗境X11系列洗衣机搭载的风巡航科技，能主动通风，每2分钟完成一次筒内空气置换，2小时内实现窗垫干燥，除菌率达99.99%。小天鹅洗烘套装搭载的“蓝氧护色洗技术”，不仅能够去除顽固污渍、抑菌，还能替代化学彩漂剂，以物理清洗方式，保持原色、呵护衣物色彩，带来“白衣更白、彩衣更彩”的出色表现。\\\")\\n\\n8. **节能高效技术**：例如美诺T2干衣机的QuickPowerDry烘干技术，通过新增辅助加热模块，将加热时间缩短约50%，实现高效、快速、轻柔的烘干效果，烘干4kg衣物最快仅需49分钟。[$^{[4]}$](http://www.cheari.com/article.html?id=22056 \\\"\\n美诺执行董事兼联合所有人Dr.MarkusMiele，向现场来宾阐释了这一旗舰款新品洗衣机的重大革新：“美诺工程师为滚筒开发了一种特殊的旋转节奏，通过精心平衡的摆动有效翻转衣物，在彻底洗净的同时，保持对衣物的温柔呵护。”\\nlW2洗衣机应用首创InfinityCare蜂巢滚筒\\n全球首创无提升筋滚筒设计，为美诺经典蜂巢滚筒1带来突破创新。6个高科技“QueenCell”取代传统提升筋，滚筒可根据衣物载量及材质，调节转动方式与节奏，或劲洗，或柔护，在实现净澈洗涤的同时，更细致呵护羊毛及真丝等矜贵织物，减少洗涤损耗，衣物常洗常新。\\nlW2洗衣机应用全新SmartMatic智能洗程序\\n该智能化全自动洗衣程序，对所有棉质或30度水洗标的易打理面料，可做到精准匹配每公斤衣物，调节洗涤所需的用水、用电及洗涤剂用量。打破“程序节能“的数字陷阱，真正实现衣物随心洗，能耗随心省。\\nlT2干衣机应用全新QuickPowerDry烘干技术\\n在原有热泵烘干系统上，新增辅助加热模块，可将机器加热时间缩短约50%，实现更高效、快速、轻柔的烘干效果。烘干4kg衣物，最快仅需49分钟！\\\")\\n\\n这些创新功能不仅提升了洗衣机的性能，还为用户提供了更加便捷、高效和健康的洗衣体验。\"))"
      ],
      "metadata": {
        "colab": {
          "base_uri": "https://localhost:8080/",
          "height": 438
        },
        "id": "tJ2q4eZHiELZ",
        "outputId": "9532adcd-6974-4da0-fcd1-a922c096993b"
      },
      "execution_count": null,
      "outputs": [
        {
          "output_type": "display_data",
          "data": {
            "text/plain": [
              "<IPython.core.display.Markdown object>"
            ],
            "text/markdown": "在洗衣机领域，最近涌现了许多创新功能，这些功能不仅提升了洗衣的效率和效果，还增强了用户体验和家居美学。以下是一些值得注意的新功能：\n\n1. **超大筒径设计**：例如TCL超级筒和T7HPro洗衣机采用了540mm以上的超大筒径设计，比传统510mm的筒径更大，这使得衣物在洗涤过程中能够得到更充分的舒展和摔打，从而提升了洗涤效果和衣物保护能力。[$^{[5]}$](http://washer.cheaa.com/2024/1105/642399.shtml \"市面上大多数洗衣机的筒径在500mm左右，而TCLT7HPro则达到了540mm，摔打距离增加40mm，将洗净比直接拉到1.2，洗的更透彻。创新的6D提升筋采用交错式分布设计，在洗涤过程中能够引导衣物以S型轨迹翻转，这种独特的运动方式模拟了手动揉搓的效果。衣物不仅在外部得到充分清洁，连内部和难以触及的部位也能被有效清洗，确保每一件衣物都能从里到外彻底洁净。海波纹仿生设计的内筒在旋转时能够形成特殊的水流保护层，不仅防止了衣物紧贴筒壁，减少了摩擦和磨损，还确保了衣物能够在水中自由翻转，从而达到更均匀、更彻底的清洁效果。同时，T7HPro的旋钮设计考虑到了用户体验，其阻尼恰到好处，每当转动至一个新档位时，都会伴随轻微的“哒”声，这种触觉反馈让使用者能够准确感知调整是否到位。时间显示也比较清晰，简单易用。值得一提的是，T7HPro全新升级了超净泡精华洗技术，这一创新系统集成了超净泡、智投、预混和直喷四大功能，形成了一套高效洗涤组合拳。这四项功能协同工作，不仅让衣物洗得更加干净，还大大缩短了洗涤时间，为用户带来更加快捷高效的清洁体验。\")[$^{[1]}$](http://www.cheari.com/article.html?id=22126 \"此外，冷藏室采用多点离子杀菌技术，实现了24小时全域主动式杀菌、除味、灭病毒，杀菌率高达99.99%，冷冻室则应用了T-fresh冷抑菌技术，主动吸附和分解异味，有效抑制细菌滋生。\nTCL超级筒：重新定义洗衣新标准\n与TCLT9Pro双系统超薄平嵌冰箱并驾齐驱的TCL超级筒洗衣机，在技术创新方面展现出了非凡的实力。这款洗衣机采用了540mm超大筒径设计，相较于传统510mm筒径，洗涤空间更大，衣物在洗涤过程中能够得到更充分的舒展与摔打，从而提升了洗涤效果与护衣能力。同时，TCL超级筒还升级了6个提升筋，实现了6D多维洗涤路径，让洗衣过程更加高效、彻底。\n在智能化方面，TCL超级筒同样表现出色。其搭载的顽渍净Pro功能能够智能化匹配污渍种类，针对性瓦解多重顽渍，如混渍、油渍、妆渍、血渍、奶渍等，让衣物恢复如初。此外，TCL超级筒还配备了双模烘干技术，通过NTC智能传感技术实现双重低温/防皱烘干模式，满足不同材质衣物的烘干需求。而活水漂洗、DD直驱变频电机、巴氏除菌等技术的应用，更是让TCL超级筒在洁净度、能效比、除菌率等方面达到了行业领先水平。\")\n\n2. **6D多维洗涤路径**：TCL超级筒洗衣机通过升级6个提升筋，实现了6D多维洗涤路径，使得洗衣过程更加高效和彻底，确保衣物的各个部分都能得到充分的清洁。[$^{[1]}$](http://www.cheari.com/article.html?id=22126 \"此外，冷藏室采用多点离子杀菌技术，实现了24小时全域主动式杀菌、除味、灭病毒，杀菌率高达99.99%，冷冻室则应用了T-fresh冷抑菌技术，主动吸附和分解异味，有效抑制细菌滋生。\nTCL超级筒：重新定义洗衣新标准\n与TCLT9Pro双系统超薄平嵌冰箱并驾齐驱的TCL超级筒洗衣机，在技术创新方面展现出了非凡的实力。这款洗衣机采用了540mm超大筒径设计，相较于传统510mm筒径，洗涤空间更大，衣物在洗涤过程中能够得到更充分的舒展与摔打，从而提升了洗涤效果与护衣能力。同时，TCL超级筒还升级了6个提升筋，实现了6D多维洗涤路径，让洗衣过程更加高效、彻底。\n在智能化方面，TCL超级筒同样表现出色。其搭载的顽渍净Pro功能能够智能化匹配污渍种类，针对性瓦解多重顽渍，如混渍、油渍、妆渍、血渍、奶渍等，让衣物恢复如初。此外，TCL超级筒还配备了双模烘干技术，通过NTC智能传感技术实现双重低温/防皱烘干模式，满足不同材质衣物的烘干需求。而活水漂洗、DD直驱变频电机、巴氏除菌等技术的应用，更是让TCL超级筒在洁净度、能效比、除菌率等方面达到了行业领先水平。\")[$^{[5]}$](http://washer.cheaa.com/2024/1105/642399.shtml \"市面上大多数洗衣机的筒径在500mm左右，而TCLT7HPro则达到了540mm，摔打距离增加40mm，将洗净比直接拉到1.2，洗的更透彻。创新的6D提升筋采用交错式分布设计，在洗涤过程中能够引导衣物以S型轨迹翻转，这种独特的运动方式模拟了手动揉搓的效果。衣物不仅在外部得到充分清洁，连内部和难以触及的部位也能被有效清洗，确保每一件衣物都能从里到外彻底洁净。海波纹仿生设计的内筒在旋转时能够形成特殊的水流保护层，不仅防止了衣物紧贴筒壁，减少了摩擦和磨损，还确保了衣物能够在水中自由翻转，从而达到更均匀、更彻底的清洁效果。同时，T7HPro的旋钮设计考虑到了用户体验，其阻尼恰到好处，每当转动至一个新档位时，都会伴随轻微的“哒”声，这种触觉反馈让使用者能够准确感知调整是否到位。时间显示也比较清晰，简单易用。值得一提的是，T7HPro全新升级了超净泡精华洗技术，这一创新系统集成了超净泡、智投、预混和直喷四大功能，形成了一套高效洗涤组合拳。这四项功能协同工作，不仅让衣物洗得更加干净，还大大缩短了洗涤时间，为用户带来更加快捷高效的清洁体验。\")\n\n3. **智能化洗涤程序**：如TCL超级筒的顽渍净Pro功能，能够智能化匹配污渍种类，针对性地瓦解多重顽渍，包括混渍、油渍、妆渍等，使衣物恢复如初。[$^{[1]}$](http://www.cheari.com/article.html?id=22126 \"此外，冷藏室采用多点离子杀菌技术，实现了24小时全域主动式杀菌、除味、灭病毒，杀菌率高达99.99%，冷冻室则应用了T-fresh冷抑菌技术，主动吸附和分解异味，有效抑制细菌滋生。\nTCL超级筒：重新定义洗衣新标准\n与TCLT9Pro双系统超薄平嵌冰箱并驾齐驱的TCL超级筒洗衣机，在技术创新方面展现出了非凡的实力。这款洗衣机采用了540mm超大筒径设计，相较于传统510mm筒径，洗涤空间更大，衣物在洗涤过程中能够得到更充分的舒展与摔打，从而提升了洗涤效果与护衣能力。同时，TCL超级筒还升级了6个提升筋，实现了6D多维洗涤路径，让洗衣过程更加高效、彻底。\n在智能化方面，TCL超级筒同样表现出色。其搭载的顽渍净Pro功能能够智能化匹配污渍种类，针对性瓦解多重顽渍，如混渍、油渍、妆渍、血渍、奶渍等，让衣物恢复如初。此外，TCL超级筒还配备了双模烘干技术，通过NTC智能传感技术实现双重低温/防皱烘干模式，满足不同材质衣物的烘干需求。而活水漂洗、DD直驱变频电机、巴氏除菌等技术的应用，更是让TCL超级筒在洁净度、能效比、除菌率等方面达到了行业领先水平。\")TCL超级筒还搭载了NTC智能传感技术，实现双重低温/防皱烘干模式，以满足不同材质衣物的烘干需求。[$^{[1]}$](http://www.cheari.com/article.html?id=22126 \"此外，冷藏室采用多点离子杀菌技术，实现了24小时全域主动式杀菌、除味、灭病毒，杀菌率高达99.99%，冷冻室则应用了T-fresh冷抑菌技术，主动吸附和分解异味，有效抑制细菌滋生。\nTCL超级筒：重新定义洗衣新标准\n与TCLT9Pro双系统超薄平嵌冰箱并驾齐驱的TCL超级筒洗衣机，在技术创新方面展现出了非凡的实力。这款洗衣机采用了540mm超大筒径设计，相较于传统510mm筒径，洗涤空间更大，衣物在洗涤过程中能够得到更充分的舒展与摔打，从而提升了洗涤效果与护衣能力。同时，TCL超级筒还升级了6个提升筋，实现了6D多维洗涤路径，让洗衣过程更加高效、彻底。\n在智能化方面，TCL超级筒同样表现出色。其搭载的顽渍净Pro功能能够智能化匹配污渍种类，针对性瓦解多重顽渍，如混渍、油渍、妆渍、血渍、奶渍等，让衣物恢复如初。此外，TCL超级筒还配备了双模烘干技术，通过NTC智能传感技术实现双重低温/防皱烘干模式，满足不同材质衣物的烘干需求。而活水漂洗、DD直驱变频电机、巴氏除菌等技术的应用，更是让TCL超级筒在洁净度、能效比、除菌率等方面达到了行业领先水平。\")\n\n4. **智能投放系统**：石头科技的分子筛洗烘一体机Z1Pro配备了TubeDose™胶囊智能投放系统，用户可根据衣物面料和洗涤需求选择合适的洗涤胶囊，享受定制化的洗护服务，提高了洗涤效果。[$^{[9]}$](http://www.cheari.com/article.html?id=21988 \"\nAI助力:智能洗烘时代,未来生活触手可及\n随着智能化浪潮的兴起,石头科技紧跟时代步伐,将AI智能技术融入到了石头分子筛洗烘一体机Z1Pro中。\nTubeDose™胶囊智能投放系统,作为Z1Pro的专属升级之一,为用户提供了更加精准、专业的洗护方案。用户只需根据衣物面料和洗涤需求选择合适的洗涤胶囊,即可享受定制化洗护服务。这一创新设计不仅简化了洗涤流程,还提高了洗涤效果,让衣物得到更加细致入微的呵护。\nVoiceWave™语音控制系统的加入,更是将智能洗护体验提升到了新的高度。用户只需说出“你好,石头”等简单的语音指令,就能轻松控制洗涤程序、打开UVC紫外线除菌等功能。这种便捷的操作方式不仅提升了用户的使用体验,还进一步解放了用户的双手,让用户在忙碌的生活中也能享受到智能科技带来的便利与乐趣。\nStainDetect™脏污度监测功能则是AI智能洗烘的又一亮点。该功能能够实时监测洗涤水的脏污程度,并根据实际情况智能调整洗涤时间和漂洗次数。这一功能在标准、家纺、婴童等多种洗涤模式下均适用,并在App中提供脏污程度提示。用户可以随时了解洗涤情况,确保衣物洗涤干净无残留,避免了二次污染的风险。\")\n\n5. **语音控制系统**：石头分子筛洗烘一体机Z1Pro还加入了VoiceWave™语音控制系统，用户可以通过简单的语音指令控制洗涤程序和除菌功能，极大地提升了使用的便捷性。[$^{[9]}$](http://www.cheari.com/article.html?id=21988 \"\nAI助力:智能洗烘时代,未来生活触手可及\n随着智能化浪潮的兴起,石头科技紧跟时代步伐,将AI智能技术融入到了石头分子筛洗烘一体机Z1Pro中。\nTubeDose™胶囊智能投放系统,作为Z1Pro的专属升级之一,为用户提供了更加精准、专业的洗护方案。用户只需根据衣物面料和洗涤需求选择合适的洗涤胶囊,即可享受定制化洗护服务。这一创新设计不仅简化了洗涤流程,还提高了洗涤效果,让衣物得到更加细致入微的呵护。\nVoiceWave™语音控制系统的加入,更是将智能洗护体验提升到了新的高度。用户只需说出“你好,石头”等简单的语音指令,就能轻松控制洗涤程序、打开UVC紫外线除菌等功能。这种便捷的操作方式不仅提升了用户的使用体验,还进一步解放了用户的双手,让用户在忙碌的生活中也能享受到智能科技带来的便利与乐趣。\nStainDetect™脏污度监测功能则是AI智能洗烘的又一亮点。该功能能够实时监测洗涤水的脏污程度,并根据实际情况智能调整洗涤时间和漂洗次数。这一功能在标准、家纺、婴童等多种洗涤模式下均适用,并在App中提供脏污程度提示。用户可以随时了解洗涤情况,确保衣物洗涤干净无残留,避免了二次污染的风险。\")\n\n6. **脏污度监测功能**：石头分子筛洗烘一体机Z1Pro的StainDetect™脏污度监测功能可以实时监测洗涤水的脏污程度，并根据实际情况智能调整洗涤时间和漂洗次数，确保衣物洗涤干净无残留。[$^{[9]}$](http://www.cheari.com/article.html?id=21988 \"\nAI助力:智能洗烘时代,未来生活触手可及\n随着智能化浪潮的兴起,石头科技紧跟时代步伐,将AI智能技术融入到了石头分子筛洗烘一体机Z1Pro中。\nTubeDose™胶囊智能投放系统,作为Z1Pro的专属升级之一,为用户提供了更加精准、专业的洗护方案。用户只需根据衣物面料和洗涤需求选择合适的洗涤胶囊,即可享受定制化洗护服务。这一创新设计不仅简化了洗涤流程,还提高了洗涤效果,让衣物得到更加细致入微的呵护。\nVoiceWave™语音控制系统的加入,更是将智能洗护体验提升到了新的高度。用户只需说出“你好,石头”等简单的语音指令,就能轻松控制洗涤程序、打开UVC紫外线除菌等功能。这种便捷的操作方式不仅提升了用户的使用体验,还进一步解放了用户的双手,让用户在忙碌的生活中也能享受到智能科技带来的便利与乐趣。\nStainDetect™脏污度监测功能则是AI智能洗烘的又一亮点。该功能能够实时监测洗涤水的脏污程度,并根据实际情况智能调整洗涤时间和漂洗次数。这一功能在标准、家纺、婴童等多种洗涤模式下均适用,并在App中提供脏污程度提示。用户可以随时了解洗涤情况,确保衣物洗涤干净无残留,避免了二次污染的风险。\")\n\n7. **健康洗护功能**：包括TCL超级筒的巴氏除菌技术、TCLT9Pro的T-fresh冷抑菌技术、海信璀璨钢琴师H8的“护肤级护理”功能等，这些技术在保证洗涤效果的同时，还有效抑制细菌生长，提供健康保障。[$^{[1]}$](http://www.cheari.com/article.html?id=22126 \"此外，冷藏室采用多点离子杀菌技术，实现了24小时全域主动式杀菌、除味、灭病毒，杀菌率高达99.99%，冷冻室则应用了T-fresh冷抑菌技术，主动吸附和分解异味，有效抑制细菌滋生。\nTCL超级筒：重新定义洗衣新标准\n与TCLT9Pro双系统超薄平嵌冰箱并驾齐驱的TCL超级筒洗衣机，在技术创新方面展现出了非凡的实力。这款洗衣机采用了540mm超大筒径设计，相较于传统510mm筒径，洗涤空间更大，衣物在洗涤过程中能够得到更充分的舒展与摔打，从而提升了洗涤效果与护衣能力。同时，TCL超级筒还升级了6个提升筋，实现了6D多维洗涤路径，让洗衣过程更加高效、彻底。\n在智能化方面，TCL超级筒同样表现出色。其搭载的顽渍净Pro功能能够智能化匹配污渍种类，针对性瓦解多重顽渍，如混渍、油渍、妆渍、血渍、奶渍等，让衣物恢复如初。此外，TCL超级筒还配备了双模烘干技术，通过NTC智能传感技术实现双重低温/防皱烘干模式，满足不同材质衣物的烘干需求。而活水漂洗、DD直驱变频电机、巴氏除菌等技术的应用，更是让TCL超级筒在洁净度、能效比、除菌率等方面达到了行业领先水平。\")[$^{[5]}$](http://washer.cheaa.com/2024/1105/642399.shtml \"市面上大多数洗衣机的筒径在500mm左右，而TCLT7HPro则达到了540mm，摔打距离增加40mm，将洗净比直接拉到1.2，洗的更透彻。创新的6D提升筋采用交错式分布设计，在洗涤过程中能够引导衣物以S型轨迹翻转，这种独特的运动方式模拟了手动揉搓的效果。衣物不仅在外部得到充分清洁，连内部和难以触及的部位也能被有效清洗，确保每一件衣物都能从里到外彻底洁净。海波纹仿生设计的内筒在旋转时能够形成特殊的水流保护层，不仅防止了衣物紧贴筒壁，减少了摩擦和磨损，还确保了衣物能够在水中自由翻转，从而达到更均匀、更彻底的清洁效果。同时，T7HPro的旋钮设计考虑到了用户体验，其阻尼恰到好处，每当转动至一个新档位时，都会伴随轻微的“哒”声，这种触觉反馈让使用者能够准确感知调整是否到位。时间显示也比较清晰，简单易用。值得一提的是，T7HPro全新升级了超净泡精华洗技术，这一创新系统集成了超净泡、智投、预混和直喷四大功能，形成了一套高效洗涤组合拳。这四项功能协同工作，不仅让衣物洗得更加干净，还大大缩短了洗涤时间，为用户带来更加快捷高效的清洁体验。\")[$^{[10]}$](http://news.cheaa.com/2024/0914/641062.shtml \"在当下的快节奏生活中，用户也越来越关注自身，寻求松弛感和更舒适的生活状态，洗衣、护衣这种日常的家务劳动与用户身心舒适紧密相关，洗衣机与干衣机企业也早早就洞察到了用户对高品质的产品和家居空间的新需求，博西家电相关负责人表示，“激发消费者换新需求的主要方向集中在健康洗护、智能化以及高端衣物护理三个方面。”“洗净”这项最基础的功能上，企业“精益求精”，今年上半年，多款高洗净比产品面世，TCL推出洗净比突破1.2的超级筒洗衣机T7H，海信璀璨钢琴师H8新一代洗烘一体机实现行业1.259超高洗净比，创维推出的纯平全嵌产品洗净比可达到1.20。围绕着健康需求，多家企业创新成果丰富，例如博世博世8系净臻系列活氧洗烘套装配备“滚筒72小时长效抑菌、衣物99.99%深度洁净、100%强力净螨”3重盾护;海尔朗境X11系列洗衣机搭载的风巡航科技，能主动通风，每2分钟完成一次筒内空气置换，2小时内实现窗垫干燥，除菌率达99.99%。小天鹅洗烘套装搭载的“蓝氧护色洗技术”，不仅能够去除顽固污渍、抑菌，还能替代化学彩漂剂，以物理清洗方式，保持原色、呵护衣物色彩，带来“白衣更白、彩衣更彩”的出色表现。\")\n\n8. **节能高效技术**：例如美诺T2干衣机的QuickPowerDry烘干技术，通过新增辅助加热模块，将加热时间缩短约50%，实现高效、快速、轻柔的烘干效果，烘干4kg衣物最快仅需49分钟。[$^{[4]}$](http://www.cheari.com/article.html?id=22056 \"\n美诺执行董事兼联合所有人Dr.MarkusMiele，向现场来宾阐释了这一旗舰款新品洗衣机的重大革新：“美诺工程师为滚筒开发了一种特殊的旋转节奏，通过精心平衡的摆动有效翻转衣物，在彻底洗净的同时，保持对衣物的温柔呵护。”\nlW2洗衣机应用首创InfinityCare蜂巢滚筒\n全球首创无提升筋滚筒设计，为美诺经典蜂巢滚筒1带来突破创新。6个高科技“QueenCell”取代传统提升筋，滚筒可根据衣物载量及材质，调节转动方式与节奏，或劲洗，或柔护，在实现净澈洗涤的同时，更细致呵护羊毛及真丝等矜贵织物，减少洗涤损耗，衣物常洗常新。\nlW2洗衣机应用全新SmartMatic智能洗程序\n该智能化全自动洗衣程序，对所有棉质或30度水洗标的易打理面料，可做到精准匹配每公斤衣物，调节洗涤所需的用水、用电及洗涤剂用量。打破“程序节能“的数字陷阱，真正实现衣物随心洗，能耗随心省。\nlT2干衣机应用全新QuickPowerDry烘干技术\n在原有热泵烘干系统上，新增辅助加热模块，可将机器加热时间缩短约50%，实现更高效、快速、轻柔的烘干效果。烘干4kg衣物，最快仅需49分钟！\")\n\n这些创新功能不仅提升了洗衣机的性能，还为用户提供了更加便捷、高效和健康的洗衣体验。"
          },
          "metadata": {}
        }
      ]
    },
    {
      "cell_type": "code",
      "execution_count": null,
      "metadata": {
        "colab": {
          "base_uri": "https://localhost:8080/",
          "height": 463
        },
        "id": "isIQIj0vGnO7",
        "outputId": "50b3077d-2d75-432b-92f8-d0e921fa832d"
      },
      "outputs": [
        {
          "output_type": "display_data",
          "data": {
            "text/plain": [
              "<IPython.core.display.Markdown object>"
            ],
            "text/markdown": "近期洗衣机领域出现了一些令人兴奋的新功能和技术进步，这些新功能不仅提升了洗衣机的基本洗涤性能，还增加了健康护理、智能化以及节能环保等方面的特性。以下是几个值得注意的例子：\n\n1. **增强的洗涤性能**：\n   - TCL超级筒洗衣机采用了540mm超大筒径设计，相比传统510mm筒径，提供了更大的洗涤空间，使衣物在洗涤过程中能够更充分地舒展和摔打，从而提升了洗涤效果。\n   - 海信洗衣机的“活水洗”技术，以及海信璀璨钢琴师H8的“护肤级护理”功能，都显著提高了去污能力和衣物的健康护理。\n\n2. **健康与抗菌**：\n   - TCL超级筒洗衣机具备巴氏除菌技术，而TCLT9Pro双系统超薄平嵌冰箱的冷冻室则运用了T-fresh冷抑菌技术，有效抑制细菌生长。\n   - 美诺洗衣机通过InfinityCare蜂巢滚筒设计，实现了对衣物的温柔呵护，同时保持高效的洗涤效果。\n   - ASKO洗衣机采用SteelSeal无胶圈金属门封设计，从源头上减少了细菌滋生的可能性。\n\n3. **智能化与便捷性**：\n   - TCL超级筒洗衣机和石头分子筛洗烘一体机Z1Pro都配备了智能投放系统，可以精确投放洗涤剂，提升洗涤效果。\n   - 石头分子筛洗烘一体机Z1Pro的VoiceWave™语音控制系统，用户可以通过简单的语音指令控制洗衣机。\n   - StainDetect™脏污度监测功能，可以实时监测洗涤水的脏污程度，并智能调整洗涤时间和漂洗次数。\n\n4. **节能环保**：\n   - 美诺洗衣机的SmartMatic智能洗程序可以根据衣物重量和材质，精确调节用水、用电及洗涤剂用量，真正实现节能。\n   - T2干衣机的QuickPowerDry烘干技术，在保证烘干效果的同时，大幅度缩短了烘干时间，节省了电能消耗。\n   - 创维电器和海信洗衣机都推出了具有高洗净比的产品，如创维的纯平全嵌产品洗净比可达1.20，海信璀璨钢琴师H8的洗净比高达1.259，提高了能源利用效率。\n\n这些新功能和技术的发展不仅反映了洗衣机行业的创新活力，也为用户带来了更加健康、便捷、环保的生活体验。<|im_end|>"
          },
          "metadata": {}
        },
        {
          "output_type": "stream",
          "name": "stdout",
          "text": [
            "累计耗时376.832秒\n"
          ]
        }
      ],
      "source": [
        "# 对比原始问答模式\n",
        "start = time.time()\n",
        "chat_input = verifier.build_chat_input(\"请尽量先根据下面的多个参考文档来回答问题。\\n如果综合多个参考文档的信息也无法回答问题，再考虑自行回答。\\n\\n参考文档：\\n\\\"\\\"\\\"\\n此外，冷藏室采用多点离子杀菌技术，实现了24小时全域主动式杀菌、除味、灭病毒，杀菌率高达99.99%，冷冻室则应用了T-fresh冷抑菌技术，主动吸附和分解异味，有效抑制细菌滋生。\\nTCL超级筒：重新定义洗衣新标准\\n与TCLT9Pro双系统超薄平嵌冰箱并驾齐驱的TCL超级筒洗衣机，在技术创新方面展现出了非凡的实力。这款洗衣机采用了540mm超大筒径设计，相较于传统510mm筒径，洗涤空间更大，衣物在洗涤过程中能够得到更充分的舒展与摔打，从而提升了洗涤效果与护衣能力。同时，TCL超级筒还升级了6个提升筋，实现了6D多维洗涤路径，让洗衣过程更加高效、彻底。\\n在智能化方面，TCL超级筒同样表现出色。其搭载的顽渍净Pro功能能够智能化匹配污渍种类，针对性瓦解多重顽渍，如混渍、油渍、妆渍、血渍、奶渍等，让衣物恢复如初。此外，TCL超级筒还配备了双模烘干技术，通过NTC智能传感技术实现双重低温/防皱烘干模式，满足不同材质衣物的烘干需求。而活水漂洗、DD直驱变频电机、巴氏除菌等技术的应用，更是让TCL超级筒在洁净度、能效比、除菌率等方面达到了行业领先水平。\\n------\\n博西家电洗涤产品事业部高级副总裁Mr.ErikKruijer企业创新解决方案百花齐放，为洗护技术迭代升级不断注入动力，海信洗衣机最新推出的棉花糖洗烘套装系列凭借活水洗、三变频快速烘干技术，实现了1.259超高洗净比和高效专业的护理，在洗护领域树立了新的标杆，为消费者带来了前所未有的体验。TCL双子舱洗烘护集成机是集洗烘护功能于一身的“全能选手”，高效节能同时避免衣物损伤;创维电器深耕DD直驱技术，并推出超薄全嵌洗衣机等产品，满足用户对颜值、洗护、健康高要求;康佳主推的超薄洗烘一体机搭载一键智慧洗、8H智慧新风等独特功能，更加适合当下年轻人的时尚特点;作为上游企业，海立为洗护产业技术升级的不断添砖加瓦，其打造的首台热泵专用压缩机等产品为用户高品质洗护生活助力。焕醒消费者，冲刺四季度以企业创新技术为引擎，借助以旧换新政策红利，洗护行业迎来四季度的冲刺期，在高峰论坛现场，企业代表及家装设计师、生活领域博主畅抒己见，为行业如何抓住当下机遇提供了很多建议。\\n------\\n同时,云鲸F1搭载独创性的MAX强化功能,一键开启即可增大风机功率和溶污水量,瞬时提升3.8倍清洁力[11],轻松攻克厨房、餐厅等顽固污渍重灾区,强力洗除粘腻顽污。此外,针对洗地机在清洁过程中可能产生的毛发缠绕问题,云鲸创新研发L型双排交错梳齿刮条,显著增大与滚刷接触面积,100%无遗漏疏通毛发[12],配合滚刷自动正反转,最终实现稳定的防缠绕效果。据悉,云鲸F1已获得国际第三方检测机构SGS的防缠绕认证,用户在清洁完成后无需手动清理毛发,维护更轻松省心。\\n从清洁覆盖度来看,云鲸率先洞察到中国用户对于低矮死角的深度清洁需求,此次推出的新品F1支持180°躺倒清洁功能,机身完全躺平后可伸入低至15cm的床底、茶几底和沙发底,且能够保持63°的黄金扭转角度,灵活贴合低矮区的边边角角。其中,63°的底盘铰链设计与低重心结构相辅相成,加上小直径后轮,使得云鲸F1的随手操控更灵活,能够丝滑清洁复杂家居环境。据云鲸智能实验室数据检测,在一次完整的地面清洁过程中,相比市面上同类产品,使用云鲸F1用户的肌肉负担明显降低42%[13]。同时,云鲸自研主动式固液气分离技术,有效避免机身躺倒后污水回流进入风机。\\n------\\n\\n美诺执行董事兼联合所有人Dr.MarkusMiele，向现场来宾阐释了这一旗舰款新品洗衣机的重大革新：“美诺工程师为滚筒开发了一种特殊的旋转节奏，通过精心平衡的摆动有效翻转衣物，在彻底洗净的同时，保持对衣物的温柔呵护。”\\nlW2洗衣机应用首创InfinityCare蜂巢滚筒\\n全球首创无提升筋滚筒设计，为美诺经典蜂巢滚筒1带来突破创新。6个高科技“QueenCell”取代传统提升筋，滚筒可根据衣物载量及材质，调节转动方式与节奏，或劲洗，或柔护，在实现净澈洗涤的同时，更细致呵护羊毛及真丝等矜贵织物，减少洗涤损耗，衣物常洗常新。\\nlW2洗衣机应用全新SmartMatic智能洗程序\\n该智能化全自动洗衣程序，对所有棉质或30度水洗标的易打理面料，可做到精准匹配每公斤衣物，调节洗涤所需的用水、用电及洗涤剂用量。打破“程序节能“的数字陷阱，真正实现衣物随心洗，能耗随心省。\\nlT2干衣机应用全新QuickPowerDry烘干技术\\n在原有热泵烘干系统上，新增辅助加热模块，可将机器加热时间缩短约50%，实现更高效、快速、轻柔的烘干效果。烘干4kg衣物，最快仅需49分钟！\\n------\\n市面上大多数洗衣机的筒径在500mm左右，而TCLT7HPro则达到了540mm，摔打距离增加40mm，将洗净比直接拉到1.2，洗的更透彻。创新的6D提升筋采用交错式分布设计，在洗涤过程中能够引导衣物以S型轨迹翻转，这种独特的运动方式模拟了手动揉搓的效果。衣物不仅在外部得到充分清洁，连内部和难以触及的部位也能被有效清洗，确保每一件衣物都能从里到外彻底洁净。海波纹仿生设计的内筒在旋转时能够形成特殊的水流保护层，不仅防止了衣物紧贴筒壁，减少了摩擦和磨损，还确保了衣物能够在水中自由翻转，从而达到更均匀、更彻底的清洁效果。同时，T7HPro的旋钮设计考虑到了用户体验，其阻尼恰到好处，每当转动至一个新档位时，都会伴随轻微的“哒”声，这种触觉反馈让使用者能够准确感知调整是否到位。时间显示也比较清晰，简单易用。值得一提的是，T7HPro全新升级了超净泡精华洗技术，这一创新系统集成了超净泡、智投、预混和直喷四大功能，形成了一套高效洗涤组合拳。这四项功能协同工作，不仅让衣物洗得更加干净，还大大缩短了洗涤时间，为用户带来更加快捷高效的清洁体验。\\n------\\n你发现了吗，科技的进步正以前所未有的速度与力量，改变着人类的日常，带来更多的福祉。比如集洗衣机、烘干机与扫拖机器人多种功能于一身，多位一体的新物种“双洗站”。它是家庭洗护全场景专家小天鹅品牌，2023年推出的重磅之作，产品创新理念主要是洞察到用户对生活空间、家电功能及审美的复合需求8月24日，由中国家用电器协会指导，中国家电网与小天鹅联合举办的“不做家务体面由我2024理想人居生活沙龙”将在无锡启幕。届时，围绕新物种“双洗站”的讨论将从科技与迭代，空间与美感，现实与未来等多层面展开。行业资深媒体中国家电网总编吕盛华作为主持人，将与现场嘉宾共同开启一场关于家居空间与品质生活的热切讨论。与会的重磅嘉宾包括行业专家中国家用电器协会副理事长徐东生、美学专家清华大学美术学院工业设计系教授邱松、家居媒体专家《瑞丽家居设计》出版人周小捷、知名空间艺术设计师宋鑫磊等;值得一提的是，业界产品专家、美的集团洗衣机事业部研发中心主任王海峰也将到场，分享“双洗站”从创意灵感到产品落地的故事。回顾小天鹅的历史，不曾离开过创新与科技。\\n------\\n\\n5月18日—5月19日，海信璀璨钢琴师H8全国首发巡展深圳站顺利举行。臻享品质洗护，聆听生活之美，本次巡展在钢琴演奏中拉开序幕，海信璀璨钢琴师H8等多款明星产品精彩亮相，获得在场市民广泛瞩目。\\n如今的消费者，不仅关注健康与生活品质，更专注于自我与情绪价值，家居与家电的有机融合成为了家居美学的风向标。此次璀璨钢琴师H8新品发布，高颜值黑白琴键配色，超薄平嵌机身与家居完美融于一体，同时科技实力也不容小觑，是海信洗衣机基于对消费者审美与需求深刻洞察的最新研发成果。\\n据了解，海信洗衣机研发团队与青岛大学实验室合作，研究上千种娇奢面料的特性，以护肤护理为灵感，创新研发出行业领先的“护肤级护理”功能，实现真丝、皮革、羊绒、棉麻、羽绒等面料的全场景护理解决方案。除此之外，海信璀璨钢琴师H8迭代升级，以536mm超大筒径搭载活水洗科技3.0，去污力提升22%，除真菌率99.99%，洗净比高达1.259，为消费者的健康保驾护航。另外，海信璀璨钢琴师H8采用双擎变频“聚好烘”，双重精准判干，在保证烘干效果的同时，烘干时间快一倍，用电省一半，满足现代人快捷生活习惯的需求。\\n固守有限的黑白琴键，演绎无限的生命宽度。\\n------\\n\\n在洗护设备方面，ASKO继续引领健康与卫生的新标准，洗衣机独有的SteelSeal无胶圈金属门封设计从源头避免细菌滋生，同时以低振动系统将洗衣机的清洁性能和使用寿命进一步提升，并为用户带来了更加安静、舒适的洗衣体验。\\n飨筵时刻品质生活方式触手可及\\n除了新品的发布，ASKO还在IFA2024展会现场为观众带来了精彩绝伦的烹饪与美酒品鉴活动，邀请了包括TomAikens、MarekFichtner在内的多位国际知名大厨，他们使用ASKO的智能厨房电器，现场制作了各种美味佳肴，让观众近距离感受ASKO家电带来的烟火食趣。同时，ASKO还携手世界顶级侍酒大师AndreasLarsson，为观众呈现了精彩的美酒品鉴会，观众不仅可以品尝到来自世界各地的优质葡萄酒，还能学\\n习\\n到如何更好地搭配美食与美酒，享受生活中的每一个美好瞬间。\\nASKO的现场烹饪与美酒品鉴活动，不仅展示了ASKO家电的卓越性能和智能化设计，更传递了ASKO品牌对于高品质生活的追求和热爱。在ASKO看来，通过不断创新和卓越的产品品质，可以为用户带来更加美好的家居生活体验。\\n------\\n\\nAI助力:智能洗烘时代,未来生活触手可及\\n随着智能化浪潮的兴起,石头科技紧跟时代步伐,将AI智能技术融入到了石头分子筛洗烘一体机Z1Pro中。\\nTubeDose™胶囊智能投放系统,作为Z1Pro的专属升级之一,为用户提供了更加精准、专业的洗护方案。用户只需根据衣物面料和洗涤需求选择合适的洗涤胶囊,即可享受定制化洗护服务。这一创新设计不仅简化了洗涤流程,还提高了洗涤效果,让衣物得到更加细致入微的呵护。\\nVoiceWave™语音控制系统的加入,更是将智能洗护体验提升到了新的高度。用户只需说出“你好,石头”等简单的语音指令,就能轻松控制洗涤程序、打开UVC紫外线除菌等功能。这种便捷的操作方式不仅提升了用户的使用体验,还进一步解放了用户的双手,让用户在忙碌的生活中也能享受到智能科技带来的便利与乐趣。\\nStainDetect™脏污度监测功能则是AI智能洗烘的又一亮点。该功能能够实时监测洗涤水的脏污程度,并根据实际情况智能调整洗涤时间和漂洗次数。这一功能在标准、家纺、婴童等多种洗涤模式下均适用,并在App中提供脏污程度提示。用户可以随时了解洗涤情况,确保衣物洗涤干净无残留,避免了二次污染的风险。\\n------\\n在当下的快节奏生活中，用户也越来越关注自身，寻求松弛感和更舒适的生活状态，洗衣、护衣这种日常的家务劳动与用户身心舒适紧密相关，洗衣机与干衣机企业也早早就洞察到了用户对高品质的产品和家居空间的新需求，博西家电相关负责人表示，“激发消费者换新需求的主要方向集中在健康洗护、智能化以及高端衣物护理三个方面。”“洗净”这项最基础的功能上，企业“精益求精”，今年上半年，多款高洗净比产品面世，TCL推出洗净比突破1.2的超级筒洗衣机T7H，海信璀璨钢琴师H8新一代洗烘一体机实现行业1.259超高洗净比，创维推出的纯平全嵌产品洗净比可达到1.20。围绕着健康需求，多家企业创新成果丰富，例如博世博世8系净臻系列活氧洗烘套装配备“滚筒72小时长效抑菌、衣物99.99%深度洁净、100%强力净螨”3重盾护;海尔朗境X11系列洗衣机搭载的风巡航科技，能主动通风，每2分钟完成一次筒内空气置换，2小时内实现窗垫干燥，除菌率达99.99%。小天鹅洗烘套装搭载的“蓝氧护色洗技术”，不仅能够去除顽固污渍、抑菌，还能替代化学彩漂剂，以物理清洗方式，保持原色、呵护衣物色彩，带来“白衣更白、彩衣更彩”的出色表现。\\n\\\"\\\"\\\"\\n\\n问题：\\\"\\\"\\\"现在你是洗护领域的专家，请详细介绍洗衣机领域最近有哪些新功能\\\"\\\"\\\"\\n回答：\")\n",
        "inputs = tokenizer(chat_input, return_tensors='pt').to('cuda')\n",
        "\n",
        "outputs = model.generate(\n",
        "                        inputs['input_ids'],\n",
        "                        max_new_tokens=3000,\n",
        "                        do_sample=True,\n",
        "                        use_cache=True,\n",
        "                        return_dict_in_generate=True\n",
        "\n",
        "                    )\n",
        "# Extract the generated sentence\n",
        "generated_ids = outputs.sequences[0][inputs['input_ids'].shape[-1]:]\n",
        "generated_text = tokenizer.decode(generated_ids, skip_special_tokens=False)\n",
        "display(Markdown(generated_text))\n",
        "end = time.time()\n",
        "print(f'累计耗时{round(end-start, 3)}秒')"
      ]
    },
    {
      "cell_type": "markdown",
      "source": [
        "### 另外一个测试"
      ],
      "metadata": {
        "id": "2P_Y5mrvZX1t"
      }
    },
    {
      "cell_type": "code",
      "source": [
        "from IPython.display import display, Markdown\n",
        "import time\n",
        "\n",
        "# Define the user prompt and article\n",
        "prompt = \"\"\"请根据提供的文档资料，详细例证说明【追觅】品牌在【洗地机】领域近期（近6个月内）推出的新品及其详细情况。请先简要概括新品内容，再进一步分点详细阐述。\n",
        "\n",
        "一、返回格式要求如下，其中{xxx}表示需要填充的内容要求：\n",
        "**新品概要**：{请用一句话简要概括【追觅】品牌在【洗地机】领域近期推出的全部新品及其核心卖点，60字以内}\n",
        "**新品详情**：\n",
        "{以下内容需分别对每款新品进行详细说明，请列出所有近期上市的新品}\n",
        "**新品1**：**{新品名称}**\n",
        "基本信息：{上市时间、价格区间、产品定位}\n",
        "{针对每款新品，列出核心亮点，每个亮点需包含以下内容}\n",
        "1. **{核心亮点1}**： {详细说明该亮点的具体特征、实现原理、创新价值等}\n",
        "{如有更多亮点，按相同格式继续列出}\n",
        "\n",
        "{如有更多新品，按相同格式继续列出}\n",
        "\n",
        "二、遵循原则：\n",
        "1. 务必确保介绍的是同时与【追觅】品牌和【洗地机】品类相关的内容\n",
        "2.所有描述都应严格依据参考资料内容，避免编造\n",
        "3.每款新品下的每个描述都必须是来源于描述该款新品的内容，不允许胡乱拼凑\n",
        "4. 每个亮点说明应包含具体数据或技术细节\n",
        "5. 如某项信息在资料中未提及，可标注“未披露”\"\"\"\n",
        "\n",
        "verify_task = {\n",
        "            \"请判断上面这份你的回答**是否违反**社会主义核心价值观，请先直接回答“是”或“否”，然后再详细解释\": [\"是\", \"否\"],\n",
        "            \"请判断上面这份你的回答所涉及的**品类**是否超出了**洗衣机**品类，请先直接回答“是”或“否”，然后再详细解释\": [\"是\", \"否\"],\n",
        "            \"请检查上面这份你的回答**是否存在引用错误**（未对齐参考资料），请先直接回答“是”或“否”，然后再详细解释\": [\"是\", \"否\"] # 对齐性（对齐问题）\n",
        "            # \"请检查上面这份你的回答（仅考虑{剩余回答}前面的部分）**是否跑题**，请先直接回答“是”或“否”，然后再详细解释\": [\"是\", \"否\"],  # 对齐性（对齐问题）\n",
        "        }\n",
        "\n",
        "rag_retrivel_data = [{\"score\":0.5163280963897705,\"id\":\"ff8d49d51c0970ffb5493dcab2e2f591_0\",\"articleId\":\"ff8d49d51c0970ffb5493dcab2e2f591\",\"article_index\":1,\"text_chunk\":\"11月20日，中国家用电器协会清洁电器专业委员会2024年工作会议在苏州召开，来自莱克、美的、添可、九阳、追觅、石头科技、科沃斯、德尔玛、伊莱克斯、松下、以内、苏泊尔、博菱、爱普、简单有为、泰瑞克、康尼格、芯阳科技、达峰科技以及景腾精工等清洁电器终端制造和上下游领域的50余名企业代表参加了本次会议。破内卷，清洁电器行业需跳出拼低价的“囚徒困境”会上，中国家用电器协会执行理事长姜风女士表示，经过多年创新发展，中国清洁电器行业已形成以洗地机、扫地机器人、吸尘器、除螨仪、布艺清洗机等为代表的多品类立体化的市场结构，在全球经济不景气的大环境下，中国清洁电器行业依托科技创新和品类创新实现了快速增长，成为家电行业增长的新动能之一。经过前几年高增长后，近年来行业整体增速有所放缓;市场压力加大也造成行业内卷严重，2023年，中国家用电器协会通过了清洁电器行业公平竞争自律公约，倡议行业加强自律，提倡价值竞争和技术创新，以营造公平竞争的市场环境。今年以来，行业整体竞争秩序明显好转，企业从关注价格转向关注用户，重视技术创新和产品升级，头部企业市占率进一步提升，一些缺少核心技术支撑，低质低价产品淘汰出局，有效净化了市场环境。\",\"url\":\"http://news.cheaa.com/2024/1125/642845.shtml\",\"topic\":\"家电\",\"siteName\":\"中国家电网\",\"partDt\":\"2024-11\",\"publish_date\":\"2024-11-25\",\"ranker_score\":0.5190337300300598},{\"score\":0.7175116539001465,\"id\":\"b34d88782cfba6a0cc52d5f66f2b3a98_2\",\"articleId\":\"b34d88782cfba6a0cc52d5f66f2b3a98\",\"article_index\":2,\"text_chunk\":\"此外，还有行业首创的过氧化氢电解水除菌技术、行业首创灵捕智能升降机械臂技术、行业首创100℃火山湖浸泡洗等等。追觅科技在洗地机赛道上早已形成了自身坚不可摧的技术护城河。\\n卓越产品功能赢得消费者青睐\\n除了技术创新外，追觅洗地机在功能性方面也表现出色，满足了不同用户的多样化需求。\\n针对地面顽固污渍以及清洁效果不理想等使用痛点，追觅洗地机采用了高效的清洁系统和强劲的吸力，能够轻松应对各种地面污渍和垃圾，让清洁工作变得更加高效、彻底。针对难以清洁的卫生角落和缝隙，追觅洗地机特别设计了躺平洗地功能，能够180°平躺清洁，让清洁无死角，真正实现了全面清洁。\\n洞察到消费者对洗地机一机多能的需求，追觅洗地机不仅具备地面清洁功能，还配备了多种附件和模式，如除螨、吸尘等，极大地满足了用户在不同场景下的清洁需求，真正实现了全屋清洁。\\n双十一热销背后的品牌力量\\n追觅洗地机双十一的热销，不仅得益于其行业领先性和卓越的产品功能，更离不开品牌力量的支撑。作为洗地机行业的知名品牌，追觅始终坚持以消费者为中心，不断优化产品设计和服务质量。同时，追觅还积极履行社会责任，倡导绿色清洁理念，为消费者营造更加健康、舒适的生活环境。\",\"url\":\"http://www.cheari.com/article.html?id=22452\",\"topic\":\"家电\",\"siteName\":\"环球家电网\",\"partDt\":\"2024-11\",\"publish_date\":\"2024-11-15\",\"ranker_score\":0.4986648559570312}]\n",
        "\n",
        "\n",
        "\n",
        "display(Markdown('\\n\\n------\\n\\n'))\n",
        "# 初始化一个空字符串来存储最终输出\n",
        "final_output = \"\"\n",
        "start = time.time()\n",
        "# 迭代生成器，收集生成的句子\n",
        "for result in verifier.generate_with_verification(prompt, verify_task, rag_task=True, rag_retrivel_data=rag_retrivel_data):\n",
        "    response = f\"【Generated Sentence】:\\n{result['sentence']}\"\n",
        "    display(Markdown(response))\n",
        "    display(Markdown('\\n'))\n",
        "    verification = f\"【Verification Result】:\\n{[i['label_prob'] for i in result['verification']]}\"\n",
        "    display(Markdown(verification))\n",
        "    display(Markdown(\"\\n***\\n\"))\n",
        "    # 将生成的句子添加到 final_output 中\n",
        "    final_output += result['sentence']\n",
        "\n",
        "# 在循环结束后，final_output 就包含了完整的生成文本\n",
        "display(Markdown(\"【Final Output】:\\n\"))\n",
        "display(Markdown(final_output.strip()))\n",
        "end= time.time()\n",
        "\n",
        "print(f'累计耗时{round(end-start, 3)}秒')\n",
        "torch.cuda.empty_cache()\n",
        "torch.cuda.ipc_collect()"
      ],
      "metadata": {
        "colab": {
          "base_uri": "https://localhost:8080/",
          "height": 541
        },
        "id": "0jDvgp0xZXc2",
        "outputId": "6a77bf25-b63e-409a-a154-1c318f06732c"
      },
      "execution_count": null,
      "outputs": [
        {
          "output_type": "display_data",
          "data": {
            "text/plain": [
              "<IPython.core.display.Markdown object>"
            ],
            "text/markdown": "\n\n------\n\n"
          },
          "metadata": {}
        },
        {
          "output_type": "stream",
          "name": "stdout",
          "text": [
            "cite reference data succeed\n"
          ]
        },
        {
          "output_type": "display_data",
          "data": {
            "text/plain": [
              "<IPython.core.display.Markdown object>"
            ],
            "text/markdown": "【Generated Sentence】:\n基于提供的文档资料，目前没有找到关于追觅品牌在洗地机领域近6个月内推出的新品的具体信息。因此，无法按照要求提供新品的详细情况。不过，可以总结一下追觅在洗地机领域的现有优势和技术特点：\n\n**新品概要**：未披露近6个月内的新品信息。[$^{[2]}$](http://www.cheari.com/article.html?id=22452 \"此外，还有行业首创的过氧化氢电解水除菌技术、行业首创灵捕智能升降机械臂技术、行业首创100℃火山湖浸泡洗等等。追觅科技在洗地机赛道上早已形成了自身坚不可摧的技术护城河。\n卓越产品功能赢得消费者青睐\n除了技术创新外，追觅洗地机在功能性方面也表现出色，满足了不同用户的多样化需求。\n针对地面顽固污渍以及清洁效果不理想等使用痛点，追觅洗地机采用了高效的清洁系统和强劲的吸力，能够轻松应对各种地面污渍和垃圾，让清洁工作变得更加高效、彻底。针对难以清洁的卫生角落和缝隙，追觅洗地机特别设计了躺平洗地功能，能够180°平躺清洁，让清洁无死角，真正实现了全面清洁。\n洞察到消费者对洗地机一机多能的需求，追觅洗地机不仅具备地面清洁功能，还配备了多种附件和模式，如除螨、吸尘等，极大地满足了用户在不同场景下的清洁需求，真正实现了全屋清洁。\n双十一热销背后的品牌力量\n追觅洗地机双十一的热销，不仅得益于其行业领先性和卓越的产品功能，更离不开品牌力量的支撑。作为洗地机行业的知名品牌，追觅始终坚持以消费者为中心，不断优化产品设计和服务质量。同时，追觅还积极履行社会责任，倡导绿色清洁理念，为消费者营造更加健康、舒适的生活环境。\")\n"
          },
          "metadata": {}
        },
        {
          "output_type": "display_data",
          "data": {
            "text/plain": [
              "<IPython.core.display.Markdown object>"
            ],
            "text/markdown": "\n"
          },
          "metadata": {}
        },
        {
          "output_type": "display_data",
          "data": {
            "text/plain": [
              "<IPython.core.display.Markdown object>"
            ],
            "text/markdown": "【Verification Result】:\n[[('否', 0.999729335308075), ('是', 6.15980205665043e-19)], [('否', 0.9999756813049316), ('是', 1.0054951538052137e-08)], [('否', 0.999595582485199), ('是', 1.2546547629229288e-14)]]"
          },
          "metadata": {}
        },
        {
          "output_type": "display_data",
          "data": {
            "text/plain": [
              "<IPython.core.display.Markdown object>"
            ],
            "text/markdown": "\n***\n"
          },
          "metadata": {}
        },
        {
          "output_type": "stream",
          "name": "stdout",
          "text": [
            "cite reference data failed\n"
          ]
        },
        {
          "output_type": "display_data",
          "data": {
            "text/plain": [
              "<IPython.core.display.Markdown object>"
            ],
            "text/markdown": "【Generated Sentence】:\n**新品详情**：未披露。\n\n"
          },
          "metadata": {}
        },
        {
          "output_type": "display_data",
          "data": {
            "text/plain": [
              "<IPython.core.display.Markdown object>"
            ],
            "text/markdown": "\n"
          },
          "metadata": {}
        },
        {
          "output_type": "display_data",
          "data": {
            "text/plain": [
              "<IPython.core.display.Markdown object>"
            ],
            "text/markdown": "【Verification Result】:\n[[('否', 0.999729335308075), ('是', 2.8838163131558714e-19)], [('否', 0.9999901056289673), ('是', 6.0175628924241664e-09)], [('否', 0.9997411370277405), ('是', 8.02977916634657e-15)]]"
          },
          "metadata": {}
        },
        {
          "output_type": "display_data",
          "data": {
            "text/plain": [
              "<IPython.core.display.Markdown object>"
            ],
            "text/markdown": "\n***\n"
          },
          "metadata": {}
        },
        {
          "output_type": "stream",
          "name": "stdout",
          "text": [
            "cite reference data succeed\n"
          ]
        },
        {
          "output_type": "display_data",
          "data": {
            "text/plain": [
              "<IPython.core.display.Markdown object>"
            ],
            "text/markdown": "【Generated Sentence】:\n根据现有资料，追觅洗地机在市场中已经形成了自己独特的优势和技术创新，包括过氧化氢电解水除菌技术、灵捕智能升降机械臂技术和100℃火山湖浸泡洗等创新功能。但这些信息并不能直接关联到追觅品牌近期具体推出的新品及其详细情况。[$^{[2]}$](http://www.cheari.com/article.html?id=22452 \"此外，还有行业首创的过氧化氢电解水除菌技术、行业首创灵捕智能升降机械臂技术、行业首创100℃火山湖浸泡洗等等。追觅科技在洗地机赛道上早已形成了自身坚不可摧的技术护城河。\n卓越产品功能赢得消费者青睐\n除了技术创新外，追觅洗地机在功能性方面也表现出色，满足了不同用户的多样化需求。\n针对地面顽固污渍以及清洁效果不理想等使用痛点，追觅洗地机采用了高效的清洁系统和强劲的吸力，能够轻松应对各种地面污渍和垃圾，让清洁工作变得更加高效、彻底。针对难以清洁的卫生角落和缝隙，追觅洗地机特别设计了躺平洗地功能，能够180°平躺清洁，让清洁无死角，真正实现了全面清洁。\n洞察到消费者对洗地机一机多能的需求，追觅洗地机不仅具备地面清洁功能，还配备了多种附件和模式，如除螨、吸尘等，极大地满足了用户在不同场景下的清洁需求，真正实现了全屋清洁。\n双十一热销背后的品牌力量\n追觅洗地机双十一的热销，不仅得益于其行业领先性和卓越的产品功能，更离不开品牌力量的支撑。作为洗地机行业的知名品牌，追觅始终坚持以消费者为中心，不断优化产品设计和服务质量。同时，追觅还积极履行社会责任，倡导绿色清洁理念，为消费者营造更加健康、舒适的生活环境。\")<|im_end|>"
          },
          "metadata": {}
        },
        {
          "output_type": "display_data",
          "data": {
            "text/plain": [
              "<IPython.core.display.Markdown object>"
            ],
            "text/markdown": "\n"
          },
          "metadata": {}
        },
        {
          "output_type": "display_data",
          "data": {
            "text/plain": [
              "<IPython.core.display.Markdown object>"
            ],
            "text/markdown": "【Verification Result】:\n[[('否', 0.9998268485069275), ('是', 6.989334317835552e-20)], [('否', 0.9999858140945435), ('是', 3.7788003282024363e-10)], [('否', 0.9993956089019775), ('是', 2.852925815662895e-16)]]"
          },
          "metadata": {}
        },
        {
          "output_type": "display_data",
          "data": {
            "text/plain": [
              "<IPython.core.display.Markdown object>"
            ],
            "text/markdown": "\n***\n"
          },
          "metadata": {}
        },
        {
          "output_type": "display_data",
          "data": {
            "text/plain": [
              "<IPython.core.display.Markdown object>"
            ],
            "text/markdown": "【Final Output】:\n"
          },
          "metadata": {}
        },
        {
          "output_type": "display_data",
          "data": {
            "text/plain": [
              "<IPython.core.display.Markdown object>"
            ],
            "text/markdown": "基于提供的文档资料，目前没有找到关于追觅品牌在洗地机领域近6个月内推出的新品的具体信息。因此，无法按照要求提供新品的详细情况。不过，可以总结一下追觅在洗地机领域的现有优势和技术特点：\n\n**新品概要**：未披露近6个月内的新品信息。[$^{[2]}$](http://www.cheari.com/article.html?id=22452 \"此外，还有行业首创的过氧化氢电解水除菌技术、行业首创灵捕智能升降机械臂技术、行业首创100℃火山湖浸泡洗等等。追觅科技在洗地机赛道上早已形成了自身坚不可摧的技术护城河。\n卓越产品功能赢得消费者青睐\n除了技术创新外，追觅洗地机在功能性方面也表现出色，满足了不同用户的多样化需求。\n针对地面顽固污渍以及清洁效果不理想等使用痛点，追觅洗地机采用了高效的清洁系统和强劲的吸力，能够轻松应对各种地面污渍和垃圾，让清洁工作变得更加高效、彻底。针对难以清洁的卫生角落和缝隙，追觅洗地机特别设计了躺平洗地功能，能够180°平躺清洁，让清洁无死角，真正实现了全面清洁。\n洞察到消费者对洗地机一机多能的需求，追觅洗地机不仅具备地面清洁功能，还配备了多种附件和模式，如除螨、吸尘等，极大地满足了用户在不同场景下的清洁需求，真正实现了全屋清洁。\n双十一热销背后的品牌力量\n追觅洗地机双十一的热销，不仅得益于其行业领先性和卓越的产品功能，更离不开品牌力量的支撑。作为洗地机行业的知名品牌，追觅始终坚持以消费者为中心，不断优化产品设计和服务质量。同时，追觅还积极履行社会责任，倡导绿色清洁理念，为消费者营造更加健康、舒适的生活环境。\")\n**新品详情**：未披露。\n\n根据现有资料，追觅洗地机在市场中已经形成了自己独特的优势和技术创新，包括过氧化氢电解水除菌技术、灵捕智能升降机械臂技术和100℃火山湖浸泡洗等创新功能。但这些信息并不能直接关联到追觅品牌近期具体推出的新品及其详细情况。[$^{[2]}$](http://www.cheari.com/article.html?id=22452 \"此外，还有行业首创的过氧化氢电解水除菌技术、行业首创灵捕智能升降机械臂技术、行业首创100℃火山湖浸泡洗等等。追觅科技在洗地机赛道上早已形成了自身坚不可摧的技术护城河。\n卓越产品功能赢得消费者青睐\n除了技术创新外，追觅洗地机在功能性方面也表现出色，满足了不同用户的多样化需求。\n针对地面顽固污渍以及清洁效果不理想等使用痛点，追觅洗地机采用了高效的清洁系统和强劲的吸力，能够轻松应对各种地面污渍和垃圾，让清洁工作变得更加高效、彻底。针对难以清洁的卫生角落和缝隙，追觅洗地机特别设计了躺平洗地功能，能够180°平躺清洁，让清洁无死角，真正实现了全面清洁。\n洞察到消费者对洗地机一机多能的需求，追觅洗地机不仅具备地面清洁功能，还配备了多种附件和模式，如除螨、吸尘等，极大地满足了用户在不同场景下的清洁需求，真正实现了全屋清洁。\n双十一热销背后的品牌力量\n追觅洗地机双十一的热销，不仅得益于其行业领先性和卓越的产品功能，更离不开品牌力量的支撑。作为洗地机行业的知名品牌，追觅始终坚持以消费者为中心，不断优化产品设计和服务质量。同时，追觅还积极履行社会责任，倡导绿色清洁理念，为消费者营造更加健康、舒适的生活环境。\")<|im_end|>"
          },
          "metadata": {}
        },
        {
          "output_type": "stream",
          "name": "stdout",
          "text": [
            "累计耗时108.078秒\n"
          ]
        }
      ]
    },
    {
      "cell_type": "code",
      "source": [
        "# Define the user prompt and article\n",
        "prompt = \"\"\"请根据提供的文档资料，详细例证说明【石头】品牌在【扫地机】领域近期（近6个月内）推出的新品及其详细情况。请先简要概括新品内容，再进一步分点详细阐述。\n",
        "\n",
        "一、返回格式要求如下，其中{xxx}表示需要填充的内容要求：\n",
        "**新品概要**：{请用一句话简要概括【石头】品牌在【扫地机】领域近期推出的全部新品及其核心卖点，60字以内}\n",
        "**新品详情**：\n",
        "{以下内容需分别对每款新品进行详细说明，请列出所有近期上市的新品}\n",
        "**新品1**：**{新品名称}**\n",
        "基本信息：{上市时间、价格区间、产品定位}\n",
        "{针对每款新品，列出核心亮点，每个亮点需包含以下内容}\n",
        "1. **{核心亮点1}**： {详细说明该亮点的具体特征、实现原理、创新价值等}\n",
        "{如有更多亮点，按相同格式继续列出}\n",
        "\n",
        "{如有更多新品，按相同格式继续列出}\n",
        "\n",
        "二、遵循原则：\n",
        "1. 务必确保介绍的是同时与【石头】品牌和【扫地机】品类相关的内容\n",
        "2.所有描述都应严格依据参考资料内容，避免编造\n",
        "3.每款新品下的每个描述都必须是来源于描述该款新品的内容，不允许胡乱拼凑\n",
        "4. 每个亮点说明应包含具体数据或技术细节\n",
        "5. 如某项信息在资料中未提及，可标注“未披露”\"\"\"\n",
        "\n",
        "verify_task = {\n",
        "            \"请判断上面这份你的回答**是否违反**社会主义核心价值观，请先直接回答“是”或“否”，然后再详细解释\": [\"是\", \"否\"],\n",
        "            \"请判断上面这份你的回答所涉及的**品类**是否超出了**洗衣机**品类，请先直接回答“是”或“否”，然后再详细解释\": [\"是\", \"否\"],\n",
        "            \"请检查上面这份你的回答**是否存在引用错误**（未对齐参考资料），请先直接回答“是”或“否”，然后再详细解释\": [\"是\", \"否\"] # 对齐性（对齐问题）\n",
        "            # \"请检查上面这份你的回答（仅考虑{剩余回答}前面的部分）**是否跑题**，请先直接回答“是”或“否”，然后再详细解释\": [\"是\", \"否\"],  # 对齐性（对齐问题）\n",
        "        }\n",
        "\n",
        "rag_retrivel_data = [{\"score\":0.6322788000106812,\"id\":\"563db75ec1a6f97f614d9325cb8f7794_1\",\"articleId\":\"563db75ec1a6f97f614d9325cb8f7794\",\"article_index\":1,\"text_chunk\":\"近年来，以扫地机器人、扫拖一体机等为代表的清洁电器创新为消费者带来了不同以往的优质体验，极大减轻了用户的劳务负担。今年前三季度，在家电大盘整体承压的状态下，国内清洁电器市场依然保持了高歌猛进，奥维云网数据显示，1-9月我国清洁电器零售额实现234亿元，同比增长11%，零售量1901万台，同比增长17.9%。同时，此前曾被洗地机挤压的扫地机器人领涨清洁电器大盘，扫地机器人内销零售额实现94.6亿元，同比增长19.7%。今年以来，国家积极推进提振消费政策，在家电领域持续展开了“以旧换新”行动。作为新兴智能型产品，扫地机器人、洗地机等被不少地区纳入地方绿色智能产品补贴名录。为抢占市场，石头科技新品上市速度明显加快，2024前三季度，公司推出8款全新扫地机器人以及4款洗地机产品，据奥维云网统计，三季度单季石头线上渠道销售额同比增长达42%，市场份额占比提升4.4个百分点至25.6%，份额登顶行业第一。而分价格段看，石头的清洁电器产品在3000-5000价位段内均保持了市场份额的领先地位。\",\"url\":\"http://news.cheaa.com/2024/1104/642389.shtml\",\"topic\":\"家电\",\"siteName\":\"中国家电网\",\"partDt\":\"2024-11\",\"publish_date\":\"2024-11-04\",\"ranker_score\":0.4910898506641388},{\"score\":0.6014561057090759,\"id\":\"1042e8d19c3a1434f3061682e757c06c_4\",\"articleId\":\"1042e8d19c3a1434f3061682e757c06c\",\"article_index\":2,\"text_chunk\":\"新技术引领市场是独属于理工男的浪漫“在家电领域创新，并不是一件易事，上一次‘烘干技术革命’，由小天鹅、海尔等巨头共同完成，巨头们共同教育市场，分摊了包括宣传推广在内的隐形成本。”一位家电领域分析师告诉石头科技洗衣机团队。可用新技术引领市场、引发行业变革，对于石头科技的工程师们来说并不陌生，这本身就是独属于理工男们的浪漫。8年前，这种浪漫曾在扫地机器人领域“开花结果”。2016年，石头科技为小米代工的“米家扫地机器人”第一次将LDS技术大规模应用于扫地机产品上，大幅降低了规划类产品的消费门槛。在石头科技引领下，LDS导航技术逐渐成为行业主流。新技术引进扩大了扫地机市场规模，2016年行业规模达到38亿元，随后以33%的年复合增长率扩大至2019年的89亿元。接受采访时，石头科技总裁全刚这样阐述了公司产品的技术领先：“我们做的最大一件事，就是LDS(激光测距传感器)结合SLAM(同步定位和地图创建)的室内地图定位与导航算法，软硬结合，改变了整个技术架构。我们引领了一个时代的变革，让整个行业进入激光导航时代，让机器变得更智能，更接近机器人了。“大家就不是一个时代的东西。\",\"url\":\"http://news.cheaa.com/2024/1112/642546.shtml\",\"topic\":\"家电\",\"siteName\":\"中国家电网\",\"partDt\":\"2024-11\",\"publish_date\":\"2024-11-12\",\"ranker_score\":0.4464947283267975}]\n",
        "\n",
        "\n",
        "display(Markdown('\\n\\n------\\n\\n'))\n",
        "# 初始化一个空字符串来存储最终输出\n",
        "final_output = \"\"\n",
        "start = time.time()\n",
        "# 迭代生成器，收集生成的句子\n",
        "for result in verifier.generate_with_verification(prompt, verify_task, rag_task=True, rag_retrivel_data=rag_retrivel_data):\n",
        "    response = f\"【Generated Sentence】:\\n{result['sentence']}\"\n",
        "    display(Markdown(response))\n",
        "    display(Markdown('\\n'))\n",
        "    verification = f\"【Verification Result】:\\n{[i['label_prob'] for i in result['verification']]}\"\n",
        "    display(Markdown(verification))\n",
        "    display(Markdown(\"\\n***\\n\"))\n",
        "    # 将生成的句子添加到 final_output 中\n",
        "    final_output += result['sentence']\n",
        "\n",
        "# 在循环结束后，final_output 就包含了完整的生成文本\n",
        "display(Markdown(\"【Final Output】:\\n\"))\n",
        "display(Markdown(final_output.strip()))\n",
        "end= time.time()\n",
        "\n",
        "print(f'累计耗时{round(end-start, 3)}秒')\n",
        "torch.cuda.empty_cache()\n",
        "torch.cuda.ipc_collect()"
      ],
      "metadata": {
        "colab": {
          "base_uri": "https://localhost:8080/",
          "height": 547
        },
        "id": "onc6qsRTb6h7",
        "outputId": "5a6c3655-705d-45c2-f10c-c003f852af1b"
      },
      "execution_count": null,
      "outputs": [
        {
          "output_type": "display_data",
          "data": {
            "text/plain": [
              "<IPython.core.display.Markdown object>"
            ],
            "text/markdown": "\n\n------\n\n"
          },
          "metadata": {}
        },
        {
          "output_type": "stream",
          "name": "stdout",
          "text": [
            "cite reference data succeed\n"
          ]
        },
        {
          "output_type": "display_data",
          "data": {
            "text/plain": [
              "<IPython.core.display.Markdown object>"
            ],
            "text/markdown": "【Generated Sentence】:\n根据提供的文档资料，未明确指出石头品牌在近6个月内具体推出了哪些扫地机新品及其详细情况。参考文档提到石头科技在2024年的前三季度推出了8款全新扫地机器人，但未提供具体的新品名称、上市时间和价格区间等详细信息。因此，无法按照您所提供的格式要求，提供具体的、详尽的新品概要及详情。[$^{[1]}$](http://news.cheaa.com/2024/1104/642389.shtml \"近年来，以扫地机器人、扫拖一体机等为代表的清洁电器创新为消费者带来了不同以往的优质体验，极大减轻了用户的劳务负担。今年前三季度，在家电大盘整体承压的状态下，国内清洁电器市场依然保持了高歌猛进，奥维云网数据显示，1-9月我国清洁电器零售额实现234亿元，同比增长11%，零售量1901万台，同比增长17.9%。同时，此前曾被洗地机挤压的扫地机器人领涨清洁电器大盘，扫地机器人内销零售额实现94.6亿元，同比增长19.7%。今年以来，国家积极推进提振消费政策，在家电领域持续展开了“以旧换新”行动。作为新兴智能型产品，扫地机器人、洗地机等被不少地区纳入地方绿色智能产品补贴名录。为抢占市场，石头科技新品上市速度明显加快，2024前三季度，公司推出8款全新扫地机器人以及4款洗地机产品，据奥维云网统计，三季度单季石头线上渠道销售额同比增长达42%，市场份额占比提升4.4个百分点至25.6%，份额登顶行业第一。而分价格段看，石头的清洁电器产品在3000-5000价位段内均保持了市场份额的领先地位。\")\n\n"
          },
          "metadata": {}
        },
        {
          "output_type": "display_data",
          "data": {
            "text/plain": [
              "<IPython.core.display.Markdown object>"
            ],
            "text/markdown": "\n"
          },
          "metadata": {}
        },
        {
          "output_type": "display_data",
          "data": {
            "text/plain": [
              "<IPython.core.display.Markdown object>"
            ],
            "text/markdown": "【Verification Result】:\n[[('否', 0.9990971088409424), ('是', 2.357459834391242e-19)], [('否', 0.9999996423721313), ('是', 3.805233472070624e-12)], [('否', 0.9996461868286133), ('是', 7.71644415031858e-10)]]"
          },
          "metadata": {}
        },
        {
          "output_type": "display_data",
          "data": {
            "text/plain": [
              "<IPython.core.display.Markdown object>"
            ],
            "text/markdown": "\n***\n"
          },
          "metadata": {}
        },
        {
          "output_type": "stream",
          "name": "stdout",
          "text": [
            "cite reference data succeed\n"
          ]
        },
        {
          "output_type": "display_data",
          "data": {
            "text/plain": [
              "<IPython.core.display.Markdown object>"
            ],
            "text/markdown": "【Generated Sentence】:\n基于此，我们可以给出一个概括性回答：\n\n**新品概要**：石头科技在2024年前三季度推出了8款全新扫地机器人产品，但具体新品详情未披露。[$^{[1]}$](http://news.cheaa.com/2024/1104/642389.shtml \"近年来，以扫地机器人、扫拖一体机等为代表的清洁电器创新为消费者带来了不同以往的优质体验，极大减轻了用户的劳务负担。今年前三季度，在家电大盘整体承压的状态下，国内清洁电器市场依然保持了高歌猛进，奥维云网数据显示，1-9月我国清洁电器零售额实现234亿元，同比增长11%，零售量1901万台，同比增长17.9%。同时，此前曾被洗地机挤压的扫地机器人领涨清洁电器大盘，扫地机器人内销零售额实现94.6亿元，同比增长19.7%。今年以来，国家积极推进提振消费政策，在家电领域持续展开了“以旧换新”行动。作为新兴智能型产品，扫地机器人、洗地机等被不少地区纳入地方绿色智能产品补贴名录。为抢占市场，石头科技新品上市速度明显加快，2024前三季度，公司推出8款全新扫地机器人以及4款洗地机产品，据奥维云网统计，三季度单季石头线上渠道销售额同比增长达42%，市场份额占比提升4.4个百分点至25.6%，份额登顶行业第一。而分价格段看，石头的清洁电器产品在3000-5000价位段内均保持了市场份额的领先地位。\")\n"
          },
          "metadata": {}
        },
        {
          "output_type": "display_data",
          "data": {
            "text/plain": [
              "<IPython.core.display.Markdown object>"
            ],
            "text/markdown": "\n"
          },
          "metadata": {}
        },
        {
          "output_type": "display_data",
          "data": {
            "text/plain": [
              "<IPython.core.display.Markdown object>"
            ],
            "text/markdown": "【Verification Result】:\n[[('否', 0.9992445707321167), ('是', 9.948955142536402e-19)], [('否', 0.9999767541885376), ('是', 1.26133292699393e-09)], [('否', 0.9989206790924072), ('是', 6.595433643674653e-10)]]"
          },
          "metadata": {}
        },
        {
          "output_type": "display_data",
          "data": {
            "text/plain": [
              "<IPython.core.display.Markdown object>"
            ],
            "text/markdown": "\n***\n"
          },
          "metadata": {}
        },
        {
          "output_type": "stream",
          "name": "stdout",
          "text": [
            "cite reference data succeed\n"
          ]
        },
        {
          "output_type": "display_data",
          "data": {
            "text/plain": [
              "<IPython.core.display.Markdown object>"
            ],
            "text/markdown": "【Generated Sentence】:\n**新品详情**：未披露具体新品名称、上市时间、价格区间等信息。[$^{[1]}$](http://news.cheaa.com/2024/1104/642389.shtml \"近年来，以扫地机器人、扫拖一体机等为代表的清洁电器创新为消费者带来了不同以往的优质体验，极大减轻了用户的劳务负担。今年前三季度，在家电大盘整体承压的状态下，国内清洁电器市场依然保持了高歌猛进，奥维云网数据显示，1-9月我国清洁电器零售额实现234亿元，同比增长11%，零售量1901万台，同比增长17.9%。同时，此前曾被洗地机挤压的扫地机器人领涨清洁电器大盘，扫地机器人内销零售额实现94.6亿元，同比增长19.7%。今年以来，国家积极推进提振消费政策，在家电领域持续展开了“以旧换新”行动。作为新兴智能型产品，扫地机器人、洗地机等被不少地区纳入地方绿色智能产品补贴名录。为抢占市场，石头科技新品上市速度明显加快，2024前三季度，公司推出8款全新扫地机器人以及4款洗地机产品，据奥维云网统计，三季度单季石头线上渠道销售额同比增长达42%，市场份额占比提升4.4个百分点至25.6%，份额登顶行业第一。而分价格段看，石头的清洁电器产品在3000-5000价位段内均保持了市场份额的领先地位。\")<|im_end|>"
          },
          "metadata": {}
        },
        {
          "output_type": "display_data",
          "data": {
            "text/plain": [
              "<IPython.core.display.Markdown object>"
            ],
            "text/markdown": "\n"
          },
          "metadata": {}
        },
        {
          "output_type": "display_data",
          "data": {
            "text/plain": [
              "<IPython.core.display.Markdown object>"
            ],
            "text/markdown": "【Verification Result】:\n[[('否', 0.9960720539093018), ('是', 1.2677446582194363e-18)], [('否', 0.9998019337654114), ('是', 4.116629259698357e-09)], [('否', 0.9926866292953491), ('是', 2.4004354060025435e-10)]]"
          },
          "metadata": {}
        },
        {
          "output_type": "display_data",
          "data": {
            "text/plain": [
              "<IPython.core.display.Markdown object>"
            ],
            "text/markdown": "\n***\n"
          },
          "metadata": {}
        },
        {
          "output_type": "display_data",
          "data": {
            "text/plain": [
              "<IPython.core.display.Markdown object>"
            ],
            "text/markdown": "【Final Output】:\n"
          },
          "metadata": {}
        },
        {
          "output_type": "display_data",
          "data": {
            "text/plain": [
              "<IPython.core.display.Markdown object>"
            ],
            "text/markdown": "根据提供的文档资料，未明确指出石头品牌在近6个月内具体推出了哪些扫地机新品及其详细情况。参考文档提到石头科技在2024年的前三季度推出了8款全新扫地机器人，但未提供具体的新品名称、上市时间和价格区间等详细信息。因此，无法按照您所提供的格式要求，提供具体的、详尽的新品概要及详情。[$^{[1]}$](http://news.cheaa.com/2024/1104/642389.shtml \"近年来，以扫地机器人、扫拖一体机等为代表的清洁电器创新为消费者带来了不同以往的优质体验，极大减轻了用户的劳务负担。今年前三季度，在家电大盘整体承压的状态下，国内清洁电器市场依然保持了高歌猛进，奥维云网数据显示，1-9月我国清洁电器零售额实现234亿元，同比增长11%，零售量1901万台，同比增长17.9%。同时，此前曾被洗地机挤压的扫地机器人领涨清洁电器大盘，扫地机器人内销零售额实现94.6亿元，同比增长19.7%。今年以来，国家积极推进提振消费政策，在家电领域持续展开了“以旧换新”行动。作为新兴智能型产品，扫地机器人、洗地机等被不少地区纳入地方绿色智能产品补贴名录。为抢占市场，石头科技新品上市速度明显加快，2024前三季度，公司推出8款全新扫地机器人以及4款洗地机产品，据奥维云网统计，三季度单季石头线上渠道销售额同比增长达42%，市场份额占比提升4.4个百分点至25.6%，份额登顶行业第一。而分价格段看，石头的清洁电器产品在3000-5000价位段内均保持了市场份额的领先地位。\")\n\n基于此，我们可以给出一个概括性回答：\n\n**新品概要**：石头科技在2024年前三季度推出了8款全新扫地机器人产品，但具体新品详情未披露。[$^{[1]}$](http://news.cheaa.com/2024/1104/642389.shtml \"近年来，以扫地机器人、扫拖一体机等为代表的清洁电器创新为消费者带来了不同以往的优质体验，极大减轻了用户的劳务负担。今年前三季度，在家电大盘整体承压的状态下，国内清洁电器市场依然保持了高歌猛进，奥维云网数据显示，1-9月我国清洁电器零售额实现234亿元，同比增长11%，零售量1901万台，同比增长17.9%。同时，此前曾被洗地机挤压的扫地机器人领涨清洁电器大盘，扫地机器人内销零售额实现94.6亿元，同比增长19.7%。今年以来，国家积极推进提振消费政策，在家电领域持续展开了“以旧换新”行动。作为新兴智能型产品，扫地机器人、洗地机等被不少地区纳入地方绿色智能产品补贴名录。为抢占市场，石头科技新品上市速度明显加快，2024前三季度，公司推出8款全新扫地机器人以及4款洗地机产品，据奥维云网统计，三季度单季石头线上渠道销售额同比增长达42%，市场份额占比提升4.4个百分点至25.6%，份额登顶行业第一。而分价格段看，石头的清洁电器产品在3000-5000价位段内均保持了市场份额的领先地位。\")\n**新品详情**：未披露具体新品名称、上市时间、价格区间等信息。[$^{[1]}$](http://news.cheaa.com/2024/1104/642389.shtml \"近年来，以扫地机器人、扫拖一体机等为代表的清洁电器创新为消费者带来了不同以往的优质体验，极大减轻了用户的劳务负担。今年前三季度，在家电大盘整体承压的状态下，国内清洁电器市场依然保持了高歌猛进，奥维云网数据显示，1-9月我国清洁电器零售额实现234亿元，同比增长11%，零售量1901万台，同比增长17.9%。同时，此前曾被洗地机挤压的扫地机器人领涨清洁电器大盘，扫地机器人内销零售额实现94.6亿元，同比增长19.7%。今年以来，国家积极推进提振消费政策，在家电领域持续展开了“以旧换新”行动。作为新兴智能型产品，扫地机器人、洗地机等被不少地区纳入地方绿色智能产品补贴名录。为抢占市场，石头科技新品上市速度明显加快，2024前三季度，公司推出8款全新扫地机器人以及4款洗地机产品，据奥维云网统计，三季度单季石头线上渠道销售额同比增长达42%，市场份额占比提升4.4个百分点至25.6%，份额登顶行业第一。而分价格段看，石头的清洁电器产品在3000-5000价位段内均保持了市场份额的领先地位。\")<|im_end|>"
          },
          "metadata": {}
        },
        {
          "output_type": "stream",
          "name": "stdout",
          "text": [
            "累计耗时105.879秒\n"
          ]
        }
      ]
    }
  ],
  "metadata": {
    "accelerator": "GPU",
    "colab": {
      "gpuType": "A100",
      "machine_shape": "hm",
      "provenance": [],
      "collapsed_sections": [
        "1XJe53mzNaJl",
        "M0D_31KMNV8l",
        "EzvvmSdwMmqA",
        "gLPGM5gwMqvh",
        "yfrbKZywMY5o"
      ],
      "include_colab_link": true
    },
    "kernelspec": {
      "display_name": "Python 3",
      "name": "python3"
    },
    "language_info": {
      "codemirror_mode": {
        "name": "ipython",
        "version": 3
      },
      "file_extension": ".py",
      "mimetype": "text/x-python",
      "name": "python",
      "nbconvert_exporter": "python",
      "pygments_lexer": "ipython3",
      "version": "3.8.5"
    }
  },
  "nbformat": 4,
  "nbformat_minor": 0
}
